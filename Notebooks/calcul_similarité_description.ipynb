{
 "cells": [
  {
   "cell_type": "markdown",
   "id": "9fd80d62",
   "metadata": {
    "id": "9fd80d62",
    "tags": []
   },
   "source": [
    "# Importation des données"
   ]
  },
  {
   "cell_type": "code",
   "execution_count": 105,
   "id": "f2561ec2-d310-400e-9d95-1eff6c9b95d1",
   "metadata": {
    "tags": []
   },
   "outputs": [],
   "source": [
    "# pip install POT"
   ]
  },
  {
   "cell_type": "code",
   "execution_count": 90,
   "id": "67d55eca",
   "metadata": {
    "id": "67d55eca",
    "tags": []
   },
   "outputs": [],
   "source": [
    "# pip install google-colab\n",
    "# !pip install nltk\n",
    "# nltk.download()"
   ]
  },
  {
   "cell_type": "code",
   "execution_count": 1,
   "id": "17322502",
   "metadata": {
    "executionInfo": {
     "elapsed": 2428,
     "status": "ok",
     "timestamp": 1699466018451,
     "user": {
      "displayName": "Romain MARLET",
      "userId": "18112648248908016912"
     },
     "user_tz": -60
    },
    "id": "17322502",
    "tags": []
   },
   "outputs": [],
   "source": [
    "import pandas as pd\n",
    "import numpy as np\n",
    "from sklearn.feature_extraction.text import TfidfVectorizer"
   ]
  },
  {
   "cell_type": "code",
   "execution_count": 7,
   "id": "d624e5a8",
   "metadata": {
    "executionInfo": {
     "elapsed": 2848,
     "status": "ok",
     "timestamp": 1699466021297,
     "user": {
      "displayName": "Romain MARLET",
      "userId": "18112648248908016912"
     },
     "user_tz": -60
    },
    "id": "d624e5a8",
    "tags": []
   },
   "outputs": [],
   "source": [
    "file_path = \"../Data/companies_description.csv\"\n",
    "data = pd.read_csv(file_path)\n",
    "data = data.drop(columns='Unnamed: 0')\n",
    "\n",
    "condition = (data['companyName'].isna()) | (data['description'].isna() | data['country'].isna())\n",
    "index_to_drop = data[condition].index\n",
    "data = data.drop(index_to_drop)\n",
    "\n",
    "data = data.reset_index(drop=True)"
   ]
  },
  {
   "cell_type": "code",
   "execution_count": 3,
   "id": "37e283e5",
   "metadata": {
    "colab": {
     "base_uri": "https://localhost:8080/",
     "height": 423
    },
    "executionInfo": {
     "elapsed": 12,
     "status": "ok",
     "timestamp": 1699423852860,
     "user": {
      "displayName": "mohamed didi",
      "userId": "12459858373354554760"
     },
     "user_tz": -60
    },
    "id": "37e283e5",
    "outputId": "197958d1-e81f-4e52-91d9-4418a5701e5c",
    "tags": []
   },
   "outputs": [
    {
     "data": {
      "text/html": [
       "<div>\n",
       "<style scoped>\n",
       "    .dataframe tbody tr th:only-of-type {\n",
       "        vertical-align: middle;\n",
       "    }\n",
       "\n",
       "    .dataframe tbody tr th {\n",
       "        vertical-align: top;\n",
       "    }\n",
       "\n",
       "    .dataframe thead th {\n",
       "        text-align: right;\n",
       "    }\n",
       "</style>\n",
       "<table border=\"1\" class=\"dataframe\">\n",
       "  <thead>\n",
       "    <tr style=\"text-align: right;\">\n",
       "      <th></th>\n",
       "      <th>companyName</th>\n",
       "      <th>exchange</th>\n",
       "      <th>industry</th>\n",
       "      <th>website</th>\n",
       "      <th>description</th>\n",
       "      <th>sector</th>\n",
       "      <th>country</th>\n",
       "    </tr>\n",
       "  </thead>\n",
       "  <tbody>\n",
       "    <tr>\n",
       "      <th>0</th>\n",
       "      <td>Visa Inc.</td>\n",
       "      <td>New York Stock Exchange</td>\n",
       "      <td>Credit Services</td>\n",
       "      <td>https://usa.visa.com</td>\n",
       "      <td>Visa Inc. operates as a payments technology co...</td>\n",
       "      <td>Financial Services</td>\n",
       "      <td>US</td>\n",
       "    </tr>\n",
       "    <tr>\n",
       "      <th>1</th>\n",
       "      <td>Texas Roadhouse, Inc.</td>\n",
       "      <td>NASDAQ Global Select</td>\n",
       "      <td>Restaurants</td>\n",
       "      <td>https://www.texasroadhouse.com</td>\n",
       "      <td>Texas Roadhouse, Inc., together with its subsi...</td>\n",
       "      <td>Consumer Cyclical</td>\n",
       "      <td>US</td>\n",
       "    </tr>\n",
       "    <tr>\n",
       "      <th>2</th>\n",
       "      <td>Lamb Weston Holdings, Inc.</td>\n",
       "      <td>New York Stock Exchange</td>\n",
       "      <td>Packaged Foods</td>\n",
       "      <td>https://www.lambweston.com</td>\n",
       "      <td>Lamb Weston Holdings, Inc. produces, distribut...</td>\n",
       "      <td>Consumer Defensive</td>\n",
       "      <td>US</td>\n",
       "    </tr>\n",
       "    <tr>\n",
       "      <th>3</th>\n",
       "      <td>Intact Financial Corporation</td>\n",
       "      <td>Toronto Stock Exchange</td>\n",
       "      <td>Insurance—Property &amp; Casualty</td>\n",
       "      <td>https://www.intactfc.com</td>\n",
       "      <td>Intact Financial Corporation, through its subs...</td>\n",
       "      <td>Financial Services</td>\n",
       "      <td>CA</td>\n",
       "    </tr>\n",
       "    <tr>\n",
       "      <th>4</th>\n",
       "      <td>OPKO Health, Inc.</td>\n",
       "      <td>NASDAQ Global Select</td>\n",
       "      <td>Diagnostics &amp; Research</td>\n",
       "      <td>https://www.opko.com</td>\n",
       "      <td>OPKO Health, Inc., a healthcare company, engag...</td>\n",
       "      <td>Healthcare</td>\n",
       "      <td>US</td>\n",
       "    </tr>\n",
       "    <tr>\n",
       "      <th>...</th>\n",
       "      <td>...</td>\n",
       "      <td>...</td>\n",
       "      <td>...</td>\n",
       "      <td>...</td>\n",
       "      <td>...</td>\n",
       "      <td>...</td>\n",
       "      <td>...</td>\n",
       "    </tr>\n",
       "    <tr>\n",
       "      <th>37579</th>\n",
       "      <td>Relativity Acquisition Corp.</td>\n",
       "      <td>NASDAQ Global Market</td>\n",
       "      <td>Shell Companies</td>\n",
       "      <td>https://www.relativityacquisitions.com</td>\n",
       "      <td>Relativity Acquisition Corp. does not have sig...</td>\n",
       "      <td>Financial Services</td>\n",
       "      <td>US</td>\n",
       "    </tr>\n",
       "    <tr>\n",
       "      <th>37580</th>\n",
       "      <td>Prima Industrie SpA</td>\n",
       "      <td>Milan</td>\n",
       "      <td>Specialty Industrial Machinery</td>\n",
       "      <td>https://www.primaindustrie.com</td>\n",
       "      <td>Prima Industrie SpA develops, manufactures, an...</td>\n",
       "      <td>Industrials</td>\n",
       "      <td>IT</td>\n",
       "    </tr>\n",
       "    <tr>\n",
       "      <th>37581</th>\n",
       "      <td>PT Putra Rajawali Kencana Tbk</td>\n",
       "      <td>Jakarta Stock Exchange</td>\n",
       "      <td>Trucking</td>\n",
       "      <td>https://puratrans.com</td>\n",
       "      <td>PT Putra Rajawali Kencana Tbk engages in the t...</td>\n",
       "      <td>Industrials</td>\n",
       "      <td>ID</td>\n",
       "    </tr>\n",
       "    <tr>\n",
       "      <th>37582</th>\n",
       "      <td>Agritek Holdings, Inc.</td>\n",
       "      <td>Other OTC</td>\n",
       "      <td>Real Estate Services</td>\n",
       "      <td>https://www.agritekholdings.com</td>\n",
       "      <td>Agritek Holdings, Inc. distributes hemp and ca...</td>\n",
       "      <td>Real Estate</td>\n",
       "      <td>US</td>\n",
       "    </tr>\n",
       "    <tr>\n",
       "      <th>37583</th>\n",
       "      <td>Viewtran Group, Inc.</td>\n",
       "      <td>Other OTC</td>\n",
       "      <td>Credit Services</td>\n",
       "      <td>https://www.viewtran.com</td>\n",
       "      <td>Viewtran Group, Inc. provides supply chain fin...</td>\n",
       "      <td>Financial Services</td>\n",
       "      <td>CN</td>\n",
       "    </tr>\n",
       "  </tbody>\n",
       "</table>\n",
       "<p>37584 rows × 7 columns</p>\n",
       "</div>"
      ],
      "text/plain": [
       "                         companyName                 exchange  \\\n",
       "0                          Visa Inc.  New York Stock Exchange   \n",
       "1              Texas Roadhouse, Inc.     NASDAQ Global Select   \n",
       "2         Lamb Weston Holdings, Inc.  New York Stock Exchange   \n",
       "3       Intact Financial Corporation   Toronto Stock Exchange   \n",
       "4                  OPKO Health, Inc.     NASDAQ Global Select   \n",
       "...                              ...                      ...   \n",
       "37579   Relativity Acquisition Corp.     NASDAQ Global Market   \n",
       "37580            Prima Industrie SpA                    Milan   \n",
       "37581  PT Putra Rajawali Kencana Tbk   Jakarta Stock Exchange   \n",
       "37582         Agritek Holdings, Inc.                Other OTC   \n",
       "37583           Viewtran Group, Inc.                Other OTC   \n",
       "\n",
       "                             industry                                 website  \\\n",
       "0                     Credit Services                    https://usa.visa.com   \n",
       "1                         Restaurants          https://www.texasroadhouse.com   \n",
       "2                      Packaged Foods              https://www.lambweston.com   \n",
       "3       Insurance—Property & Casualty                https://www.intactfc.com   \n",
       "4              Diagnostics & Research                    https://www.opko.com   \n",
       "...                               ...                                     ...   \n",
       "37579                 Shell Companies  https://www.relativityacquisitions.com   \n",
       "37580  Specialty Industrial Machinery          https://www.primaindustrie.com   \n",
       "37581                        Trucking                   https://puratrans.com   \n",
       "37582            Real Estate Services         https://www.agritekholdings.com   \n",
       "37583                 Credit Services                https://www.viewtran.com   \n",
       "\n",
       "                                             description              sector  \\\n",
       "0      Visa Inc. operates as a payments technology co...  Financial Services   \n",
       "1      Texas Roadhouse, Inc., together with its subsi...   Consumer Cyclical   \n",
       "2      Lamb Weston Holdings, Inc. produces, distribut...  Consumer Defensive   \n",
       "3      Intact Financial Corporation, through its subs...  Financial Services   \n",
       "4      OPKO Health, Inc., a healthcare company, engag...          Healthcare   \n",
       "...                                                  ...                 ...   \n",
       "37579  Relativity Acquisition Corp. does not have sig...  Financial Services   \n",
       "37580  Prima Industrie SpA develops, manufactures, an...         Industrials   \n",
       "37581  PT Putra Rajawali Kencana Tbk engages in the t...         Industrials   \n",
       "37582  Agritek Holdings, Inc. distributes hemp and ca...         Real Estate   \n",
       "37583  Viewtran Group, Inc. provides supply chain fin...  Financial Services   \n",
       "\n",
       "      country  \n",
       "0          US  \n",
       "1          US  \n",
       "2          US  \n",
       "3          CA  \n",
       "4          US  \n",
       "...       ...  \n",
       "37579      US  \n",
       "37580      IT  \n",
       "37581      ID  \n",
       "37582      US  \n",
       "37583      CN  \n",
       "\n",
       "[37584 rows x 7 columns]"
      ]
     },
     "execution_count": 3,
     "metadata": {},
     "output_type": "execute_result"
    }
   ],
   "source": [
    "data"
   ]
  },
  {
   "cell_type": "markdown",
   "id": "4e715718",
   "metadata": {
    "id": "4e715718",
    "tags": []
   },
   "source": [
    "# Tokenization : plus besoin de le run, car le fichier data_tokenized.csv est créé"
   ]
  },
  {
   "cell_type": "markdown",
   "id": "0ff103b4",
   "metadata": {
    "id": "0ff103b4",
    "tags": []
   },
   "source": [
    "## NLTK"
   ]
  },
  {
   "cell_type": "code",
   "execution_count": 8,
   "id": "344bef3d",
   "metadata": {
    "colab": {
     "base_uri": "https://localhost:8080/"
    },
    "executionInfo": {
     "elapsed": 763,
     "status": "ok",
     "timestamp": 1699423853614,
     "user": {
      "displayName": "mohamed didi",
      "userId": "12459858373354554760"
     },
     "user_tz": -60
    },
    "id": "344bef3d",
    "outputId": "35908f87-391b-400d-edb7-b25a93a7519d",
    "tags": []
   },
   "outputs": [
    {
     "name": "stderr",
     "output_type": "stream",
     "text": [
      "[nltk_data] Downloading package punkt to\n",
      "[nltk_data]     C:\\Users\\romai\\AppData\\Roaming\\nltk_data...\n",
      "[nltk_data]   Package punkt is already up-to-date!\n",
      "[nltk_data] Downloading package stopwords to\n",
      "[nltk_data]     C:\\Users\\romai\\AppData\\Roaming\\nltk_data...\n",
      "[nltk_data]   Package stopwords is already up-to-date!\n",
      "[nltk_data] Downloading package wordnet to\n",
      "[nltk_data]     C:\\Users\\romai\\AppData\\Roaming\\nltk_data...\n",
      "[nltk_data]   Package wordnet is already up-to-date!\n"
     ]
    },
    {
     "data": {
      "text/plain": [
       "True"
      ]
     },
     "execution_count": 8,
     "metadata": {},
     "output_type": "execute_result"
    }
   ],
   "source": [
    "import nltk\n",
    "from nltk.corpus import stopwords\n",
    "import string\n",
    "from nltk.tokenize import sent_tokenize, word_tokenize\n",
    "nltk.download('punkt')\n",
    "nltk.download(\"stopwords\")\n",
    "nltk.download('wordnet')"
   ]
  },
  {
   "cell_type": "code",
   "execution_count": 95,
   "id": "8cff6ea9",
   "metadata": {
    "id": "8cff6ea9"
   },
   "outputs": [],
   "source": [
    "# desc0 = data['description'].tolist()[0]"
   ]
  },
  {
   "cell_type": "code",
   "execution_count": 96,
   "id": "94544e8c",
   "metadata": {
    "id": "94544e8c"
   },
   "outputs": [],
   "source": [
    "# sentences = sent_tokenize(desc0)\n",
    "# words = word_tokenize(desc0)"
   ]
  },
  {
   "cell_type": "code",
   "execution_count": 97,
   "id": "84b33eb7",
   "metadata": {
    "id": "84b33eb7"
   },
   "outputs": [],
   "source": [
    "# [wrd.lower() for wrd in words if wrd.lower() not in stopwords.words('english') and wrd not in string.punctuation]"
   ]
  },
  {
   "cell_type": "markdown",
   "id": "obk0bW9LiwN6",
   "metadata": {
    "id": "obk0bW9LiwN6"
   },
   "source": [
    "(avec stemming) temps d'execution pour 37 000 entreprises : 13 minutes\n",
    "(sans stemming) temps d'execution pour 37 000 entreprises : 11 minutes\n"
   ]
  },
  {
   "cell_type": "code",
   "execution_count": 98,
   "id": "8c912e41-4110-4088-bfa4-47a8ed42924c",
   "metadata": {},
   "outputs": [],
   "source": [
    "# stemmer = nltk.stem.SnowballStemmer('english')\n",
    "# pstemmer = nltk.stem.PorterStemmer()\n",
    "# lemma = nltk.wordnet.WordNetLemmatizer()\n",
    "# lemma.lemmatize('walking')\n",
    "# stemmer.stem('walking')\n",
    "# opko, health, inc., healthcare, company"
   ]
  },
  {
   "cell_type": "code",
   "execution_count": 9,
   "id": "67aad03b",
   "metadata": {
    "colab": {
     "background_save": true
    },
    "id": "67aad03b",
    "tags": []
   },
   "outputs": [
    {
     "ename": "KeyboardInterrupt",
     "evalue": "",
     "output_type": "error",
     "traceback": [
      "\u001b[1;31m---------------------------------------------------------------------------\u001b[0m",
      "\u001b[1;31mKeyboardInterrupt\u001b[0m                         Traceback (most recent call last)",
      "Cell \u001b[1;32mIn[9], line 17\u001b[0m\n\u001b[0;32m     13\u001b[0m     \u001b[38;5;28;01mreturn\u001b[39;00m [word\u001b[38;5;241m.\u001b[39mlower() \u001b[38;5;28;01mfor\u001b[39;00m word \u001b[38;5;129;01min\u001b[39;00m words \u001b[38;5;28;01mif\u001b[39;00m word\u001b[38;5;241m.\u001b[39mlower() \u001b[38;5;129;01mnot\u001b[39;00m \u001b[38;5;129;01min\u001b[39;00m stopwords\u001b[38;5;241m.\u001b[39mwords(\u001b[38;5;124m'\u001b[39m\u001b[38;5;124menglish\u001b[39m\u001b[38;5;124m'\u001b[39m) \u001b[38;5;129;01mand\u001b[39;00m word \u001b[38;5;129;01mnot\u001b[39;00m \u001b[38;5;129;01min\u001b[39;00m string\u001b[38;5;241m.\u001b[39mpunctuation]\n\u001b[0;32m     16\u001b[0m \u001b[38;5;66;03m# data = data.iloc[:100]\u001b[39;00m\n\u001b[1;32m---> 17\u001b[0m data[\u001b[38;5;124m'\u001b[39m\u001b[38;5;124mdescription_stem\u001b[39m\u001b[38;5;124m'\u001b[39m] \u001b[38;5;241m=\u001b[39m data[\u001b[38;5;124m'\u001b[39m\u001b[38;5;124mdescription\u001b[39m\u001b[38;5;124m'\u001b[39m]\u001b[38;5;241m.\u001b[39mapply(preprocess_description_with_stem)\n",
      "File \u001b[1;32m~\\anaconda3\\Lib\\site-packages\\pandas\\core\\series.py:4630\u001b[0m, in \u001b[0;36mSeries.apply\u001b[1;34m(self, func, convert_dtype, args, **kwargs)\u001b[0m\n\u001b[0;32m   4520\u001b[0m \u001b[38;5;28;01mdef\u001b[39;00m \u001b[38;5;21mapply\u001b[39m(\n\u001b[0;32m   4521\u001b[0m     \u001b[38;5;28mself\u001b[39m,\n\u001b[0;32m   4522\u001b[0m     func: AggFuncType,\n\u001b[1;32m   (...)\u001b[0m\n\u001b[0;32m   4525\u001b[0m     \u001b[38;5;241m*\u001b[39m\u001b[38;5;241m*\u001b[39mkwargs,\n\u001b[0;32m   4526\u001b[0m ) \u001b[38;5;241m-\u001b[39m\u001b[38;5;241m>\u001b[39m DataFrame \u001b[38;5;241m|\u001b[39m Series:\n\u001b[0;32m   4527\u001b[0m \u001b[38;5;250m    \u001b[39m\u001b[38;5;124;03m\"\"\"\u001b[39;00m\n\u001b[0;32m   4528\u001b[0m \u001b[38;5;124;03m    Invoke function on values of Series.\u001b[39;00m\n\u001b[0;32m   4529\u001b[0m \n\u001b[1;32m   (...)\u001b[0m\n\u001b[0;32m   4628\u001b[0m \u001b[38;5;124;03m    dtype: float64\u001b[39;00m\n\u001b[0;32m   4629\u001b[0m \u001b[38;5;124;03m    \"\"\"\u001b[39;00m\n\u001b[1;32m-> 4630\u001b[0m     \u001b[38;5;28;01mreturn\u001b[39;00m SeriesApply(\u001b[38;5;28mself\u001b[39m, func, convert_dtype, args, kwargs)\u001b[38;5;241m.\u001b[39mapply()\n",
      "File \u001b[1;32m~\\anaconda3\\Lib\\site-packages\\pandas\\core\\apply.py:1025\u001b[0m, in \u001b[0;36mSeriesApply.apply\u001b[1;34m(self)\u001b[0m\n\u001b[0;32m   1022\u001b[0m     \u001b[38;5;28;01mreturn\u001b[39;00m \u001b[38;5;28mself\u001b[39m\u001b[38;5;241m.\u001b[39mapply_str()\n\u001b[0;32m   1024\u001b[0m \u001b[38;5;66;03m# self.f is Callable\u001b[39;00m\n\u001b[1;32m-> 1025\u001b[0m \u001b[38;5;28;01mreturn\u001b[39;00m \u001b[38;5;28mself\u001b[39m\u001b[38;5;241m.\u001b[39mapply_standard()\n",
      "File \u001b[1;32m~\\anaconda3\\Lib\\site-packages\\pandas\\core\\apply.py:1076\u001b[0m, in \u001b[0;36mSeriesApply.apply_standard\u001b[1;34m(self)\u001b[0m\n\u001b[0;32m   1074\u001b[0m     \u001b[38;5;28;01melse\u001b[39;00m:\n\u001b[0;32m   1075\u001b[0m         values \u001b[38;5;241m=\u001b[39m obj\u001b[38;5;241m.\u001b[39mastype(\u001b[38;5;28mobject\u001b[39m)\u001b[38;5;241m.\u001b[39m_values\n\u001b[1;32m-> 1076\u001b[0m         mapped \u001b[38;5;241m=\u001b[39m lib\u001b[38;5;241m.\u001b[39mmap_infer(\n\u001b[0;32m   1077\u001b[0m             values,\n\u001b[0;32m   1078\u001b[0m             f,\n\u001b[0;32m   1079\u001b[0m             convert\u001b[38;5;241m=\u001b[39m\u001b[38;5;28mself\u001b[39m\u001b[38;5;241m.\u001b[39mconvert_dtype,\n\u001b[0;32m   1080\u001b[0m         )\n\u001b[0;32m   1082\u001b[0m \u001b[38;5;28;01mif\u001b[39;00m \u001b[38;5;28mlen\u001b[39m(mapped) \u001b[38;5;129;01mand\u001b[39;00m \u001b[38;5;28misinstance\u001b[39m(mapped[\u001b[38;5;241m0\u001b[39m], ABCSeries):\n\u001b[0;32m   1083\u001b[0m     \u001b[38;5;66;03m# GH#43986 Need to do list(mapped) in order to get treated as nested\u001b[39;00m\n\u001b[0;32m   1084\u001b[0m     \u001b[38;5;66;03m#  See also GH#25959 regarding EA support\u001b[39;00m\n\u001b[0;32m   1085\u001b[0m     \u001b[38;5;28;01mreturn\u001b[39;00m obj\u001b[38;5;241m.\u001b[39m_constructor_expanddim(\u001b[38;5;28mlist\u001b[39m(mapped), index\u001b[38;5;241m=\u001b[39mobj\u001b[38;5;241m.\u001b[39mindex)\n",
      "File \u001b[1;32m~\\anaconda3\\Lib\\site-packages\\pandas\\_libs\\lib.pyx:2834\u001b[0m, in \u001b[0;36mpandas._libs.lib.map_infer\u001b[1;34m()\u001b[0m\n",
      "Cell \u001b[1;32mIn[9], line 5\u001b[0m, in \u001b[0;36mpreprocess_description_with_stem\u001b[1;34m(description, stem)\u001b[0m\n\u001b[0;32m      3\u001b[0m \u001b[38;5;28;01mdef\u001b[39;00m \u001b[38;5;21mpreprocess_description_with_stem\u001b[39m(description, stem\u001b[38;5;241m=\u001b[39m\u001b[38;5;28;01mTrue\u001b[39;00m):\n\u001b[0;32m      4\u001b[0m     words \u001b[38;5;241m=\u001b[39m word_tokenize(description)\n\u001b[1;32m----> 5\u001b[0m     \u001b[38;5;28;01mreturn\u001b[39;00m [stemmer\u001b[38;5;241m.\u001b[39mstem(word\u001b[38;5;241m.\u001b[39mlower()) \u001b[38;5;28;01mfor\u001b[39;00m word \u001b[38;5;129;01min\u001b[39;00m words \u001b[38;5;28;01mif\u001b[39;00m word\u001b[38;5;241m.\u001b[39mlower() \u001b[38;5;129;01mnot\u001b[39;00m \u001b[38;5;129;01min\u001b[39;00m stopwords\u001b[38;5;241m.\u001b[39mwords(\u001b[38;5;124m'\u001b[39m\u001b[38;5;124menglish\u001b[39m\u001b[38;5;124m'\u001b[39m) \u001b[38;5;129;01mand\u001b[39;00m word \u001b[38;5;129;01mnot\u001b[39;00m \u001b[38;5;129;01min\u001b[39;00m string\u001b[38;5;241m.\u001b[39mpunctuation]\n",
      "Cell \u001b[1;32mIn[9], line 5\u001b[0m, in \u001b[0;36m<listcomp>\u001b[1;34m(.0)\u001b[0m\n\u001b[0;32m      3\u001b[0m \u001b[38;5;28;01mdef\u001b[39;00m \u001b[38;5;21mpreprocess_description_with_stem\u001b[39m(description, stem\u001b[38;5;241m=\u001b[39m\u001b[38;5;28;01mTrue\u001b[39;00m):\n\u001b[0;32m      4\u001b[0m     words \u001b[38;5;241m=\u001b[39m word_tokenize(description)\n\u001b[1;32m----> 5\u001b[0m     \u001b[38;5;28;01mreturn\u001b[39;00m [stemmer\u001b[38;5;241m.\u001b[39mstem(word\u001b[38;5;241m.\u001b[39mlower()) \u001b[38;5;28;01mfor\u001b[39;00m word \u001b[38;5;129;01min\u001b[39;00m words \u001b[38;5;28;01mif\u001b[39;00m word\u001b[38;5;241m.\u001b[39mlower() \u001b[38;5;129;01mnot\u001b[39;00m \u001b[38;5;129;01min\u001b[39;00m stopwords\u001b[38;5;241m.\u001b[39mwords(\u001b[38;5;124m'\u001b[39m\u001b[38;5;124menglish\u001b[39m\u001b[38;5;124m'\u001b[39m) \u001b[38;5;129;01mand\u001b[39;00m word \u001b[38;5;129;01mnot\u001b[39;00m \u001b[38;5;129;01min\u001b[39;00m string\u001b[38;5;241m.\u001b[39mpunctuation]\n",
      "File \u001b[1;32m~\\anaconda3\\Lib\\site-packages\\nltk\\corpus\\reader\\wordlist.py:21\u001b[0m, in \u001b[0;36mWordListCorpusReader.words\u001b[1;34m(self, fileids, ignore_lines_startswith)\u001b[0m\n\u001b[0;32m     18\u001b[0m \u001b[38;5;28;01mdef\u001b[39;00m \u001b[38;5;21mwords\u001b[39m(\u001b[38;5;28mself\u001b[39m, fileids\u001b[38;5;241m=\u001b[39m\u001b[38;5;28;01mNone\u001b[39;00m, ignore_lines_startswith\u001b[38;5;241m=\u001b[39m\u001b[38;5;124m\"\u001b[39m\u001b[38;5;130;01m\\n\u001b[39;00m\u001b[38;5;124m\"\u001b[39m):\n\u001b[0;32m     19\u001b[0m     \u001b[38;5;28;01mreturn\u001b[39;00m [\n\u001b[0;32m     20\u001b[0m         line\n\u001b[1;32m---> 21\u001b[0m         \u001b[38;5;28;01mfor\u001b[39;00m line \u001b[38;5;129;01min\u001b[39;00m line_tokenize(\u001b[38;5;28mself\u001b[39m\u001b[38;5;241m.\u001b[39mraw(fileids))\n\u001b[0;32m     22\u001b[0m         \u001b[38;5;28;01mif\u001b[39;00m \u001b[38;5;129;01mnot\u001b[39;00m line\u001b[38;5;241m.\u001b[39mstartswith(ignore_lines_startswith)\n\u001b[0;32m     23\u001b[0m     ]\n",
      "File \u001b[1;32m~\\anaconda3\\Lib\\site-packages\\nltk\\corpus\\reader\\api.py:218\u001b[0m, in \u001b[0;36mCorpusReader.raw\u001b[1;34m(self, fileids)\u001b[0m\n\u001b[0;32m    216\u001b[0m contents \u001b[38;5;241m=\u001b[39m []\n\u001b[0;32m    217\u001b[0m \u001b[38;5;28;01mfor\u001b[39;00m f \u001b[38;5;129;01min\u001b[39;00m fileids:\n\u001b[1;32m--> 218\u001b[0m     \u001b[38;5;28;01mwith\u001b[39;00m \u001b[38;5;28mself\u001b[39m\u001b[38;5;241m.\u001b[39mopen(f) \u001b[38;5;28;01mas\u001b[39;00m fp:\n\u001b[0;32m    219\u001b[0m         contents\u001b[38;5;241m.\u001b[39mappend(fp\u001b[38;5;241m.\u001b[39mread())\n\u001b[0;32m    220\u001b[0m \u001b[38;5;28;01mreturn\u001b[39;00m concat(contents)\n",
      "File \u001b[1;32m~\\anaconda3\\Lib\\site-packages\\nltk\\corpus\\reader\\api.py:231\u001b[0m, in \u001b[0;36mCorpusReader.open\u001b[1;34m(self, file)\u001b[0m\n\u001b[0;32m    223\u001b[0m \u001b[38;5;250m\u001b[39m\u001b[38;5;124;03m\"\"\"\u001b[39;00m\n\u001b[0;32m    224\u001b[0m \u001b[38;5;124;03mReturn an open stream that can be used to read the given file.\u001b[39;00m\n\u001b[0;32m    225\u001b[0m \u001b[38;5;124;03mIf the file's encoding is not None, then the stream will\u001b[39;00m\n\u001b[1;32m   (...)\u001b[0m\n\u001b[0;32m    228\u001b[0m \u001b[38;5;124;03m:param file: The file identifier of the file to read.\u001b[39;00m\n\u001b[0;32m    229\u001b[0m \u001b[38;5;124;03m\"\"\"\u001b[39;00m\n\u001b[0;32m    230\u001b[0m encoding \u001b[38;5;241m=\u001b[39m \u001b[38;5;28mself\u001b[39m\u001b[38;5;241m.\u001b[39mencoding(file)\n\u001b[1;32m--> 231\u001b[0m stream \u001b[38;5;241m=\u001b[39m \u001b[38;5;28mself\u001b[39m\u001b[38;5;241m.\u001b[39m_root\u001b[38;5;241m.\u001b[39mjoin(file)\u001b[38;5;241m.\u001b[39mopen(encoding)\n\u001b[0;32m    232\u001b[0m \u001b[38;5;28;01mreturn\u001b[39;00m stream\n",
      "File \u001b[1;32m~\\anaconda3\\Lib\\site-packages\\nltk\\data.py:334\u001b[0m, in \u001b[0;36mFileSystemPathPointer.join\u001b[1;34m(self, fileid)\u001b[0m\n\u001b[0;32m    332\u001b[0m \u001b[38;5;28;01mdef\u001b[39;00m \u001b[38;5;21mjoin\u001b[39m(\u001b[38;5;28mself\u001b[39m, fileid):\n\u001b[0;32m    333\u001b[0m     _path \u001b[38;5;241m=\u001b[39m os\u001b[38;5;241m.\u001b[39mpath\u001b[38;5;241m.\u001b[39mjoin(\u001b[38;5;28mself\u001b[39m\u001b[38;5;241m.\u001b[39m_path, fileid)\n\u001b[1;32m--> 334\u001b[0m     \u001b[38;5;28;01mreturn\u001b[39;00m FileSystemPathPointer(_path)\n",
      "File \u001b[1;32m~\\anaconda3\\Lib\\site-packages\\nltk\\compat.py:41\u001b[0m, in \u001b[0;36mpy3_data.<locals>._decorator\u001b[1;34m(*args, **kwargs)\u001b[0m\n\u001b[0;32m     39\u001b[0m \u001b[38;5;28;01mdef\u001b[39;00m \u001b[38;5;21m_decorator\u001b[39m(\u001b[38;5;241m*\u001b[39margs, \u001b[38;5;241m*\u001b[39m\u001b[38;5;241m*\u001b[39mkwargs):\n\u001b[0;32m     40\u001b[0m     args \u001b[38;5;241m=\u001b[39m (args[\u001b[38;5;241m0\u001b[39m], add_py3_data(args[\u001b[38;5;241m1\u001b[39m])) \u001b[38;5;241m+\u001b[39m args[\u001b[38;5;241m2\u001b[39m:]\n\u001b[1;32m---> 41\u001b[0m     \u001b[38;5;28;01mreturn\u001b[39;00m init_func(\u001b[38;5;241m*\u001b[39margs, \u001b[38;5;241m*\u001b[39m\u001b[38;5;241m*\u001b[39mkwargs)\n",
      "File \u001b[1;32m~\\anaconda3\\Lib\\site-packages\\nltk\\data.py:311\u001b[0m, in \u001b[0;36mFileSystemPathPointer.__init__\u001b[1;34m(self, _path)\u001b[0m\n\u001b[0;32m    304\u001b[0m \u001b[38;5;250m\u001b[39m\u001b[38;5;124;03m\"\"\"\u001b[39;00m\n\u001b[0;32m    305\u001b[0m \u001b[38;5;124;03mCreate a new path pointer for the given absolute path.\u001b[39;00m\n\u001b[0;32m    306\u001b[0m \n\u001b[0;32m    307\u001b[0m \u001b[38;5;124;03m:raise IOError: If the given path does not exist.\u001b[39;00m\n\u001b[0;32m    308\u001b[0m \u001b[38;5;124;03m\"\"\"\u001b[39;00m\n\u001b[0;32m    310\u001b[0m _path \u001b[38;5;241m=\u001b[39m os\u001b[38;5;241m.\u001b[39mpath\u001b[38;5;241m.\u001b[39mabspath(_path)\n\u001b[1;32m--> 311\u001b[0m \u001b[38;5;28;01mif\u001b[39;00m \u001b[38;5;129;01mnot\u001b[39;00m os\u001b[38;5;241m.\u001b[39mpath\u001b[38;5;241m.\u001b[39mexists(_path):\n\u001b[0;32m    312\u001b[0m     \u001b[38;5;28;01mraise\u001b[39;00m \u001b[38;5;167;01mOSError\u001b[39;00m(\u001b[38;5;124m\"\u001b[39m\u001b[38;5;124mNo such file or directory: \u001b[39m\u001b[38;5;132;01m%r\u001b[39;00m\u001b[38;5;124m\"\u001b[39m \u001b[38;5;241m%\u001b[39m _path)\n\u001b[0;32m    313\u001b[0m \u001b[38;5;28mself\u001b[39m\u001b[38;5;241m.\u001b[39m_path \u001b[38;5;241m=\u001b[39m _path\n",
      "File \u001b[1;32m<frozen genericpath>:19\u001b[0m, in \u001b[0;36mexists\u001b[1;34m(path)\u001b[0m\n",
      "\u001b[1;31mKeyboardInterrupt\u001b[0m: "
     ]
    }
   ],
   "source": [
    "stemmer = nltk.stem.SnowballStemmer('english')\n",
    "\n",
    "def preprocess_description_with_stem(description, stem=True):\n",
    "    words = word_tokenize(description)\n",
    "    return [stemmer.stem(word.lower()) for word in words if word.lower() not in stopwords.words('english') and word not in string.punctuation]\n",
    " \n",
    "\n",
    "def preprocess_description_raw(description):\n",
    "    \"\"\"\n",
    "    same as preprocess_description_with_stem, but without stem\n",
    "    \"\"\"\n",
    "    words = word_tokenize(description)\n",
    "    return [word.lower() for word in words if word.lower() not in stopwords.words('english') and word not in string.punctuation]\n",
    "    \n",
    "\n",
    "# data = data.iloc[:100]\n",
    "data['description_stem'] = data['description'].apply(preprocess_description_with_stem)\n",
    "# data['description_raw'] = data['description'].apply(preprocess_description_raw)"
   ]
  },
  {
   "cell_type": "code",
   "execution_count": null,
   "id": "31744d6e",
   "metadata": {
    "colab": {
     "background_save": true
    },
    "id": "31744d6e",
    "outputId": "604e8211-5b71-4731-946f-cccbc707c2aa",
    "tags": []
   },
   "outputs": [],
   "source": [
    "data.head()"
   ]
  },
  {
   "cell_type": "code",
   "execution_count": 14,
   "id": "-UMearMcBrSG",
   "metadata": {
    "colab": {
     "background_save": true
    },
    "id": "-UMearMcBrSG",
    "outputId": "5aa782b1-f028-4588-aa37-ca4f9f61631d",
    "tags": []
   },
   "outputs": [
    {
     "data": {
      "text/plain": [
       "list"
      ]
     },
     "execution_count": 14,
     "metadata": {},
     "output_type": "execute_result"
    }
   ],
   "source": [
    "# type(data.iloc[0]['description_raw'])"
   ]
  },
  {
   "cell_type": "code",
   "execution_count": null,
   "id": "ae74c131-fea0-4c50-a3dc-41c126502d6e",
   "metadata": {
    "colab": {
     "background_save": true
    },
    "id": "86e8e5ed",
    "tags": []
   },
   "outputs": [],
   "source": [
    "data.to_csv(\"../Data/data_tokenized_stem.csv\", index=True)"
   ]
  },
  {
   "cell_type": "code",
   "execution_count": null,
   "id": "fMU4MuGPCEu7",
   "metadata": {
    "colab": {
     "background_save": true
    },
    "id": "fMU4MuGPCEu7",
    "tags": []
   },
   "outputs": [],
   "source": [
    "old_data = data.copy()"
   ]
  },
  {
   "cell_type": "code",
   "execution_count": null,
   "id": "40c338cc-be01-4c63-9089-91b84bf6a789",
   "metadata": {
    "tags": []
   },
   "outputs": [],
   "source": [
    "data"
   ]
  },
  {
   "cell_type": "markdown",
   "id": "1ed037e6",
   "metadata": {
    "id": "1ed037e6",
    "tags": []
   },
   "source": [
    "# Vectorisation"
   ]
  },
  {
   "cell_type": "markdown",
   "id": "Hhz-BRR3wd8v",
   "metadata": {
    "id": "Hhz-BRR3wd8v"
   },
   "source": [
    "temps d'exe pour 37000 : 8 sec"
   ]
  },
  {
   "cell_type": "code",
   "execution_count": 20,
   "id": "0b094618-2ebd-4cd6-9889-1c3e66e4fbe2",
   "metadata": {
    "tags": []
   },
   "outputs": [],
   "source": [
    "data = pd.read_csv(\"../Data/data_tokenized_stem.csv\").drop(columns=\"Unnamed: 0\")"
   ]
  },
  {
   "cell_type": "code",
   "execution_count": 23,
   "id": "08fee941-dbb8-4690-80a7-017101af2959",
   "metadata": {
    "tags": []
   },
   "outputs": [],
   "source": [
    "data = data.drop(columns=['exchange', 'website'])\n",
    "data['country'] = data['country'].replace({'GB':'UK',\n",
    "                                               'TW':'CN',\n",
    "                                               'GG':'FR',\n",
    "                                               'RE':'FR',\n",
    "                                               'GF':'FR',\n",
    "                                               'MQ':'UK',\n",
    "                                               'JE':'UK',\n",
    "                                               'AI':'UK',\n",
    "                                               'AN':'NL',\n",
    "                                               'GI':'UK'})"
   ]
  },
  {
   "cell_type": "code",
   "execution_count": null,
   "id": "325e15b0-92eb-413c-a277-ce4925cb6147",
   "metadata": {
    "tags": []
   },
   "outputs": [],
   "source": [
    "data"
   ]
  },
  {
   "cell_type": "code",
   "execution_count": null,
   "id": "2b5ad90c-2058-4f8e-bee4-234f005a275d",
   "metadata": {},
   "outputs": [],
   "source": []
  },
  {
   "cell_type": "code",
   "execution_count": 24,
   "id": "0ff64182",
   "metadata": {
    "colab": {
     "background_save": true
    },
    "id": "0ff64182",
    "tags": []
   },
   "outputs": [],
   "source": [
    "def load_preprocess_data_tokenized():\n",
    "    # data = pd.read_csv(\"../Data/data_tokenized.csv\")\n",
    "    data = pd.read_csv(\"../Data/data_tokenized_stem.csv\")\n",
    "    data = data.drop(columns='Unnamed: 0')\n",
    "    # data['description_raw'] = data['description_raw'].apply(eval)    \n",
    "    data['description_stem'] = data['description_stem'].apply(eval)    \n",
    "    # data['description'] = data['description'].apply(eval)  # pour reconvertir la string en list\n",
    "    # data['country'] = data['country'].apply(eval)  # pour reconvertir la string en list\n",
    "    data = data.drop_duplicates('companyName')\n",
    "    # data['description'] = data.apply(lambda row: row['description'] + [row['country'], row['sector']], axis=1)\n",
    "    # data['description_raw'] = data.apply(lambda row: row['description_raw'] + [row['country'], row['sector']], axis=1)\n",
    "    data['description_stem'] = data.apply(lambda row: row['description_stem'] + [row['country'], row['sector']], axis=1)\n",
    "    data = data.drop(columns=['exchange', 'website'])\n",
    "    data['country'] = data['country'].replace({'GB':'UK',\n",
    "                                               'TW':'CN',\n",
    "                                               'GG':'FR',\n",
    "                                               'RE':'FR',\n",
    "                                               'GF':'FR',\n",
    "                                               'MQ':'UK',\n",
    "                                               'JE':'UK',\n",
    "                                               'AI':'UK',\n",
    "                                               'AN':'NL',\n",
    "                                               'GI':'UK'})\n",
    "    return data"
   ]
  },
  {
   "cell_type": "code",
   "execution_count": 25,
   "id": "328f56e6-6b20-43cf-a2ca-5f62a23b15f9",
   "metadata": {
    "tags": []
   },
   "outputs": [
    {
     "data": {
      "text/html": [
       "<div>\n",
       "<style scoped>\n",
       "    .dataframe tbody tr th:only-of-type {\n",
       "        vertical-align: middle;\n",
       "    }\n",
       "\n",
       "    .dataframe tbody tr th {\n",
       "        vertical-align: top;\n",
       "    }\n",
       "\n",
       "    .dataframe thead th {\n",
       "        text-align: right;\n",
       "    }\n",
       "</style>\n",
       "<table border=\"1\" class=\"dataframe\">\n",
       "  <thead>\n",
       "    <tr style=\"text-align: right;\">\n",
       "      <th></th>\n",
       "      <th>companyName</th>\n",
       "      <th>industry</th>\n",
       "      <th>description</th>\n",
       "      <th>sector</th>\n",
       "      <th>country</th>\n",
       "      <th>description_stem</th>\n",
       "    </tr>\n",
       "  </thead>\n",
       "  <tbody>\n",
       "    <tr>\n",
       "      <th>0</th>\n",
       "      <td>Visa Inc.</td>\n",
       "      <td>Credit Services</td>\n",
       "      <td>Visa Inc. operates as a payments technology co...</td>\n",
       "      <td>Financial Services</td>\n",
       "      <td>US</td>\n",
       "      <td>[visa, inc., oper, payment, technolog, compani...</td>\n",
       "    </tr>\n",
       "    <tr>\n",
       "      <th>1</th>\n",
       "      <td>Texas Roadhouse, Inc.</td>\n",
       "      <td>Restaurants</td>\n",
       "      <td>Texas Roadhouse, Inc., together with its subsi...</td>\n",
       "      <td>Consumer Cyclical</td>\n",
       "      <td>US</td>\n",
       "      <td>[texa, roadhous, inc., togeth, subsidiari, ope...</td>\n",
       "    </tr>\n",
       "    <tr>\n",
       "      <th>2</th>\n",
       "      <td>Lamb Weston Holdings, Inc.</td>\n",
       "      <td>Packaged Foods</td>\n",
       "      <td>Lamb Weston Holdings, Inc. produces, distribut...</td>\n",
       "      <td>Consumer Defensive</td>\n",
       "      <td>US</td>\n",
       "      <td>[lamb, weston, hold, inc., produc, distribut, ...</td>\n",
       "    </tr>\n",
       "    <tr>\n",
       "      <th>3</th>\n",
       "      <td>Intact Financial Corporation</td>\n",
       "      <td>Insurance—Property &amp; Casualty</td>\n",
       "      <td>Intact Financial Corporation, through its subs...</td>\n",
       "      <td>Financial Services</td>\n",
       "      <td>CA</td>\n",
       "      <td>[intact, financi, corpor, subsidiari, provid, ...</td>\n",
       "    </tr>\n",
       "    <tr>\n",
       "      <th>4</th>\n",
       "      <td>OPKO Health, Inc.</td>\n",
       "      <td>Diagnostics &amp; Research</td>\n",
       "      <td>OPKO Health, Inc., a healthcare company, engag...</td>\n",
       "      <td>Healthcare</td>\n",
       "      <td>US</td>\n",
       "      <td>[opko, health, inc., healthcar, compani, engag...</td>\n",
       "    </tr>\n",
       "    <tr>\n",
       "      <th>...</th>\n",
       "      <td>...</td>\n",
       "      <td>...</td>\n",
       "      <td>...</td>\n",
       "      <td>...</td>\n",
       "      <td>...</td>\n",
       "      <td>...</td>\n",
       "    </tr>\n",
       "    <tr>\n",
       "      <th>37577</th>\n",
       "      <td>Global Brokerage, Inc.</td>\n",
       "      <td>Financial Data &amp; Stock Exchanges</td>\n",
       "      <td>Global Brokerage, Inc., through its subsidiari...</td>\n",
       "      <td>Financial Services</td>\n",
       "      <td>US</td>\n",
       "      <td>[global, brokerag, inc., subsidiari, provid, o...</td>\n",
       "    </tr>\n",
       "    <tr>\n",
       "      <th>37580</th>\n",
       "      <td>Prima Industrie SpA</td>\n",
       "      <td>Specialty Industrial Machinery</td>\n",
       "      <td>Prima Industrie SpA develops, manufactures, an...</td>\n",
       "      <td>Industrials</td>\n",
       "      <td>IT</td>\n",
       "      <td>[prima, industri, spa, develop, manufactur, ma...</td>\n",
       "    </tr>\n",
       "    <tr>\n",
       "      <th>37581</th>\n",
       "      <td>PT Putra Rajawali Kencana Tbk</td>\n",
       "      <td>Trucking</td>\n",
       "      <td>PT Putra Rajawali Kencana Tbk engages in the t...</td>\n",
       "      <td>Industrials</td>\n",
       "      <td>ID</td>\n",
       "      <td>[pt, putra, rajawali, kencana, tbk, engag, tra...</td>\n",
       "    </tr>\n",
       "    <tr>\n",
       "      <th>37582</th>\n",
       "      <td>Agritek Holdings, Inc.</td>\n",
       "      <td>Real Estate Services</td>\n",
       "      <td>Agritek Holdings, Inc. distributes hemp and ca...</td>\n",
       "      <td>Real Estate</td>\n",
       "      <td>US</td>\n",
       "      <td>[agritek, hold, inc., distribut, hemp, cannabi...</td>\n",
       "    </tr>\n",
       "    <tr>\n",
       "      <th>37583</th>\n",
       "      <td>Viewtran Group, Inc.</td>\n",
       "      <td>Credit Services</td>\n",
       "      <td>Viewtran Group, Inc. provides supply chain fin...</td>\n",
       "      <td>Financial Services</td>\n",
       "      <td>CN</td>\n",
       "      <td>[viewtran, group, inc., provid, suppli, chain,...</td>\n",
       "    </tr>\n",
       "  </tbody>\n",
       "</table>\n",
       "<p>31149 rows × 6 columns</p>\n",
       "</div>"
      ],
      "text/plain": [
       "                         companyName                          industry  \\\n",
       "0                          Visa Inc.                   Credit Services   \n",
       "1              Texas Roadhouse, Inc.                       Restaurants   \n",
       "2         Lamb Weston Holdings, Inc.                    Packaged Foods   \n",
       "3       Intact Financial Corporation     Insurance—Property & Casualty   \n",
       "4                  OPKO Health, Inc.            Diagnostics & Research   \n",
       "...                              ...                               ...   \n",
       "37577         Global Brokerage, Inc.  Financial Data & Stock Exchanges   \n",
       "37580            Prima Industrie SpA    Specialty Industrial Machinery   \n",
       "37581  PT Putra Rajawali Kencana Tbk                          Trucking   \n",
       "37582         Agritek Holdings, Inc.              Real Estate Services   \n",
       "37583           Viewtran Group, Inc.                   Credit Services   \n",
       "\n",
       "                                             description              sector  \\\n",
       "0      Visa Inc. operates as a payments technology co...  Financial Services   \n",
       "1      Texas Roadhouse, Inc., together with its subsi...   Consumer Cyclical   \n",
       "2      Lamb Weston Holdings, Inc. produces, distribut...  Consumer Defensive   \n",
       "3      Intact Financial Corporation, through its subs...  Financial Services   \n",
       "4      OPKO Health, Inc., a healthcare company, engag...          Healthcare   \n",
       "...                                                  ...                 ...   \n",
       "37577  Global Brokerage, Inc., through its subsidiari...  Financial Services   \n",
       "37580  Prima Industrie SpA develops, manufactures, an...         Industrials   \n",
       "37581  PT Putra Rajawali Kencana Tbk engages in the t...         Industrials   \n",
       "37582  Agritek Holdings, Inc. distributes hemp and ca...         Real Estate   \n",
       "37583  Viewtran Group, Inc. provides supply chain fin...  Financial Services   \n",
       "\n",
       "      country                                   description_stem  \n",
       "0          US  [visa, inc., oper, payment, technolog, compani...  \n",
       "1          US  [texa, roadhous, inc., togeth, subsidiari, ope...  \n",
       "2          US  [lamb, weston, hold, inc., produc, distribut, ...  \n",
       "3          CA  [intact, financi, corpor, subsidiari, provid, ...  \n",
       "4          US  [opko, health, inc., healthcar, compani, engag...  \n",
       "...       ...                                                ...  \n",
       "37577      US  [global, brokerag, inc., subsidiari, provid, o...  \n",
       "37580      IT  [prima, industri, spa, develop, manufactur, ma...  \n",
       "37581      ID  [pt, putra, rajawali, kencana, tbk, engag, tra...  \n",
       "37582      US  [agritek, hold, inc., distribut, hemp, cannabi...  \n",
       "37583      CN  [viewtran, group, inc., provid, suppli, chain,...  \n",
       "\n",
       "[31149 rows x 6 columns]"
      ]
     },
     "execution_count": 25,
     "metadata": {},
     "output_type": "execute_result"
    }
   ],
   "source": [
    "load_preprocess_data_tokenized()"
   ]
  },
  {
   "cell_type": "code",
   "execution_count": null,
   "id": "OfPVdRiBqKEq",
   "metadata": {
    "colab": {
     "background_save": true
    },
    "id": "OfPVdRiBqKEq"
   },
   "outputs": [],
   "source": [
    "# data['description'] = data['description'].apply(lambda x: [token for token in x if not token.isdigit()])"
   ]
  },
  {
   "cell_type": "markdown",
   "id": "UMmYgubXuLMI",
   "metadata": {
    "id": "UMmYgubXuLMI"
   },
   "source": [
    "Temps d'execution pour 37 000 entreprises : 13s"
   ]
  },
  {
   "cell_type": "code",
   "execution_count": 26,
   "id": "0YOC1ie_a-xa",
   "metadata": {
    "colab": {
     "background_save": true
    },
    "id": "0YOC1ie_a-xa",
    "tags": []
   },
   "outputs": [],
   "source": [
    "from scipy import sparse\n",
    "\n",
    "def build_tfidf(df):\n",
    "  tfidf_vectorizer = TfidfVectorizer(max_features=5000)\n",
    "\n",
    "  tfidf_matrix = tfidf_vectorizer.fit_transform(df['description_stem'].astype(str))\n",
    "\n",
    "  list(tfidf_matrix)\n",
    "  # print(pd.Series(tfidf_matrix.toarray()))\n",
    "  sparse.save_npz(\"../Data/tfidf_matrix.npz\", tfidf_matrix)\n",
    "\n",
    "  df['vec_tfidf'] = list(tfidf_matrix)\n",
    "  # data['vec_tfidf']=tfidf_matrix.toarray()\n",
    "\n",
    "  # feature_names = tfidf_vectorizer.get_feature_names_out()\n",
    "  return df"
   ]
  },
  {
   "cell_type": "code",
   "execution_count": 27,
   "id": "95942d99-b697-4830-a008-33fe346b0fe2",
   "metadata": {
    "tags": []
   },
   "outputs": [],
   "source": [
    "data = load_preprocess_data_tokenized()\n",
    "data = build_tfidf(data)"
   ]
  },
  {
   "cell_type": "code",
   "execution_count": 28,
   "id": "aXJVBdzdN72D",
   "metadata": {
    "colab": {
     "background_save": true
    },
    "id": "aXJVBdzdN72D",
    "outputId": "3bb9c20c-a767-4aac-9a45-c1b8807b224b",
    "tags": []
   },
   "outputs": [
    {
     "name": "stdout",
     "output_type": "stream",
     "text": [
      "[[0. 0. 0. ... 0. 0. 0.]]\n"
     ]
    }
   ],
   "source": [
    "data['vec_tfidf'].iloc[0].toarray()\n",
    "# Assuming tfidf_matrix is your TF-IDF sparse matrix\n",
    "print(data['vec_tfidf'].iloc[0].toarray())   "
   ]
  },
  {
   "cell_type": "code",
   "execution_count": null,
   "id": "ii2QIzMojDIM",
   "metadata": {
    "colab": {
     "background_save": true
    },
    "id": "ii2QIzMojDIM"
   },
   "outputs": [],
   "source": [
    "# data['vec_tfidf'].values[0].toarray()"
   ]
  },
  {
   "cell_type": "markdown",
   "id": "f7645b8e",
   "metadata": {
    "id": "f7645b8e",
    "tags": []
   },
   "source": [
    "## Word2Vec"
   ]
  },
  {
   "cell_type": "code",
   "execution_count": 51,
   "id": "59dcdb08",
   "metadata": {
    "colab": {
     "background_save": true
    },
    "id": "59dcdb08",
    "outputId": "8a46241d-47c3-4ec2-a3df-dbb18eebb554",
    "tags": []
   },
   "outputs": [
    {
     "data": {
      "text/plain": [
       "['visa',\n",
       " 'inc.',\n",
       " 'oper',\n",
       " 'payment',\n",
       " 'technolog',\n",
       " 'compani',\n",
       " 'worldwid',\n",
       " 'compani',\n",
       " 'facilit',\n",
       " 'digit',\n",
       " 'payment',\n",
       " 'among',\n",
       " 'consum',\n",
       " 'merchant',\n",
       " 'financi',\n",
       " 'institut',\n",
       " 'busi',\n",
       " 'strateg',\n",
       " 'partner',\n",
       " 'govern',\n",
       " 'entiti',\n",
       " 'oper',\n",
       " 'visanet',\n",
       " 'transact',\n",
       " 'process',\n",
       " 'network',\n",
       " 'enabl',\n",
       " 'author',\n",
       " 'clear',\n",
       " 'settlement',\n",
       " 'payment',\n",
       " 'transact',\n",
       " 'addit',\n",
       " 'compani',\n",
       " 'offer',\n",
       " 'card',\n",
       " 'product',\n",
       " 'platform',\n",
       " 'value-ad',\n",
       " 'servic',\n",
       " 'provid',\n",
       " 'servic',\n",
       " 'visa',\n",
       " 'visa',\n",
       " 'electron',\n",
       " 'interlink',\n",
       " 'vpay',\n",
       " 'plus',\n",
       " 'brand',\n",
       " 'visa',\n",
       " 'inc.',\n",
       " 'strateg',\n",
       " 'agreement',\n",
       " 'ooredoo',\n",
       " 'provid',\n",
       " 'enhanc',\n",
       " 'payment',\n",
       " 'experi',\n",
       " 'visa',\n",
       " 'cardhold',\n",
       " 'ooredoo',\n",
       " 'custom',\n",
       " 'qatar',\n",
       " 'visa',\n",
       " 'inc.',\n",
       " 'found',\n",
       " '1958',\n",
       " 'headquart',\n",
       " 'san',\n",
       " 'francisco',\n",
       " 'california',\n",
       " 'US',\n",
       " 'Financial Services']"
      ]
     },
     "execution_count": 51,
     "metadata": {},
     "output_type": "execute_result"
    }
   ],
   "source": [
    "desc0 = data['description_stem'][0]\n",
    "desc0"
   ]
  },
  {
   "cell_type": "code",
   "execution_count": 18,
   "id": "XZamDdwOlFMd",
   "metadata": {
    "colab": {
     "background_save": true
    },
    "id": "XZamDdwOlFMd",
    "outputId": "43ed7d7b-f2e0-4e9b-b0eb-48b38248ed8b",
    "tags": []
   },
   "outputs": [
    {
     "name": "stdout",
     "output_type": "stream",
     "text": [
      "[--------------------------------------------------] 1.7% 28.9/1662.8MB downloaded"
     ]
    },
    {
     "ename": "KeyboardInterrupt",
     "evalue": "",
     "output_type": "error",
     "traceback": [
      "\u001b[1;31m---------------------------------------------------------------------------\u001b[0m",
      "\u001b[1;31mKeyboardInterrupt\u001b[0m                         Traceback (most recent call last)",
      "Cell \u001b[1;32mIn[18], line 5\u001b[0m\n\u001b[0;32m      2\u001b[0m \u001b[38;5;28;01mimport\u001b[39;00m \u001b[38;5;21;01mgensim\u001b[39;00m\u001b[38;5;21;01m.\u001b[39;00m\u001b[38;5;21;01mdownloader\u001b[39;00m \u001b[38;5;28;01mas\u001b[39;00m \u001b[38;5;21;01mapi\u001b[39;00m\n\u001b[0;32m      3\u001b[0m \u001b[38;5;28;01mfrom\u001b[39;00m \u001b[38;5;21;01mgensim\u001b[39;00m\u001b[38;5;21;01m.\u001b[39;00m\u001b[38;5;21;01mdownloader\u001b[39;00m \u001b[38;5;28;01mimport\u001b[39;00m load\n\u001b[1;32m----> 5\u001b[0m model \u001b[38;5;241m=\u001b[39m load(\u001b[38;5;124m'\u001b[39m\u001b[38;5;124mword2vec-google-news-300\u001b[39m\u001b[38;5;124m'\u001b[39m)\n\u001b[0;32m      7\u001b[0m path \u001b[38;5;241m=\u001b[39m api\u001b[38;5;241m.\u001b[39mload(\u001b[38;5;124m\"\u001b[39m\u001b[38;5;124mword2vec-google-news-300\u001b[39m\u001b[38;5;124m\"\u001b[39m, return_path\u001b[38;5;241m=\u001b[39m\u001b[38;5;28;01mTrue\u001b[39;00m)\n\u001b[0;32m      9\u001b[0m \u001b[38;5;66;03m# Chargez le modèle Word2Vec\u001b[39;00m\n",
      "File \u001b[1;32m~\\anaconda3\\Lib\\site-packages\\gensim\\downloader.py:496\u001b[0m, in \u001b[0;36mload\u001b[1;34m(name, return_path)\u001b[0m\n\u001b[0;32m    494\u001b[0m path \u001b[38;5;241m=\u001b[39m os\u001b[38;5;241m.\u001b[39mpath\u001b[38;5;241m.\u001b[39mjoin(folder_dir, file_name)\n\u001b[0;32m    495\u001b[0m \u001b[38;5;28;01mif\u001b[39;00m \u001b[38;5;129;01mnot\u001b[39;00m os\u001b[38;5;241m.\u001b[39mpath\u001b[38;5;241m.\u001b[39mexists(folder_dir):\n\u001b[1;32m--> 496\u001b[0m     _download(name)\n\u001b[0;32m    498\u001b[0m \u001b[38;5;28;01mif\u001b[39;00m return_path:\n\u001b[0;32m    499\u001b[0m     \u001b[38;5;28;01mreturn\u001b[39;00m path\n",
      "File \u001b[1;32m~\\anaconda3\\Lib\\site-packages\\gensim\\downloader.py:396\u001b[0m, in \u001b[0;36m_download\u001b[1;34m(name)\u001b[0m\n\u001b[0;32m    394\u001b[0m fname \u001b[38;5;241m=\u001b[39m \u001b[38;5;124m\"\u001b[39m\u001b[38;5;132;01m{fname}\u001b[39;00m\u001b[38;5;124m.gz\u001b[39m\u001b[38;5;124m\"\u001b[39m\u001b[38;5;241m.\u001b[39mformat(fname\u001b[38;5;241m=\u001b[39mname)\n\u001b[0;32m    395\u001b[0m dst_path \u001b[38;5;241m=\u001b[39m os\u001b[38;5;241m.\u001b[39mpath\u001b[38;5;241m.\u001b[39mjoin(tmp_dir, fname)\n\u001b[1;32m--> 396\u001b[0m urllib\u001b[38;5;241m.\u001b[39murlretrieve(url_data, dst_path, reporthook\u001b[38;5;241m=\u001b[39m_progress)\n\u001b[0;32m    397\u001b[0m \u001b[38;5;28;01mif\u001b[39;00m _calculate_md5_checksum(dst_path) \u001b[38;5;241m==\u001b[39m _get_checksum(name):\n\u001b[0;32m    398\u001b[0m     sys\u001b[38;5;241m.\u001b[39mstdout\u001b[38;5;241m.\u001b[39mwrite(\u001b[38;5;124m\"\u001b[39m\u001b[38;5;130;01m\\n\u001b[39;00m\u001b[38;5;124m\"\u001b[39m)\n",
      "File \u001b[1;32m~\\anaconda3\\Lib\\urllib\\request.py:274\u001b[0m, in \u001b[0;36murlretrieve\u001b[1;34m(url, filename, reporthook, data)\u001b[0m\n\u001b[0;32m    272\u001b[0m     \u001b[38;5;28;01mbreak\u001b[39;00m\n\u001b[0;32m    273\u001b[0m read \u001b[38;5;241m+\u001b[39m\u001b[38;5;241m=\u001b[39m \u001b[38;5;28mlen\u001b[39m(block)\n\u001b[1;32m--> 274\u001b[0m tfp\u001b[38;5;241m.\u001b[39mwrite(block)\n\u001b[0;32m    275\u001b[0m blocknum \u001b[38;5;241m+\u001b[39m\u001b[38;5;241m=\u001b[39m \u001b[38;5;241m1\u001b[39m\n\u001b[0;32m    276\u001b[0m \u001b[38;5;28;01mif\u001b[39;00m reporthook:\n",
      "\u001b[1;31mKeyboardInterrupt\u001b[0m: "
     ]
    }
   ],
   "source": [
    "from gensim.models import Word2Vec, KeyedVectors\n",
    "import gensim.downloader as api\n",
    "from gensim.downloader import load\n",
    "\n",
    "model = load('word2vec-google-news-300')\n",
    "\n",
    "path = api.load(\"word2vec-google-news-300\", return_path=True)\n",
    "\n",
    "# Chargez le modèle Word2Vec\n",
    "word2vec_model = KeyedVectors.load_word2vec_format(path, binary=True)\n",
    "#model = Word2Vec.load(path)\n",
    "\n",
    "def calculate_average_word2vec(tokens, model, num_features):\n",
    "    feature_vector = np.zeros((num_features,), dtype=\"float32\")\n",
    "    nwords = 0\n",
    "\n",
    "    for token in tokens:\n",
    "        if token in model:  # Directly check in the model\n",
    "            nwords += 1\n",
    "            feature_vector = np.add(feature_vector, model[token])  # Directly access the vector\n",
    "\n",
    "    if nwords > 0:\n",
    "        feature_vector = np.divide(feature_vector, nwords)\n",
    "\n",
    "    return feature_vector\n",
    "\n",
    "data['description_word2vec'] = data['description'].apply(\n",
    "    lambda x: calculate_average_word2vec(x, model, num_features=300)\n",
    ")\n",
    "\n"
   ]
  },
  {
   "cell_type": "markdown",
   "id": "kSO3YdhejtkM",
   "metadata": {
    "id": "kSO3YdhejtkM",
    "tags": []
   },
   "source": [
    "# Calcul de distances"
   ]
  },
  {
   "cell_type": "code",
   "execution_count": 64,
   "id": "d30c49d4-617a-4961-a017-cd9ce877b10a",
   "metadata": {
    "tags": []
   },
   "outputs": [],
   "source": [
    "from sklearn.metrics.pairwise import cosine_similarity, euclidean_distances\n",
    "from scipy.spatial import distance\n",
    "import pandas as pd"
   ]
  },
  {
   "cell_type": "markdown",
   "id": "3bk_DphEWW_1",
   "metadata": {
    "id": "3bk_DphEWW_1",
    "tags": []
   },
   "source": [
    "### Cosine distance"
   ]
  },
  {
   "cell_type": "code",
   "execution_count": null,
   "id": "-ewWAsCxyqx4",
   "metadata": {
    "colab": {
     "background_save": true
    },
    "id": "-ewWAsCxyqx4"
   },
   "outputs": [],
   "source": [
    "# data.loc[data['companyName'] == 'Visa Inc.']['vec_tfidf'].iloc[0].toarray()\n",
    "# data"
   ]
  },
  {
   "cell_type": "code",
   "execution_count": 11,
   "id": "54laA5gupfne",
   "metadata": {
    "colab": {
     "background_save": true
    },
    "id": "54laA5gupfne",
    "tags": []
   },
   "outputs": [],
   "source": [
    "from numpy.linalg import norm\n",
    "\n",
    "def euclidean_distance(vec1, vec2):\n",
    "    return norm(vec1 - vec2)"
   ]
  },
  {
   "cell_type": "markdown",
   "id": "NCwYS4c5uVPC",
   "metadata": {
    "id": "NCwYS4c5uVPC"
   },
   "source": [
    "Temps d'execution pour 37 000 entreprises : plante car la RAM est insuffisante (13 gb)"
   ]
  },
  {
   "cell_type": "code",
   "execution_count": 12,
   "id": "_AHkd2SWyEIg",
   "metadata": {
    "colab": {
     "background_save": true
    },
    "id": "_AHkd2SWyEIg",
    "tags": []
   },
   "outputs": [
    {
     "name": "stdout",
     "output_type": "stream",
     "text": [
      "TF-IDF Cosine Similarity:\n",
      "                               companyName  Similarity\n",
      "18055  BLS International Services Limited    0.415832\n",
      "1077                            Mogo Inc.    0.311937\n",
      "4973                           Adyen N.V.    0.292689\n",
      "916               Mastercard Incorporated    0.292129\n",
      "5910                           Usio, Inc.    0.268081\n",
      "13926                            XTM Inc.    0.261167\n",
      "1153               AppTech Payments Corp.    0.247371\n",
      "15013                       Isracard Ltd.    0.245550\n",
      "11669                   Plexian AB (publ)    0.244023\n",
      "1553                  ACI Worldwide, Inc.    0.231816\n",
      "\n",
      "Word2Vec Cosine Similarity:\n",
      "                      companyName  Similarity\n",
      "916      Mastercard Incorporated    0.901665\n",
      "1077                   Mogo Inc.    0.900398\n",
      "5910                  Usio, Inc.    0.889770\n",
      "28560  GMO Payment Gateway, Inc.    0.889736\n",
      "2600               EVERTEC, Inc.    0.889080\n",
      "1975                Fiserv, Inc.    0.886142\n",
      "887           i3 Verticals, Inc.    0.885526\n",
      "3064               PaySign, Inc.    0.882738\n",
      "37370                Wirecard AG    0.880923\n",
      "472      Euronet Worldwide, Inc.    0.879726\n"
     ]
    }
   ],
   "source": [
    "def find_similar_companies(target_company, df, vector_column='vec_tfidf', n=5, method='tfidf', metric='cosine'):\n",
    "    # Ensure the target company exists in the DataFrame\n",
    "    if target_company not in df['companyName'].values:\n",
    "        print(\"Vérifier le nom de l'entreprise.\")\n",
    "        return pd.DataFrame()\n",
    "\n",
    "    # Get the vector of the target company\n",
    "    target_vector = df.loc[df['companyName'] == target_company, vector_column].iloc[0]\n",
    "\n",
    "    # For TF-IDF, convert sparse matrix to dense array if needed\n",
    "    if method == 'tfidf' and hasattr(target_vector, \"toarray\"):\n",
    "        target_vector = target_vector.toarray()[0]\n",
    "        df = df.copy()  # Avoid modifying the original DataFrame\n",
    "        df[vector_column] = df[vector_column].apply(lambda x: x.toarray()[0] if hasattr(x, \"toarray\") else x)\n",
    "\n",
    "    # Compute similarities or distances\n",
    "    if metric == 'cosine':\n",
    "        similarities = cosine_similarity([target_vector], list(df[vector_column]))\n",
    "        similarity_column = 'Similarity'\n",
    "        scores = similarities[0]\n",
    "    elif metric == 'euclidean':\n",
    "        distances = euclidean_distances([target_vector], list(df[vector_column]))\n",
    "        similarity_column = 'Distance'\n",
    "        scores = distances.flatten()\n",
    "        scores = 1 / (0.0001 + scores)  # Inverting distances to make them similar to similarity scores\n",
    "\n",
    "    # Create a DataFrame for similar companies\n",
    "    similar_companies = pd.DataFrame({'companyName': df['companyName'], similarity_column: scores})\n",
    "    sort_ascending = True if metric == 'euclidean' else False\n",
    "    similar_companies = similar_companies.sort_values(by=similarity_column, ascending=sort_ascending)\n",
    "\n",
    "    # Exclude the target company from the results\n",
    "    similar_companies = similar_companies[similar_companies['companyName'] != target_company]\n",
    "\n",
    "    return similar_companies.head(n)\n",
    "\n",
    "# Example usage\n",
    "result_tfidf_cosine = find_similar_companies(\"Visa Inc.\", data, 'vec_tfidf', n=10, method='tfidf', metric='cosine')\n",
    "result_tfidf_euclidean = find_similar_companies(\"Visa Inc.\", data, 'vec_tfidf', n=10, method='tfidf', metric='euclidean')\n",
    "\n",
    "result_word2vec_cosine = find_similar_companies(\"Visa Inc.\", data, 'description_word2vec', n=10, method='word2vec', metric='cosine')\n",
    "result_word2vec_euclidean = find_similar_companies(\"Visa Inc.\", data, 'description_word2vec', n=10, method='word2vec', metric='euclidean')\n",
    "\n",
    "print(\"TF-IDF Cosine Similarity:\\n\", result_tfidf_cosine)\n",
    "\n",
    "print(\"\\nWord2Vec Cosine Similarity:\\n\", result_word2vec_cosine)\n"
   ]
  },
  {
   "cell_type": "code",
   "execution_count": 19,
   "id": "8ed04540",
   "metadata": {},
   "outputs": [
    {
     "name": "stdout",
     "output_type": "stream",
     "text": [
      "TF-IDF Cosine Similarity:\n",
      "                               companyName  Similarity\n",
      "18055  BLS International Services Limited    0.415832\n",
      "1077                            Mogo Inc.    0.311937\n",
      "4973                           Adyen N.V.    0.292689\n",
      "916               Mastercard Incorporated    0.292129\n",
      "5910                           Usio, Inc.    0.268081\n",
      "13926                            XTM Inc.    0.261167\n",
      "1153               AppTech Payments Corp.    0.247371\n",
      "15013                       Isracard Ltd.    0.245550\n",
      "11669                   Plexian AB (publ)    0.244023\n",
      "1553                  ACI Worldwide, Inc.    0.231816\n",
      "\n",
      "Word2Vec Cosine Similarity:\n",
      "                      companyName  Similarity\n",
      "916      Mastercard Incorporated    0.901665\n",
      "1077                   Mogo Inc.    0.900398\n",
      "5910                  Usio, Inc.    0.889770\n",
      "28560  GMO Payment Gateway, Inc.    0.889736\n",
      "2600               EVERTEC, Inc.    0.889080\n",
      "1975                Fiserv, Inc.    0.886142\n",
      "887           i3 Verticals, Inc.    0.885526\n",
      "3064               PaySign, Inc.    0.882738\n",
      "37370                Wirecard AG    0.880923\n",
      "472      Euronet Worldwide, Inc.    0.879726\n"
     ]
    }
   ],
   "source": [
    "result_tfidf_cosine = find_similar_companies(\"Visa Inc.\", data, 'vec_tfidf', n=10, method='tfidf', metric='cosine')\n",
    "\n",
    "result_word2vec_cosine = find_similar_companies(\"Visa Inc.\", data, 'description_word2vec', n=10, method='word2vec', metric='cosine')\n",
    "\n",
    "print(\"TF-IDF Cosine Similarity:\\n\", result_tfidf_cosine)\n",
    "\n",
    "print(\"\\nWord2Vec Cosine Similarity:\\n\", result_word2vec_cosine)\n"
   ]
  },
  {
   "cell_type": "markdown",
   "id": "e3afab12",
   "metadata": {},
   "source": [
    "## Performance tests Using GPT "
   ]
  },
  {
   "cell_type": "markdown",
   "id": "2d2ed722",
   "metadata": {},
   "source": []
  },
  {
   "cell_type": "code",
   "execution_count": 14,
   "id": "5eec04bd",
   "metadata": {},
   "outputs": [],
   "source": [
    "test_cases = {\n",
    "    \"Visa Inc.\": [\n",
    "        \"Mastercard Incorporated\", \"American Express Company\", \"PayPal Holdings, Inc.\",\n",
    "        \"JPMorgan Chase & Co.\", \"Citigroup Inc.\", \"Goldman Sachs Group, Inc.\",\n",
    "        \"Morgan Stanley\", \"Bank of America Corporation\", \"Wells Fargo & Company\",\n",
    "        \"U.S. Bancorp\"],\n",
    "    \"Texas Roadhouse, Inc.\": [\n",
    "        \"McDonald’s Corp.\", \"Yum! Brands, Inc.\", \"Chipotle Mexican Grill, Inc.\",\n",
    "        \"Starbucks Corporation\", \"Domino's Pizza, Inc.\", \"Burger King\", \n",
    "        \"Denny's Corporation\", \"Wendy's Company\", \"Papa John's International, Inc.\", \n",
    "        \"Jack in the Box Inc.\"],\n",
    "    \"Lamb Weston Holdings, Inc.\": [\n",
    "        \"Kraft Heinz Company\", \"Tyson Foods, Inc.\", \"Hormel Foods Corporation\",\n",
    "        \"Sysco Corporation\", \"PepsiCo, Inc.\", \"Conagra Brands, Inc.\", \"Kellogg Company\",\n",
    "        \"General Mills, Inc.\", \"Campbell Soup Company\", \"The Hershey Company\"],\n",
    "    \"Intact Financial Corporation\": [\n",
    "        \"MetLife, Inc.\", \"Prudential Financial, Inc.\", \"The Travelers Companies, Inc.\",\n",
    "        \"Allstate Corporation\", \"American International Group, Inc.\", \"Progressive Corporation\",\n",
    "        \"State Farm Insurance\", \"Liberty Mutual Insurance Company\", \"Chubb Limited\",\n",
    "        \"Zurich Insurance Group\"],\n",
    "    \"OPKO Health, Inc.\": [\n",
    "        \"Pfizer Inc.\", \"Johnson & Johnson\", \"Merck & Co., Inc.\", \"Gilead Sciences, Inc.\",\n",
    "        \"Amgen Inc.\", \"AbbVie Inc.\", \"Bristol Myers Squibb Company\", \"Sanofi\", \n",
    "        \"GlaxoSmithKline plc\", \"Novartis AG\"],\n",
    "    \"Ferroglobe PLC\": [\n",
    "        \"BHP Group\", \"Rio Tinto Group\", \"Vale S.A.\", \"Glencore plc\", \"Anglo American plc\",\n",
    "        \"Freeport-McMoRan Inc.\", \"Alcoa Corporation\", \"ArcelorMittal\", \"Teck Resources Limited\",\n",
    "        \"Nucor Corporation\"],\n",
    "    \"Hanesbrands Inc.\": [\n",
    "        \"Levi Strauss & Co.\", \"PVH Corp.\", \"Ralph Lauren Corporation\", \"Gap Inc.\",\n",
    "        \"L Brands, Inc.\", \"Under Armour, Inc.\", \"VF Corporation\", \"Columbia Sportswear Company\",\n",
    "        \"American Eagle Outfitters, Inc.\", \"Nordstrom, Inc.\"],\n",
    "    \"Esports Entertainment Group, Inc.\": [\n",
    "        \"Activision Blizzard, Inc.\", \"Electronic Arts Inc.\", \"Take-Two Interactive Software, Inc.\",\n",
    "        \"Zynga Inc.\", \"Ubisoft Entertainment SA\", \"Square Enix Holdings Co., Ltd.\",\n",
    "        \"Bandai Namco Holdings Inc.\", \"Tencent Holdings Limited\", \"SEGA Sammy Holdings Inc.\",\n",
    "        \"Capcom Co., Ltd.\"],\n",
    "    \"WW International, Inc.\": [\n",
    "        \"Nutrisystem, Inc.\", \"Medifast, Inc.\", \"Herbalife Nutrition Ltd.\", \"Planet Fitness, Inc.\",\n",
    "        \"Peloton Interactive, Inc.\", \"Nautilus, Inc.\", \"Fitbit, Inc.\", \"Lululemon Athletica Inc.\",\n",
    "        \"Nike, Inc.\", \"Under Armour, Inc.\"],\n",
    "    \"CommScope Holding Company, Inc.\": [\n",
    "        \"Cisco Systems, Inc.\", \"Qualcomm Incorporated\", \"Nokia Corporation\", \"Ericsson\",\n",
    "        \"ZTE Corporation\", \"Huawei Technologies Co., Ltd.\", \"Juniper Networks, Inc.\",\n",
    "        \"Motorola Solutions, Inc.\", \"Corning Incorporated\", \"Broadcom Inc.\"]\n",
    "}\n"
   ]
  },
  {
   "cell_type": "code",
   "execution_count": 17,
   "id": "a6e43bd5",
   "metadata": {},
   "outputs": [],
   "source": [
    "# Function to test and score the algorithm\n",
    "def test_algorithm(df, test_cases):\n",
    "    scores = {}  # Dictionary to hold scores for each method and metric\n",
    "\n",
    "    for company in test_cases.keys():\n",
    "        # Run the function for different methods and metrics\n",
    "        results = {\n",
    "            'tfidf_cosine': find_similar_companies(company, df, 'vec_tfidf', 10, 'tfidf', 'cosine'),\n",
    "            'word2vec_cosine': find_similar_companies(company, df, 'description_word2vec', 10, 'word2vec', 'cosine'),\n",
    "        }\n",
    "\n",
    "        # Scoring each result\n",
    "        for key, result in results.items():\n",
    "            output_companies = list(result['companyName'])\n",
    "            expected_companies = test_cases[company]\n",
    "            score = 0\n",
    "\n",
    "            for idx, expected_company in enumerate(expected_companies):\n",
    "                if expected_company in output_companies:\n",
    "                    output_idx = output_companies.index(expected_company)\n",
    "                    score += 10 - abs(idx - output_idx)\n",
    "                else:\n",
    "                    score += 0  # Company not found, score 0\n",
    "\n",
    "            scores.setdefault(key, 0)\n",
    "            scores[key] += score\n",
    "\n",
    "    return scores\n"
   ]
  },
  {
   "cell_type": "code",
   "execution_count": 18,
   "id": "c4fb3629",
   "metadata": {},
   "outputs": [
    {
     "name": "stdout",
     "output_type": "stream",
     "text": [
      "{'tfidf_cosine': 48, 'word2vec_cosine': 61}\n"
     ]
    }
   ],
   "source": [
    "# Run the test and print scores\n",
    "scores = test_algorithm(data, test_cases)\n",
    "print(scores)"
   ]
  },
  {
   "cell_type": "code",
   "execution_count": 34,
   "id": "51b119e3",
   "metadata": {},
   "outputs": [
    {
     "name": "stdout",
     "output_type": "stream",
     "text": [
      "                Expected Company         TF-IDF Cosine Similarity  \\\n",
      "0            Cisco Systems, Inc.               Casa Systems, Inc.   \n",
      "1          Qualcomm Incorporated                      Belden Inc.   \n",
      "2              Nokia Corporation  Arcadyan Technology Corporation   \n",
      "3                       Ericsson       Cogeco Communications Inc.   \n",
      "4                ZTE Corporation    Liberty Broadband Corporation   \n",
      "5  Huawei Technologies Co., Ltd.            SITI Networks Limited   \n",
      "6         Juniper Networks, Inc.                 Altice USA, Inc.   \n",
      "7       Motorola Solutions, Inc.     Ortel Communications Limited   \n",
      "8           Corning Incorporated             Vecima Networks Inc.   \n",
      "9                  Broadcom Inc.        CyberTAN Technology, Inc.   \n",
      "\n",
      "                  Word2Vec Cosine Similarity  TF-IDF Score  Word2Vec Score  \n",
      "0               Cambium Networks Corporation             0               0  \n",
      "1                      ADTRAN Holdings, Inc.             0               0  \n",
      "2                EDIMAX Technology Co., Ltd.             0               0  \n",
      "3                              Ubiquiti Inc.             0               0  \n",
      "4                         Casa Systems, Inc.             0               0  \n",
      "5                                Belden Inc.             0               0  \n",
      "6              Gilat Satellite Networks Ltd.             0               0  \n",
      "7  Loop Telecommunication International,Inc.             0               0  \n",
      "8                            MaxLinear, Inc.             0               0  \n",
      "9                     Tejas Networks Limited             0               0  \n"
     ]
    }
   ],
   "source": [
    "import pandas as pd\n",
    "\n",
    "\n",
    "company_target =  \"CommScope Holding Company, Inc.\"\n",
    "# Assuming you have the results from your function\n",
    "result_tfidf_cosine = find_similar_companies(company_target, data, 'vec_tfidf', n=10, method='tfidf', metric='cosine')\n",
    "result_word2vec_cosine = find_similar_companies(company_target, data, 'description_word2vec', n=10, method='word2vec', metric='cosine')\n",
    "\n",
    "# Extracting company names from the results\n",
    "tfidf_cosine_companies = list(result_tfidf_cosine['companyName'])\n",
    "word2vec_cosine_companies = list(result_word2vec_cosine['companyName'])\n",
    "\n",
    "# Test cases for \"Visa Inc.\"\n",
    "expected_companies = test_cases[company_target]\n",
    "\n",
    "# Creating a DataFrame to display the results\n",
    "df = pd.DataFrame({\n",
    "    \"Expected Company\": expected_companies,\n",
    "    \"TF-IDF Cosine Similarity\": tfidf_cosine_companies,\n",
    "    \"Word2Vec Cosine Similarity\": word2vec_cosine_companies\n",
    "})\n",
    "\n",
    "# Function to calculate score\n",
    "def calculate_score(expected, actual, actual_list):\n",
    "    if actual in expected:\n",
    "        expected_position = expected.index(actual)\n",
    "        actual_position = actual_list.index(actual)\n",
    "        position_difference = abs(expected_position - actual_position)\n",
    "        return max(10 - position_difference, 0)\n",
    "    return 0\n",
    "\n",
    "# Adding scores to the DataFrame\n",
    "df[\"TF-IDF Score\"] = df.apply(lambda row: calculate_score(expected_companies, row[\"TF-IDF Cosine Similarity\"], tfidf_cosine_companies), axis=1)\n",
    "df[\"Word2Vec Score\"] = df.apply(lambda row: calculate_score(expected_companies, row[\"Word2Vec Cosine Similarity\"], word2vec_cosine_companies), axis=1)\n",
    "\n",
    "\n",
    "# Display the DataFrame\n",
    "print(df)\n"
   ]
  },
  {
   "cell_type": "code",
   "execution_count": null,
   "id": "xptIW6vWZqCH",
   "metadata": {
    "colab": {
     "background_save": true
    },
    "id": "xptIW6vWZqCH"
   },
   "outputs": [],
   "source": [
    "# def from_token_to_ranking(name=\"Visa Inc.\"):\n",
    "#   \"\"\"\n",
    "#   fonction de test uniquement, il ne faut pas load le csv comme cela, car il y a des traitements à faire dessus.\n",
    "#   \"\"\"\n",
    "\n",
    "#   df = pd.read_csv(\"/content/drive/MyDrive/S9/DDEFI/Projet_DDEFI/code/data_tokenized.csv\")\n",
    "#   df.drop(columns='Unnamed: 0', inplace=True)\n",
    "#   df=df.iloc[:10]\n",
    "\n",
    "#   df = build_tfidf(df)\n",
    "\n",
    "#   result_tfidf = find_similar_companies(name, df, 'vec_tfidf', n=20)\n",
    "#   return result_tfidf\n",
    "\n",
    "# # from_token_to_ranking(\"Visa Inc.\")\n",
    "# from_token_to_ranking(\"Texas Roadhouse, Inc.\")\n",
    "# #from_token_to_ranking(\"Lamb Weston Holdings, Inc.\")\n",
    "# #from_token_to_ranking(\"Ferroglobe PLC\")"
   ]
  },
  {
   "cell_type": "markdown",
   "id": "35io1WD2O9n3",
   "metadata": {
    "id": "35io1WD2O9n3",
    "tags": []
   },
   "source": [
    "# GPD per Capita bis (world bank)"
   ]
  },
  {
   "cell_type": "code",
   "execution_count": 68,
   "id": "HupvWEW6t5lB",
   "metadata": {
    "executionInfo": {
     "elapsed": 461,
     "status": "ok",
     "timestamp": 1699466236664,
     "user": {
      "displayName": "Romain MARLET",
      "userId": "18112648248908016912"
     },
     "user_tz": -60
    },
    "id": "HupvWEW6t5lB",
    "tags": []
   },
   "outputs": [],
   "source": [
    "dict_mapping_name_abb = {\n",
    "    'Aruba': 'AW',\n",
    "    'Afghanistan': 'AF',\n",
    "    'Angola': 'AO',\n",
    "    'Albania': 'AL',\n",
    "    'Andorra': 'AD',\n",
    "    'United Arab Emirates': 'AE',\n",
    "    'Argentina': 'AR',\n",
    "    'Armenia': 'AM',\n",
    "    'American Samoa': 'AS',\n",
    "    'Antigua and Barbuda': 'AG',\n",
    "    'Australia': 'AU',\n",
    "    'Austria': 'AT',\n",
    "    'Azerbaijan': 'AZ',\n",
    "    'Burundi': 'BI',\n",
    "    'Belgium': 'BE',\n",
    "    'Benin': 'BJ',\n",
    "    'Burkina Faso': 'BF',\n",
    "    'Bangladesh': 'BD',\n",
    "    'Bulgaria': 'BG',\n",
    "    'Bahrain': 'BH',\n",
    "    'Bahamas, The': 'BS',\n",
    "    'Bosnia and Herzegovina': 'BA',\n",
    "    'Belarus': 'BY',\n",
    "    'Belize': 'BZ',\n",
    "    'Bermuda': 'BM',\n",
    "    'Bolivia': 'BO',\n",
    "    'Brazil': 'BR',\n",
    "    'Barbados': 'BB',\n",
    "    'Brunei Darussalam': 'BN',\n",
    "    'Bhutan': 'BT',\n",
    "    'Botswana': 'BW',\n",
    "    'Central African Republic': 'CF',\n",
    "    'Canada': 'CA',\n",
    "    'Switzerland': 'CH',\n",
    "    'Channel Islands': 'XK',\n",
    "    'Chile': 'CL',\n",
    "    'China': 'CN',\n",
    "    \"Cote d'Ivoire\": 'CI',\n",
    "    'Cameroon': 'CM',\n",
    "    'Congo, Dem. Rep.': 'CD',\n",
    "    'Congo, Rep.': 'CG',\n",
    "    'Colombia': 'CO',\n",
    "    'Comoros': 'KM',\n",
    "    'Cabo Verde': 'CV',\n",
    "    'Costa Rica': 'CR',\n",
    "    'Cuba': 'CU',\n",
    "    'Curacao': 'CW',\n",
    "    'Cayman Islands': 'KY',\n",
    "    'Cyprus': 'CY',\n",
    "    'Czechia': 'CZ',\n",
    "    'Germany': 'DE',\n",
    "    'Djibouti': 'DJ',\n",
    "    'Dominica': 'DM',\n",
    "    'Denmark': 'DK',\n",
    "    'Dominican Republic': 'DO',\n",
    "    'Algeria': 'DZ',\n",
    "    'Ecuador': 'EC',\n",
    "    'Egypt, Arab Rep.': 'EG',\n",
    "    'Eritrea': 'ER',\n",
    "    'Spain': 'ES',\n",
    "    'Estonia': 'EE',\n",
    "    'Ethiopia': 'ET',\n",
    "    'Finland': 'FI',\n",
    "    'Fiji': 'FJ',\n",
    "    'France': 'FR',\n",
    "    'Faroe Islands': 'FO',\n",
    "    'Micronesia, Fed. Sts.': 'FM',\n",
    "    'Gabon': 'GA',\n",
    "    'United Kingdom': 'UK',\n",
    "    'Georgia': 'GE',\n",
    "    'Ghana': 'GH',\n",
    "    'Gibraltar': 'GI',\n",
    "    'Guinea': 'GN',\n",
    "    'Gambia, The': 'GM',\n",
    "    'Guinea-Bissau': 'GW',\n",
    "    'Equatorial Guinea': 'GQ',\n",
    "    'Greece': 'GR',\n",
    "    'Grenada': 'GD',\n",
    "    'Greenland': 'GL',\n",
    "    'Guatemala': 'GT',\n",
    "    'Guam': 'GU',\n",
    "    'Guyana': 'GY',\n",
    "    'Hong Kong SAR, China': 'HK',\n",
    "    'Honduras': 'HN',\n",
    "    'Croatia': 'HR',\n",
    "    'Haiti': 'HT',\n",
    "    'Hungary': 'HU',\n",
    "    'Indonesia': 'ID',\n",
    "    'Isle of Man': 'IM',\n",
    "    'India': 'IN',\n",
    "    'Ireland': 'IE',\n",
    "    'Iran, Islamic Rep.': 'IR',\n",
    "    'Iraq': 'IQ',\n",
    "    'Iceland': 'IS',\n",
    "    'Israel': 'IL',\n",
    "    'Italy': 'IT',\n",
    "    'Jamaica': 'JM',\n",
    "    'Jordan': 'JO',\n",
    "    'Japan': 'JP',\n",
    "    'Kazakhstan': 'KZ',\n",
    "    'Kenya': 'KE',\n",
    "    'Kyrgyz Republic': 'KG',\n",
    "    'Cambodia': 'KH',\n",
    "    'Kiribati': 'KI',\n",
    "    'St. Kitts and Nevis': 'KN',\n",
    "    'Korea, Rep.': 'KR',\n",
    "    'Kuwait': 'KW',\n",
    "    'Lao PDR': 'LA',\n",
    "    'Lebanon': 'LB',\n",
    "    'Liberia': 'LR',\n",
    "    'Libya': 'LY',\n",
    "    'St. Lucia': 'LC',\n",
    "    'Liechtenstein': 'LI',\n",
    "    'Sri Lanka': 'LK',\n",
    "    'Lesotho': 'LS',\n",
    "    'Lithuania': 'LT',\n",
    "    'Luxembourg': 'LU',\n",
    "    'Latvia': 'LV',\n",
    "    'Macao SAR, China': 'MO',\n",
    "    'St. Martin (French part)': 'MF',\n",
    "    'Morocco': 'MA',\n",
    "    'Monaco': 'MC',\n",
    "    'Moldova': 'MD',\n",
    "    'Madagascar': 'MG',\n",
    "    'Maldives': 'MV',\n",
    "    'Mexico': 'MX',\n",
    "    'Marshall Islands': 'MH',\n",
    "    'North Macedonia': 'MK',\n",
    "    'Mali': 'ML',\n",
    "    'Malta': 'MT',\n",
    "    'Myanmar': 'MM',\n",
    "    'Montenegro': 'ME',\n",
    "    'Mongolia': 'MN',\n",
    "    'Northern Mariana Islands': 'MP',\n",
    "    'Mozambique': 'MZ',\n",
    "    'Mauritania': 'MR',\n",
    "    'Mauritius': 'MU',\n",
    "    'Malawi': 'MW',\n",
    "    'Malaysia': 'MY',\n",
    "    'Namibia': 'NA',\n",
    "    'New Caledonia': 'NC',\n",
    "    'Niger': 'NE',\n",
    "    'Nigeria': 'NG',\n",
    "    'Nicaragua': 'NI',\n",
    "    'Netherlands': 'NL',\n",
    "    'Norway': 'NO',\n",
    "    'Nepal': 'NP',\n",
    "    'Nauru': 'NR',\n",
    "    'New Zealand': 'NZ',\n",
    "    'Oman': 'OM',\n",
    "    'Pakistan': 'PK',\n",
    "    'Panama': 'PA',\n",
    "    'Peru': 'PE',\n",
    "    'Philippines': 'PH',\n",
    "    'Palau': 'PW',\n",
    "    'Papua New Guinea': 'PG',\n",
    "    'Poland': 'PL',\n",
    "    'Puerto Rico': 'PR',\n",
    "    \"Korea, Dem. People's Rep.\": 'KP',\n",
    "    'Portugal': 'PT',\n",
    "    'Paraguay': 'PY',\n",
    "    'West Bank and Gaza': 'PS',\n",
    "    'French Polynesia': 'PF',\n",
    "    'Qatar': 'QA',\n",
    "    'Romania': 'RO',\n",
    "    'Russian Federation': 'RU',\n",
    "    'Rwanda': 'RW',\n",
    "    'Saudi Arabia': 'SA',\n",
    "    'Sudan': 'SD',\n",
    "    'Senegal': 'SN',\n",
    "    'Singapore': 'SG',\n",
    "    'Solomon Islands': 'SB',\n",
    "    'Sierra Leone': 'SL',\n",
    "    'El Salvador': 'SV',\n",
    "    'San Marino': 'SM',\n",
    "    'Somalia': 'SO',\n",
    "    'Serbia': 'RS',\n",
    "    'South Sudan': 'SS',\n",
    "    'Sao Tome and Principe': 'ST',\n",
    "    'Suriname': 'SR',\n",
    "    'Slovak Republic': 'SK',\n",
    "    'Slovenia': 'SI',\n",
    "    'Sweden': 'SE',\n",
    "    'Eswatini': 'SZ',\n",
    "    'Sint Maarten (Dutch part)': 'SX',\n",
    "    'Seychelles': 'SC',\n",
    "    'Syrian Arab Republic': 'SY',\n",
    "    'Turks and Caicos Islands': 'TC',\n",
    "    'Chad': 'TD',\n",
    "    'Togo': 'TG',\n",
    "    'Thailand': 'TH',\n",
    "    'Tajikistan': 'TJ',\n",
    "    'Turkmenistan': 'TM',\n",
    "    'Timor-Leste': 'TL',\n",
    "    'Tonga': 'TO',\n",
    "    'Trinidad and Tobago': 'TT',\n",
    "    'Tunisia': 'TN',\n",
    "    'Turkiye': 'TR',\n",
    "    'Tuvalu': 'TV',\n",
    "    'Tanzania': 'TZ',\n",
    "    'Uganda': 'UG',\n",
    "    'Ukraine': 'UA',\n",
    "    'Uruguay': 'UY',\n",
    "    'United States': 'US',\n",
    "    'Uzbekistan': 'UZ',\n",
    "    'St. Vincent and the Grenadines': 'VC',\n",
    "    'Venezuela, RB': 'VE',\n",
    "    'British Virgin Islands': 'VG',\n",
    "    'Virgin Islands (U.S.)': 'VI',\n",
    "    'Vietnam': 'VN',\n",
    "    'Vanuatu': 'VU',\n",
    "    'Samoa': 'WS',\n",
    "    'Kosovo': 'XK',\n",
    "    'Yemen, Rep.': 'YE',\n",
    "    'South Africa': 'ZA',\n",
    "    'Zambia': 'ZM',\n",
    "    'Zimbabwe': 'ZW'\n",
    "}"
   ]
  },
  {
   "cell_type": "code",
   "execution_count": 69,
   "id": "619ecff0-4dc3-4fa8-9e01-46ba96be9029",
   "metadata": {
    "tags": []
   },
   "outputs": [],
   "source": [
    "def build_GDP_similarity_matrix():\n",
    "    file_path = \"../Data/GDP per capita (current US$).csv\"\n",
    "    data_GDP = pd.read_csv(file_path)\n",
    "    data_GDP = data_GDP.rename(columns={'GDP per capita (current US$)':'GDPpc'})\n",
    "    data_GDP = data_GDP.drop(columns={'Economy Code', 'Year'})\n",
    "    data_GDP = data_GDP.drop(data_GDP[data_GDP['Economy'].isin(['Eritrea', \"Korea, Dem. People's Rep.\"])].index)\n",
    "    data_GDP['Economy'] = data_GDP['Economy'].map(dict_mapping_name_abb)\n",
    "    \n",
    "    gdp_array = data_GDP['GDPpc'].values\n",
    "    num_pays = len(gdp_array)\n",
    "    similarity_matrix = np.zeros((num_pays, num_pays))\n",
    "\n",
    "    for i in range(num_pays):\n",
    "        for j in range(num_pays):\n",
    "            distance = (np.abs(gdp_array[i] - gdp_array[j])) / (gdp_array[i]+gdp_array[j])\n",
    "            similarity_matrix[i][j] = 1/(1+distance)\n",
    "\n",
    "    similarity_matrix = pd.DataFrame(similarity_matrix, index=data_GDP['Economy'], columns=data_GDP['Economy'])\n",
    "\n",
    "    return similarity_matrix\n",
    "\n",
    "GDP_similarity_matrix = build_GDP_similarity_matrix()"
   ]
  },
  {
   "cell_type": "markdown",
   "id": "d962f483-a59e-41c0-89ec-cc7b4255619e",
   "metadata": {
    "tags": []
   },
   "source": [
    "# liste de keywords"
   ]
  },
  {
   "cell_type": "markdown",
   "id": "9a429a7e-0944-44bf-a27e-d3d5b5feea10",
   "metadata": {},
   "source": [
    "- problème du stemming : on propose des stemming ou des tokens entiers ?"
   ]
  },
  {
   "cell_type": "code",
   "execution_count": 33,
   "id": "85bc8f61-980a-4e50-8ecc-8198b23e12b2",
   "metadata": {
    "tags": []
   },
   "outputs": [],
   "source": [
    "df_full = data.copy()"
   ]
  },
  {
   "cell_type": "code",
   "execution_count": 34,
   "id": "btoa-p-yUGk4",
   "metadata": {
    "colab": {
     "background_save": true
    },
    "id": "btoa-p-yUGk4",
    "tags": []
   },
   "outputs": [],
   "source": [
    "all_tokens = df_full['description_stem'].explode().tolist() # Concaténation des listes de tokens\n",
    "unique_tokens = set(all_tokens) # Création du pool de tokens uniques\n",
    "token_counts = pd.Series(all_tokens).value_counts() # Calcul du dénombrement de chaque token"
   ]
  },
  {
   "cell_type": "code",
   "execution_count": 35,
   "id": "1530c807-d551-4ac0-a681-f1efd15822df",
   "metadata": {
    "tags": []
   },
   "outputs": [
    {
     "data": {
      "text/plain": [
       "85.56162316607275"
      ]
     },
     "execution_count": 35,
     "metadata": {},
     "output_type": "execute_result"
    }
   ],
   "source": [
    "len(all_tokens)/df_full.shape[0]  # il y a ne moyenne 85 mots par description"
   ]
  },
  {
   "cell_type": "code",
   "execution_count": 36,
   "id": "854d3df2-d6a2-40b8-bdc6-876553dd5a37",
   "metadata": {
    "tags": []
   },
   "outputs": [
    {
     "data": {
      "text/plain": [
       "56.4085190535757"
      ]
     },
     "execution_count": 36,
     "metadata": {},
     "output_type": "execute_result"
    }
   ],
   "source": [
    "token_counts.quantile(0.9999)/df_full.shape[0]*100 # on ne prend que les mots qui apparaissent en moyenne moins de 56% du temps"
   ]
  },
  {
   "cell_type": "code",
   "execution_count": 37,
   "id": "31a85f37-e6f3-4481-9b84-c7bc08e91655",
   "metadata": {
    "tags": []
   },
   "outputs": [
    {
     "data": {
      "text/plain": [
       "0.006420751870043982"
      ]
     },
     "execution_count": 37,
     "metadata": {},
     "output_type": "execute_result"
    }
   ],
   "source": [
    "token_counts.quantile(0.7)/df_full.shape[0]*100 # on ne prend que les mots qui apparaissent en moyenne plus de 0.08% du temps"
   ]
  },
  {
   "cell_type": "code",
   "execution_count": 38,
   "id": "510babe3-9d79-4d17-b70f-30f4ed19819a",
   "metadata": {
    "tags": []
   },
   "outputs": [],
   "source": [
    "list_keywords = list(token_counts[\n",
    "    # (token_counts.quantile(0.7)<=token_counts)&\n",
    "    (token_counts<=token_counts.quantile(0.9999))\n",
    "].index)"
   ]
  },
  {
   "cell_type": "markdown",
   "id": "xswyAzgOTjUZ",
   "metadata": {
    "id": "xswyAzgOTjUZ",
    "tags": []
   },
   "source": [
    "# filtrage par secteur et keywords"
   ]
  },
  {
   "cell_type": "markdown",
   "id": "062a2ece-5d9a-47f2-a31d-86152d717293",
   "metadata": {},
   "source": [
    "- Comment appliquer un stemming sur les keywords tout en proposant les mots en entier ?\n",
    "- problème de filtrage : diagram de Venn ET/OU ??\n",
    "- faire une liste de keyword en triant les tokens de descirption par fréquence d'apparition\n",
    "- une fois qu'on a fait la liste des keywords possibles à partir du dataframe, demander à chatgpt si les keywors peuvent aussi correspondre à d'autres entreprises (dans le cas ou une description est trop pauvre en mots)"
   ]
  },
  {
   "cell_type": "code",
   "execution_count": 39,
   "id": "d3b73a0b-2412-4c4a-94a0-a6a87ab0f0cb",
   "metadata": {
    "tags": []
   },
   "outputs": [],
   "source": [
    "threshold_size_final_group=1000  # taille du groupe que l'on veut avoir pour commencer l'analyse avec les données financières"
   ]
  },
  {
   "cell_type": "code",
   "execution_count": 40,
   "id": "c4eed158-c55d-45d0-a73b-aec87ecae2f4",
   "metadata": {
    "tags": []
   },
   "outputs": [],
   "source": [
    "data = load_preprocess_data_tokenized()\n",
    "data = build_tfidf(data)\n",
    "df=data.copy()[:100]"
   ]
  },
  {
   "cell_type": "code",
   "execution_count": 41,
   "id": "5a8d2129-1f94-44a1-9e70-eeb1f0012a4f",
   "metadata": {
    "tags": []
   },
   "outputs": [],
   "source": [
    "df_full = data.copy()"
   ]
  },
  {
   "cell_type": "markdown",
   "id": "8cb5609e-4298-4ef7-b826-535f7930202b",
   "metadata": {},
   "source": [
    "## Filtrage secteur"
   ]
  },
  {
   "cell_type": "code",
   "execution_count": 42,
   "id": "dba01a61-f40f-42a4-99af-298fe570c314",
   "metadata": {
    "tags": []
   },
   "outputs": [
    {
     "data": {
      "text/html": [
       "<div>\n",
       "<style scoped>\n",
       "    .dataframe tbody tr th:only-of-type {\n",
       "        vertical-align: middle;\n",
       "    }\n",
       "\n",
       "    .dataframe tbody tr th {\n",
       "        vertical-align: top;\n",
       "    }\n",
       "\n",
       "    .dataframe thead th {\n",
       "        text-align: right;\n",
       "    }\n",
       "</style>\n",
       "<table border=\"1\" class=\"dataframe\">\n",
       "  <thead>\n",
       "    <tr style=\"text-align: right;\">\n",
       "      <th></th>\n",
       "      <th>companyName</th>\n",
       "      <th>industry</th>\n",
       "      <th>description</th>\n",
       "      <th>sector</th>\n",
       "      <th>country</th>\n",
       "      <th>description_stem</th>\n",
       "      <th>vec_tfidf</th>\n",
       "    </tr>\n",
       "  </thead>\n",
       "  <tbody>\n",
       "    <tr>\n",
       "      <th>0</th>\n",
       "      <td>Visa Inc.</td>\n",
       "      <td>Credit Services</td>\n",
       "      <td>Visa Inc. operates as a payments technology co...</td>\n",
       "      <td>Financial Services</td>\n",
       "      <td>US</td>\n",
       "      <td>[visa, inc., oper, payment, technolog, compani...</td>\n",
       "      <td>(0, 4034)\\t0.048136149366321546\\n  (0, 1837)...</td>\n",
       "    </tr>\n",
       "    <tr>\n",
       "      <th>1</th>\n",
       "      <td>Texas Roadhouse, Inc.</td>\n",
       "      <td>Restaurants</td>\n",
       "      <td>Texas Roadhouse, Inc., together with its subsi...</td>\n",
       "      <td>Consumer Cyclical</td>\n",
       "      <td>US</td>\n",
       "      <td>[texa, roadhous, inc., togeth, subsidiari, ope...</td>\n",
       "      <td>(0, 1322)\\t0.09313139114338634\\n  (0, 1190)\\...</td>\n",
       "    </tr>\n",
       "    <tr>\n",
       "      <th>2</th>\n",
       "      <td>Lamb Weston Holdings, Inc.</td>\n",
       "      <td>Packaged Foods</td>\n",
       "      <td>Lamb Weston Holdings, Inc. produces, distribut...</td>\n",
       "      <td>Consumer Defensive</td>\n",
       "      <td>US</td>\n",
       "      <td>[lamb, weston, hold, inc., produc, distribut, ...</td>\n",
       "      <td>(0, 1367)\\t0.08557671398259127\\n  (0, 1569)\\...</td>\n",
       "    </tr>\n",
       "    <tr>\n",
       "      <th>3</th>\n",
       "      <td>Intact Financial Corporation</td>\n",
       "      <td>Insurance—Property &amp; Casualty</td>\n",
       "      <td>Intact Financial Corporation, through its subs...</td>\n",
       "      <td>Financial Services</td>\n",
       "      <td>CA</td>\n",
       "      <td>[intact, financi, corpor, subsidiari, provid, ...</td>\n",
       "      <td>(0, 837)\\t0.04166147372941254\\n  (0, 4594)\\t...</td>\n",
       "    </tr>\n",
       "    <tr>\n",
       "      <th>4</th>\n",
       "      <td>OPKO Health, Inc.</td>\n",
       "      <td>Diagnostics &amp; Research</td>\n",
       "      <td>OPKO Health, Inc., a healthcare company, engag...</td>\n",
       "      <td>Healthcare</td>\n",
       "      <td>US</td>\n",
       "      <td>[opko, health, inc., healthcar, compani, engag...</td>\n",
       "      <td>(0, 2186)\\t0.0423533441945996\\n  (0, 1876)\\t...</td>\n",
       "    </tr>\n",
       "    <tr>\n",
       "      <th>...</th>\n",
       "      <td>...</td>\n",
       "      <td>...</td>\n",
       "      <td>...</td>\n",
       "      <td>...</td>\n",
       "      <td>...</td>\n",
       "      <td>...</td>\n",
       "      <td>...</td>\n",
       "    </tr>\n",
       "    <tr>\n",
       "      <th>37577</th>\n",
       "      <td>Global Brokerage, Inc.</td>\n",
       "      <td>Financial Data &amp; Stock Exchanges</td>\n",
       "      <td>Global Brokerage, Inc., through its subsidiari...</td>\n",
       "      <td>Financial Services</td>\n",
       "      <td>US</td>\n",
       "      <td>[global, brokerag, inc., subsidiari, provid, o...</td>\n",
       "      <td>(0, 1441)\\t0.13164564984781743\\n  (0, 3566)\\...</td>\n",
       "    </tr>\n",
       "    <tr>\n",
       "      <th>37580</th>\n",
       "      <td>Prima Industrie SpA</td>\n",
       "      <td>Specialty Industrial Machinery</td>\n",
       "      <td>Prima Industrie SpA develops, manufactures, an...</td>\n",
       "      <td>Industrials</td>\n",
       "      <td>IT</td>\n",
       "      <td>[prima, industri, spa, develop, manufactur, ma...</td>\n",
       "      <td>(0, 3574)\\t0.6296136299698853\\n  (0, 649)\\t0...</td>\n",
       "    </tr>\n",
       "    <tr>\n",
       "      <th>37581</th>\n",
       "      <td>PT Putra Rajawali Kencana Tbk</td>\n",
       "      <td>Trucking</td>\n",
       "      <td>PT Putra Rajawali Kencana Tbk engages in the t...</td>\n",
       "      <td>Industrials</td>\n",
       "      <td>ID</td>\n",
       "      <td>[pt, putra, rajawali, kencana, tbk, engag, tra...</td>\n",
       "      <td>(0, 4399)\\t0.19818247441015044\\n  (0, 2494)\\...</td>\n",
       "    </tr>\n",
       "    <tr>\n",
       "      <th>37582</th>\n",
       "      <td>Agritek Holdings, Inc.</td>\n",
       "      <td>Real Estate Services</td>\n",
       "      <td>Agritek Holdings, Inc. distributes hemp and ca...</td>\n",
       "      <td>Real Estate</td>\n",
       "      <td>US</td>\n",
       "      <td>[agritek, hold, inc., distribut, hemp, cannabi...</td>\n",
       "      <td>(0, 1474)\\t0.28387126914705035\\n  (0, 4566)\\...</td>\n",
       "    </tr>\n",
       "    <tr>\n",
       "      <th>37583</th>\n",
       "      <td>Viewtran Group, Inc.</td>\n",
       "      <td>Credit Services</td>\n",
       "      <td>Viewtran Group, Inc. provides supply chain fin...</td>\n",
       "      <td>Financial Services</td>\n",
       "      <td>CN</td>\n",
       "      <td>[viewtran, group, inc., provid, suppli, chain,...</td>\n",
       "      <td>(0, 4074)\\t0.20580128303741607\\n  (0, 1060)\\...</td>\n",
       "    </tr>\n",
       "  </tbody>\n",
       "</table>\n",
       "<p>31149 rows × 7 columns</p>\n",
       "</div>"
      ],
      "text/plain": [
       "                         companyName                          industry  \\\n",
       "0                          Visa Inc.                   Credit Services   \n",
       "1              Texas Roadhouse, Inc.                       Restaurants   \n",
       "2         Lamb Weston Holdings, Inc.                    Packaged Foods   \n",
       "3       Intact Financial Corporation     Insurance—Property & Casualty   \n",
       "4                  OPKO Health, Inc.            Diagnostics & Research   \n",
       "...                              ...                               ...   \n",
       "37577         Global Brokerage, Inc.  Financial Data & Stock Exchanges   \n",
       "37580            Prima Industrie SpA    Specialty Industrial Machinery   \n",
       "37581  PT Putra Rajawali Kencana Tbk                          Trucking   \n",
       "37582         Agritek Holdings, Inc.              Real Estate Services   \n",
       "37583           Viewtran Group, Inc.                   Credit Services   \n",
       "\n",
       "                                             description              sector  \\\n",
       "0      Visa Inc. operates as a payments technology co...  Financial Services   \n",
       "1      Texas Roadhouse, Inc., together with its subsi...   Consumer Cyclical   \n",
       "2      Lamb Weston Holdings, Inc. produces, distribut...  Consumer Defensive   \n",
       "3      Intact Financial Corporation, through its subs...  Financial Services   \n",
       "4      OPKO Health, Inc., a healthcare company, engag...          Healthcare   \n",
       "...                                                  ...                 ...   \n",
       "37577  Global Brokerage, Inc., through its subsidiari...  Financial Services   \n",
       "37580  Prima Industrie SpA develops, manufactures, an...         Industrials   \n",
       "37581  PT Putra Rajawali Kencana Tbk engages in the t...         Industrials   \n",
       "37582  Agritek Holdings, Inc. distributes hemp and ca...         Real Estate   \n",
       "37583  Viewtran Group, Inc. provides supply chain fin...  Financial Services   \n",
       "\n",
       "      country                                   description_stem  \\\n",
       "0          US  [visa, inc., oper, payment, technolog, compani...   \n",
       "1          US  [texa, roadhous, inc., togeth, subsidiari, ope...   \n",
       "2          US  [lamb, weston, hold, inc., produc, distribut, ...   \n",
       "3          CA  [intact, financi, corpor, subsidiari, provid, ...   \n",
       "4          US  [opko, health, inc., healthcar, compani, engag...   \n",
       "...       ...                                                ...   \n",
       "37577      US  [global, brokerag, inc., subsidiari, provid, o...   \n",
       "37580      IT  [prima, industri, spa, develop, manufactur, ma...   \n",
       "37581      ID  [pt, putra, rajawali, kencana, tbk, engag, tra...   \n",
       "37582      US  [agritek, hold, inc., distribut, hemp, cannabi...   \n",
       "37583      CN  [viewtran, group, inc., provid, suppli, chain,...   \n",
       "\n",
       "                                               vec_tfidf  \n",
       "0        (0, 4034)\\t0.048136149366321546\\n  (0, 1837)...  \n",
       "1        (0, 1322)\\t0.09313139114338634\\n  (0, 1190)\\...  \n",
       "2        (0, 1367)\\t0.08557671398259127\\n  (0, 1569)\\...  \n",
       "3        (0, 837)\\t0.04166147372941254\\n  (0, 4594)\\t...  \n",
       "4        (0, 2186)\\t0.0423533441945996\\n  (0, 1876)\\t...  \n",
       "...                                                  ...  \n",
       "37577    (0, 1441)\\t0.13164564984781743\\n  (0, 3566)\\...  \n",
       "37580    (0, 3574)\\t0.6296136299698853\\n  (0, 649)\\t0...  \n",
       "37581    (0, 4399)\\t0.19818247441015044\\n  (0, 2494)\\...  \n",
       "37582    (0, 1474)\\t0.28387126914705035\\n  (0, 4566)\\...  \n",
       "37583    (0, 4074)\\t0.20580128303741607\\n  (0, 1060)\\...  \n",
       "\n",
       "[31149 rows x 7 columns]"
      ]
     },
     "execution_count": 42,
     "metadata": {},
     "output_type": "execute_result"
    }
   ],
   "source": [
    "df_full"
   ]
  },
  {
   "cell_type": "code",
   "execution_count": 17,
   "id": "8702830c-372a-4fad-be4f-dc35b1599f5f",
   "metadata": {
    "tags": []
   },
   "outputs": [],
   "source": [
    "# pip install gensim"
   ]
  },
  {
   "cell_type": "code",
   "execution_count": 162,
   "id": "900a86d6-1fc1-4cd7-bbe7-834651f26b4f",
   "metadata": {
    "tags": []
   },
   "outputs": [],
   "source": [
    "def reduce_df_size(df, sector, list_keywords, threshold_size_final_group, stemmer=nltk.stem.SnowballStemmer('english')): # list_keywords_raw\n",
    "    \"\"\"\n",
    "    retourne df filtré qui contient 2 parties : \n",
    "        - les entreprises du même secteur\n",
    "        - les entreprises des autres secteurs qui clist_keywordsnt au moins un keyword (condition 'OR')\n",
    "        \n",
    "    \"\"\"\n",
    "    # list_keywords = build_semantic_from_raw_keywords(list_keywords_raw, df)\n",
    "    \n",
    "    \"\"\"\n",
    "    La première étape doit se faire sur les keywords stemmed et les tokens stemmed\n",
    "    \"\"\"\n",
    "\n",
    "    df = df.copy()\n",
    "    list_keywords = list_keywords.copy()\n",
    "    list_keywords = [stemmer.stem(word.lower()) for word in list_keywords] # on stem les keywords de l'utilisateur\n",
    "    filtered_df = df[df.sector==sector] # on ajoute directement les entrerises du même secteur\n",
    "\n",
    "\n",
    "    # on ajoute les entreprises qui vérifient tous les keywords et qui font partie des autres secteurs\n",
    "    df_other_sectors = df.loc[df['sector'] != sector].copy()\n",
    "    \n",
    "    \n",
    "    \n",
    "    # print('1', filtered_df.shape)\n",
    "\n",
    "    \n",
    "    \"ON COMMENCER PAR AUGMENTER LA ZONE DE RECHERCHE\"\n",
    "    \"on ajoute les entreprises des autres secteurs qui vérifient au moins 1 keyword\"\n",
    "    \"puis on supprime les doublons : concerne les entreprises qui contiennent plusieurs keywords\"\n",
    " \n",
    "    for keyword in list_keywords:\n",
    "        filtered_df = pd.concat([filtered_df, filter_on_keyword(df_other_sectors, keyword)])\n",
    "    filtered_df = filtered_df.drop_duplicates(subset='companyName') \n",
    "    \n",
    "    # print('2', filtered_df.shape)\n",
    "    \n",
    "    \n",
    "    \"DESORMAIS ON DIMINUE LA ZONE DE RECHERCHE\"\n",
    "    \"on compte combien de keywords sont contenus dans chaque ligne, et on ne garde que les meilleures lignes\"\n",
    "\n",
    "    filtered_df['nombre_keywords'] = filtered_df['description_stem'].apply(\n",
    "        lambda x: sum(keyword in x for keyword in list_keywords)\n",
    "        )\n",
    "    filtered_df = filtered_df.sort_values(by='nombre_keywords', ascending=False)\n",
    "    filtered_df = filtered_df.head(threshold_size_final_group)\n",
    "    \n",
    "\n",
    "    # print('3', filtered_df.shape)\n",
    "\n",
    "    \n",
    "    return filtered_df"
   ]
  },
  {
   "cell_type": "code",
   "execution_count": null,
   "id": "cba49992-7a0c-49a8-8d87-5e7808cab239",
   "metadata": {},
   "outputs": [],
   "source": [
    "# BOUT DE CODE D'ANCIENNES VERSIONS\n",
    "\n",
    "\n",
    "\n",
    "#     solution1=False\n",
    "#     if solution1:\n",
    "#         # solution 1 : prend en compte l'importance relative de chaque keyword : les premiers sont les plus importants\n",
    "#         while filtered_df.shape[0]>THRESHOLD_SIZE_FINAL_GROUP:\n",
    "#             \"si le df est trop grand, on réduit la taille avec un filtrage conjonctif 'condition 'AND'\"\n",
    "#             if len(list_keywords)==0:\n",
    "#                 \"on sort direct de la boucle, ce n'est pas optimal car la liste est encore trop grande\"\n",
    "#                 break\n",
    "\n",
    "#                 # \"ou bien on peut demander à l'utilisateur d'ajouter de nouveaux keywords\"\n",
    "#                 # new_keyword = input(\n",
    "#                 #     \"Il n'y a pas assez de keyword pour réduire la zone de recherche (TAILLE ZONE = {}/TAILLE MAX = {}),\\\n",
    "#                 #     veuillez en ajouter un : \".format(filtered_df.shape[0], THRESHOLD_SIZE_FINAL_GROUP))\n",
    "#                 # list_keywords.append(new_keyword)\n",
    "#             keyword = list_keywords.pop(0)\n",
    "#             filtered_df = filter_on_keyword(filtered_df, keyword)\n",
    "\n",
    "\n",
    "# \"\"\"DEUXIEME ETAPE : si la taille est trop petite, on ajoute les lignes qui contiennent des tokens qui sont des cousins sémantiques de keywords\n",
    "# pour entrer dans cette boucle, il faut que filtered_df.shape[0]<THRESHOLD_SIZE_FINAL_GROUP. \n",
    "# Le problème est que filtered_df contient des lignes avec 1 ou 2 keywords uniquement (après la troncature \n",
    "# filtered_df.head(THRESHOLD_SIZE_FINAL_GROUP)). \n",
    "# Pour éviter d'avoir des lignes avec trop peu de keywords, et ne pas pouvoir entrer dans la deuxième boucle (qui apporterait des lignes avec \n",
    "# plus d'informations), il faut mettre un seuil : par exemple à la PREMIERE ETAPE, on ne garde que les lignes qui ont au moins 50% des keywords ?\n",
    "# \"\"\"\n",
    "#         if filtered_df.shape[0]<THRESHOLD_SIZE_FINAL_GROUP:\n",
    "#             print(f\"Comment {THRESHOLD_SIZE_FINAL_GROUP} est plus grand que la taille de la table filtrée, calcule les similarités sémantiques pour compléter la table\")\n",
    "\n",
    "\n",
    "#             # il faut que dans description_raw ne figurent que les mots principaux qui résument la description\n",
    "#             # list_keywords = build_semantic_from_raw_keywords(list_keywords, df)\n",
    "#             filtered_df = complete_with_semantic(df, filtered_df, list_keywords, THRESHOLD_SIZE_FINAL_GROUP)\n",
    "    \n"
   ]
  },
  {
   "cell_type": "code",
   "execution_count": 45,
   "id": "26e03069-54ba-4c85-8177-f9e850e47af0",
   "metadata": {
    "tags": []
   },
   "outputs": [],
   "source": [
    "def filter_on_keyword(df, keyword):\n",
    "    resultat = df[df['description_stem'].apply(lambda x: keyword in x)]\n",
    "    return resultat"
   ]
  },
  {
   "cell_type": "code",
   "execution_count": 127,
   "id": "0f1ee6e6-a398-445c-bcc6-654499dfc27c",
   "metadata": {
    "tags": []
   },
   "outputs": [],
   "source": [
    "# from gensim.models import Word2Vec, KeyedVectors\n",
    "# import gensim.downloader as api\n",
    "# from gensim.downloader import load\n",
    "\n",
    "\n",
    "# def complete_with_semantic(df, filtered_df, list_keywords, threshold_size):\n",
    "#     print('ok1')\n",
    "#     df = df.copy()\n",
    "#     model = KeyedVectors.load_word2vec_format('../Data/word2vec.bin', binary=True)\n",
    "#     print('ok2')\n",
    "    \n",
    "#     # on enlève les entreprises qui sont sont déjà sélectionnées\n",
    "#     df = df[~df['companyName'].isin(filtered_df['companyName'])]\n",
    "    \n",
    "#     # on fait le calcul de distance entre la list de keywords et la description raw\n",
    "#     df['distance_raw_to_keywords'] = df['description_raw'].apply(lambda x: model.wmdistance(x, list_keywords))\n",
    "#     print('ok3')\n",
    "    \n",
    "\n",
    "#     df = df.sort_values(by='distance_raw_to_keywords', ascending=False)\n",
    "#     df = df.drop('distance_raw_to_keywords', axis=1)\n",
    "    \n",
    "#     number_of_lines_to_add = threshold_size - filtered_df.shape[0]\n",
    "#     df = df.head(number_of_lines_to_add)\n",
    "\n",
    "#     filtered_df = pd.concat([filtered_df, df], axis=0)\n",
    "#     return filtered_df"
   ]
  },
  {
   "cell_type": "code",
   "execution_count": null,
   "id": "227ec9b3-5c25-4ffe-9a5c-e86ede064990",
   "metadata": {},
   "outputs": [],
   "source": [
    "# def build_semantic_from_raw_keywords(df, list_keywords_raw):\n",
    "#     \"\"\"\n",
    "#     retourne la liste des cousins sémantiques des keywords de list_keywords_raw présents dans df\n",
    "#     \"\"\"\n",
    "#     THRESHOLD_SEMANTIC = 0.5 # on prend les cousins sémantiques dont la similarité est supérieure à THRESHOLD_SEMANTIC\n",
    "#     THRESHOLD_QUANTILE = 0.9999 # on ne considère que les mots dont la fréquence d'apparition est dans THRESHOLD_QUANTILE\n",
    "    \n",
    "#     \"construction de la liste de tous les cousins potentiels\"\n",
    "#     all_tokens = df['description'].explode().tolist() # Concaténation des listes de tokens\n",
    "#     unique_tokens = set(all_tokens) # Création du pool de tokens uniques\n",
    "#     token_counts = pd.Series(all_tokens).value_counts() # Calcul du dénombrement de chaque token\n",
    "    \n",
    "#     list_tokens = list(token_counts[\n",
    "#         # (token_counts.quantile(0.7)<=token_counts)&\n",
    "#         (token_counts<=token_counts.quantile(THRESHOLD_QUANTILE))\n",
    "#         ].index)\n",
    "\n",
    "    \n",
    "#     model = load_w2v_model(list_tokens)\n",
    "    \n",
    "#     list_keywords_semantic = find_semantic_cousins(list_keywords_raw, list_tokens, model, THRESHOLD_SEMANTIC)\n",
    "    \n",
    "#     return list_keywords_semantic"
   ]
  },
  {
   "cell_type": "code",
   "execution_count": null,
   "id": "0e79bce0-ff2a-4610-926b-4e3a25e8b20d",
   "metadata": {},
   "outputs": [],
   "source": [
    "# def load_w2v_model(list_training_tokens):\n",
    "#     return model"
   ]
  },
  {
   "cell_type": "code",
   "execution_count": null,
   "id": "559b5b0a-c731-4609-9f3c-e503391fc31a",
   "metadata": {},
   "outputs": [],
   "source": [
    "# from sklearn.metrics.pairwise import cosine_similarity\n",
    "\n",
    "# def find_semantic_cousins(list_keywords_raw, token_list, model, threshold_similarity):\n",
    "#     try:\n",
    "#         # Obtenez les vecteurs de tous les tokens\n",
    "#         token_vectors = [model.wv[token] for token in token_list]\n",
    "\n",
    "#         all_semantic_cousins = []\n",
    "\n",
    "#         for keyword in list_keywords_raw:\n",
    "#             try:\n",
    "#                 # Obtenez le vecteur du mot clé\n",
    "#                 keyword_vector = model.wv[keyword]\n",
    "\n",
    "#                 # cosine similarity entre le mot clé et tous les tokens\n",
    "#                 similarities = cosine_similarity([keyword_vector], token_vectors)[0]\n",
    "\n",
    "#                 # Récupérez les indices des tokens dont la similarité dépasse le seuil\n",
    "#                 selected_indices = [i for i, sim in enumerate(similarities) if sim > threshold_similarity]\n",
    "\n",
    "#                 # Ajoutez les tokens correspondant aux indices sélectionnés à la liste\n",
    "#                 all_semantic_cousins.extend(token_list[i] for i in selected_indices)\n",
    "\n",
    "#             except KeyError:\n",
    "#                 # Gère le cas où le mot clé n'est pas dans le vocabulaire du modèle\n",
    "#                 pass\n",
    "\n",
    "#         # Créez un ensemble à partir de la liste pour obtenir des cousins uniques\n",
    "#         unique_cousins = set(all_semantic_cousins)\n",
    "\n",
    "#         return list(unique_cousins)\n",
    "\n",
    "#     except KeyError:\n",
    "#         # Gère le cas où aucun token n'est pas dans le vocabulaire du modèle\n",
    "#         return []\n",
    "\n",
    "# # Exemple d'utilisation avec seuil de similarité\n",
    "# result = find_semantic_cousins(list_keywords_raw, list_tokens, model, threshold_similarity=0.6)\n"
   ]
  },
  {
   "cell_type": "code",
   "execution_count": 46,
   "id": "3e8e9d7f-186c-4320-97eb-79a599df8e8f",
   "metadata": {
    "tags": []
   },
   "outputs": [],
   "source": [
    "# find_semantic_cousins()\n",
    "list_keywords_raw = ['apple', 'car']\n",
    "list_tokens = ['fruit', 'vehicle', 'banana', 'grape', 'bus', 'train']"
   ]
  },
  {
   "cell_type": "code",
   "execution_count": 47,
   "id": "02c479ad-6c27-42b7-bf26-d1ef5d60125d",
   "metadata": {
    "tags": []
   },
   "outputs": [
    {
     "data": {
      "text/plain": [
       "array(['Financial Services', 'Consumer Cyclical', 'Consumer Defensive',\n",
       "       'Healthcare', 'Basic Materials', 'Technology', 'Energy',\n",
       "       'Utilities', 'Industrials', 'Communication Services',\n",
       "       'Real Estate', nan], dtype=object)"
      ]
     },
     "execution_count": 47,
     "metadata": {},
     "output_type": "execute_result"
    }
   ],
   "source": [
    "df_full.sector.unique()"
   ]
  },
  {
   "cell_type": "code",
   "execution_count": 57,
   "id": "ca748212-856e-4fff-b44c-5f60376cb6cb",
   "metadata": {
    "tags": []
   },
   "outputs": [
    {
     "name": "stdout",
     "output_type": "stream",
     "text": [
      "1 (5293, 7)\n",
      "2 (6019, 7)\n",
      "3 (1000, 8)\n"
     ]
    },
    {
     "data": {
      "text/html": [
       "<div>\n",
       "<style scoped>\n",
       "    .dataframe tbody tr th:only-of-type {\n",
       "        vertical-align: middle;\n",
       "    }\n",
       "\n",
       "    .dataframe tbody tr th {\n",
       "        vertical-align: top;\n",
       "    }\n",
       "\n",
       "    .dataframe thead th {\n",
       "        text-align: right;\n",
       "    }\n",
       "</style>\n",
       "<table border=\"1\" class=\"dataframe\">\n",
       "  <thead>\n",
       "    <tr style=\"text-align: right;\">\n",
       "      <th></th>\n",
       "      <th>companyName</th>\n",
       "      <th>industry</th>\n",
       "      <th>description</th>\n",
       "      <th>sector</th>\n",
       "      <th>country</th>\n",
       "      <th>description_stem</th>\n",
       "      <th>vec_tfidf</th>\n",
       "      <th>nombre_keywords</th>\n",
       "    </tr>\n",
       "  </thead>\n",
       "  <tbody>\n",
       "    <tr>\n",
       "      <th>37560</th>\n",
       "      <td>HEALTHeUNIVERSE, Inc.</td>\n",
       "      <td>Biotechnology</td>\n",
       "      <td>Healtheuniverse, Inc., a biotechnology develop...</td>\n",
       "      <td>Healthcare</td>\n",
       "      <td>US</td>\n",
       "      <td>[healtheunivers, inc., biotechnolog, develop, ...</td>\n",
       "      <td>(0, 3730)\\t0.16891354732187053\\n  (0, 688)\\t...</td>\n",
       "      <td>1</td>\n",
       "    </tr>\n",
       "    <tr>\n",
       "      <th>1971</th>\n",
       "      <td>Globalstar, Inc.</td>\n",
       "      <td>Telecom Services</td>\n",
       "      <td>Globalstar, Inc. provides mobile satellite ser...</td>\n",
       "      <td>Communication Services</td>\n",
       "      <td>US</td>\n",
       "      <td>[globalstar, inc., provid, mobil, satellit, se...</td>\n",
       "      <td>(0, 4809)\\t0.09403016365728445\\n  (0, 4612)\\...</td>\n",
       "      <td>1</td>\n",
       "    </tr>\n",
       "    <tr>\n",
       "      <th>2455</th>\n",
       "      <td>Peabody Energy Corporation</td>\n",
       "      <td>Thermal Coal</td>\n",
       "      <td>Peabody Energy Corporation engages in coal min...</td>\n",
       "      <td>Energy</td>\n",
       "      <td>US</td>\n",
       "      <td>[peabodi, energi, corpor, engag, coal, mine, b...</td>\n",
       "      <td>(0, 4586)\\t0.08484143123381273\\n  (0, 3625)\\...</td>\n",
       "      <td>1</td>\n",
       "    </tr>\n",
       "    <tr>\n",
       "      <th>2453</th>\n",
       "      <td>Energy Vault Holdings, Inc.</td>\n",
       "      <td>Utilities—Renewable</td>\n",
       "      <td>Energy Vault Holdings, Inc. develops and sells...</td>\n",
       "      <td>Utilities</td>\n",
       "      <td>US</td>\n",
       "      <td>[energi, vault, hold, inc., develop, sell, ene...</td>\n",
       "      <td>(0, 4809)\\t0.112243120079566\\n  (0, 1472)\\t0...</td>\n",
       "      <td>1</td>\n",
       "    </tr>\n",
       "    <tr>\n",
       "      <th>2444</th>\n",
       "      <td>Alliant Energy Corporation</td>\n",
       "      <td>Utilities—Regulated Electric</td>\n",
       "      <td>Alliant Energy Corporation operates as a utili...</td>\n",
       "      <td>Utilities</td>\n",
       "      <td>US</td>\n",
       "      <td>[alliant, energi, corpor, oper, util, hold, co...</td>\n",
       "      <td>(0, 2778)\\t0.08385719855681696\\n  (0, 2470)\\...</td>\n",
       "      <td>1</td>\n",
       "    </tr>\n",
       "    <tr>\n",
       "      <th>...</th>\n",
       "      <td>...</td>\n",
       "      <td>...</td>\n",
       "      <td>...</td>\n",
       "      <td>...</td>\n",
       "      <td>...</td>\n",
       "      <td>...</td>\n",
       "      <td>...</td>\n",
       "      <td>...</td>\n",
       "    </tr>\n",
       "    <tr>\n",
       "      <th>18461</th>\n",
       "      <td>Trejhara Solutions Limited</td>\n",
       "      <td>Software—Application</td>\n",
       "      <td>Trejhara Solutions Limited provides technology...</td>\n",
       "      <td>Technology</td>\n",
       "      <td>IN</td>\n",
       "      <td>[trejhara, solut, limit, provid, technolog, pr...</td>\n",
       "      <td>(0, 3043)\\t0.10928190727217275\\n  (0, 1562)\\...</td>\n",
       "      <td>1</td>\n",
       "    </tr>\n",
       "    <tr>\n",
       "      <th>18619</th>\n",
       "      <td>Genesys International Corporation Limited</td>\n",
       "      <td>Software—Application</td>\n",
       "      <td>Genesys International Corporation Limited prov...</td>\n",
       "      <td>Technology</td>\n",
       "      <td>IN</td>\n",
       "      <td>[genesi, intern, corpor, limit, provid, map, s...</td>\n",
       "      <td>(0, 3043)\\t0.07134154140292513\\n  (0, 2051)\\...</td>\n",
       "      <td>1</td>\n",
       "    </tr>\n",
       "    <tr>\n",
       "      <th>18637</th>\n",
       "      <td>CyberTech Systems and Software Limited</td>\n",
       "      <td>Information Technology Services</td>\n",
       "      <td>CyberTech Systems and Software Limited, togeth...</td>\n",
       "      <td>Technology</td>\n",
       "      <td>IN</td>\n",
       "      <td>[cybertech, system, softwar, limit, togeth, su...</td>\n",
       "      <td>(0, 2051)\\t0.1869652271942685\\n  (0, 3946)\\t...</td>\n",
       "      <td>1</td>\n",
       "    </tr>\n",
       "    <tr>\n",
       "      <th>18644</th>\n",
       "      <td>Aakash Exploration Services Limited</td>\n",
       "      <td>Oil &amp; Gas Equipment &amp; Services</td>\n",
       "      <td>Aakash Exploration Services Limited provides s...</td>\n",
       "      <td>Energy</td>\n",
       "      <td>IN</td>\n",
       "      <td>[aakash, explor, servic, limit, provid, suppor...</td>\n",
       "      <td>(0, 342)\\t0.16852985185039165\\n  (0, 1015)\\t...</td>\n",
       "      <td>1</td>\n",
       "    </tr>\n",
       "    <tr>\n",
       "      <th>18647</th>\n",
       "      <td>Tera Software Limited</td>\n",
       "      <td>Information Technology Services</td>\n",
       "      <td>Tera Software Limited provides IT and integrat...</td>\n",
       "      <td>Technology</td>\n",
       "      <td>IN</td>\n",
       "      <td>[tera, softwar, limit, provid, integr, relat, ...</td>\n",
       "      <td>(0, 2290)\\t0.1469424850907197\\n  (0, 2465)\\t...</td>\n",
       "      <td>1</td>\n",
       "    </tr>\n",
       "  </tbody>\n",
       "</table>\n",
       "<p>1000 rows × 8 columns</p>\n",
       "</div>"
      ],
      "text/plain": [
       "                                     companyName  \\\n",
       "37560                      HEALTHeUNIVERSE, Inc.   \n",
       "1971                            Globalstar, Inc.   \n",
       "2455                  Peabody Energy Corporation   \n",
       "2453                 Energy Vault Holdings, Inc.   \n",
       "2444                  Alliant Energy Corporation   \n",
       "...                                          ...   \n",
       "18461                 Trejhara Solutions Limited   \n",
       "18619  Genesys International Corporation Limited   \n",
       "18637     CyberTech Systems and Software Limited   \n",
       "18644        Aakash Exploration Services Limited   \n",
       "18647                      Tera Software Limited   \n",
       "\n",
       "                              industry  \\\n",
       "37560                    Biotechnology   \n",
       "1971                  Telecom Services   \n",
       "2455                      Thermal Coal   \n",
       "2453               Utilities—Renewable   \n",
       "2444      Utilities—Regulated Electric   \n",
       "...                                ...   \n",
       "18461             Software—Application   \n",
       "18619             Software—Application   \n",
       "18637  Information Technology Services   \n",
       "18644   Oil & Gas Equipment & Services   \n",
       "18647  Information Technology Services   \n",
       "\n",
       "                                             description  \\\n",
       "37560  Healtheuniverse, Inc., a biotechnology develop...   \n",
       "1971   Globalstar, Inc. provides mobile satellite ser...   \n",
       "2455   Peabody Energy Corporation engages in coal min...   \n",
       "2453   Energy Vault Holdings, Inc. develops and sells...   \n",
       "2444   Alliant Energy Corporation operates as a utili...   \n",
       "...                                                  ...   \n",
       "18461  Trejhara Solutions Limited provides technology...   \n",
       "18619  Genesys International Corporation Limited prov...   \n",
       "18637  CyberTech Systems and Software Limited, togeth...   \n",
       "18644  Aakash Exploration Services Limited provides s...   \n",
       "18647  Tera Software Limited provides IT and integrat...   \n",
       "\n",
       "                       sector country  \\\n",
       "37560              Healthcare      US   \n",
       "1971   Communication Services      US   \n",
       "2455                   Energy      US   \n",
       "2453                Utilities      US   \n",
       "2444                Utilities      US   \n",
       "...                       ...     ...   \n",
       "18461              Technology      IN   \n",
       "18619              Technology      IN   \n",
       "18637              Technology      IN   \n",
       "18644                  Energy      IN   \n",
       "18647              Technology      IN   \n",
       "\n",
       "                                        description_stem  \\\n",
       "37560  [healtheunivers, inc., biotechnolog, develop, ...   \n",
       "1971   [globalstar, inc., provid, mobil, satellit, se...   \n",
       "2455   [peabodi, energi, corpor, engag, coal, mine, b...   \n",
       "2453   [energi, vault, hold, inc., develop, sell, ene...   \n",
       "2444   [alliant, energi, corpor, oper, util, hold, co...   \n",
       "...                                                  ...   \n",
       "18461  [trejhara, solut, limit, provid, technolog, pr...   \n",
       "18619  [genesi, intern, corpor, limit, provid, map, s...   \n",
       "18637  [cybertech, system, softwar, limit, togeth, su...   \n",
       "18644  [aakash, explor, servic, limit, provid, suppor...   \n",
       "18647  [tera, softwar, limit, provid, integr, relat, ...   \n",
       "\n",
       "                                               vec_tfidf  nombre_keywords  \n",
       "37560    (0, 3730)\\t0.16891354732187053\\n  (0, 688)\\t...                1  \n",
       "1971     (0, 4809)\\t0.09403016365728445\\n  (0, 4612)\\...                1  \n",
       "2455     (0, 4586)\\t0.08484143123381273\\n  (0, 3625)\\...                1  \n",
       "2453     (0, 4809)\\t0.112243120079566\\n  (0, 1472)\\t0...                1  \n",
       "2444     (0, 2778)\\t0.08385719855681696\\n  (0, 2470)\\...                1  \n",
       "...                                                  ...              ...  \n",
       "18461    (0, 3043)\\t0.10928190727217275\\n  (0, 1562)\\...                1  \n",
       "18619    (0, 3043)\\t0.07134154140292513\\n  (0, 2051)\\...                1  \n",
       "18637    (0, 2051)\\t0.1869652271942685\\n  (0, 3946)\\t...                1  \n",
       "18644    (0, 342)\\t0.16852985185039165\\n  (0, 1015)\\t...                1  \n",
       "18647    (0, 2290)\\t0.1469424850907197\\n  (0, 2465)\\t...                1  \n",
       "\n",
       "[1000 rows x 8 columns]"
      ]
     },
     "execution_count": 57,
     "metadata": {},
     "output_type": "execute_result"
    }
   ],
   "source": [
    "import random\n",
    "\n",
    "# test_list_keyword = random.sample(list_keywords, 15)\n",
    "# test_list_keyword = [\n",
    "#     # 'company', \n",
    "#                    # 'inc.', 'product',\n",
    "#                     'produces', \n",
    "#                    'healthcare'\n",
    "#                   ]\n",
    "\n",
    "test_list_keyword = ['Utilities', 'Communication Services']\n",
    "test_sector = 'Industrials'\n",
    "\n",
    "filtered_df = reduce_df_size(df_full, test_sector, test_list_keyword, threshold_size_final_group)\n",
    "filtered_df\n",
    "\n"
   ]
  },
  {
   "cell_type": "code",
   "execution_count": 163,
   "id": "965b4396-52fc-45d4-8715-de20ceac23fe",
   "metadata": {
    "tags": []
   },
   "outputs": [
    {
     "data": {
      "application/javascript": [
       "\n",
       "        if (window._pyforest_update_imports_cell) { window._pyforest_update_imports_cell('import re\\nimport matplotlib.pyplot as plt'); }\n",
       "    "
      ],
      "text/plain": [
       "<IPython.core.display.Javascript object>"
      ]
     },
     "metadata": {},
     "output_type": "display_data"
    },
    {
     "data": {
      "application/javascript": [
       "\n",
       "        if (window._pyforest_update_imports_cell) { window._pyforest_update_imports_cell('import re\\nimport matplotlib.pyplot as plt'); }\n",
       "    "
      ],
      "text/plain": [
       "<IPython.core.display.Javascript object>"
      ]
     },
     "metadata": {},
     "output_type": "display_data"
    },
    {
     "data": {
      "application/javascript": [
       "\n",
       "        if (window._pyforest_update_imports_cell) { window._pyforest_update_imports_cell('import re\\nimport matplotlib.pyplot as plt'); }\n",
       "    "
      ],
      "text/plain": [
       "<IPython.core.display.Javascript object>"
      ]
     },
     "metadata": {},
     "output_type": "display_data"
    },
    {
     "data": {
      "application/javascript": [
       "\n",
       "        if (window._pyforest_update_imports_cell) { window._pyforest_update_imports_cell('import re\\nimport matplotlib.pyplot as plt'); }\n",
       "    "
      ],
      "text/plain": [
       "<IPython.core.display.Javascript object>"
      ]
     },
     "metadata": {},
     "output_type": "display_data"
    },
    {
     "data": {
      "text/plain": [
       "Text(0.5, 1.0, \"Secteur : Industrials, Keywords : ['Utilities', 'Communication Services']\")"
      ]
     },
     "execution_count": 163,
     "metadata": {},
     "output_type": "execute_result"
    },
    {
     "data": {
      "image/png": "[encoded data removed]",
      "text/plain": [
       "<Figure size 640x480 with 1 Axes>"
      ]
     },
     "metadata": {},
     "output_type": "display_data"
    }
   ],
   "source": [
    "threshold_list = [100*i for i in range(1, 11)]\n",
    "list_final_size = []\n",
    "for threshold in threshold_list:\n",
    "    filtered_df = reduce_df_size(df_full, test_sector, test_list_keyword, threshold)\n",
    "    list_final_size.append(filtered_df.shape[0])\n",
    "    \n",
    "plt.plot(threshold_list, list_final_size, marker='o', linestyle='-')\n",
    "plt.xlabel('Taille de threshold')\n",
    "plt.ylabel('Taille data filtrée par keywords')\n",
    "plt.title(f'Secteur : {test_sector}, Keywords : {test_list_keyword}')"
   ]
  },
  {
   "cell_type": "markdown",
   "id": "-6olhrGlCfcK",
   "metadata": {
    "id": "-6olhrGlCfcK",
    "tags": []
   },
   "source": [
    "# Join description and GDP similarities"
   ]
  },
  {
   "cell_type": "code",
   "execution_count": 73,
   "id": "QfuzVvQPCk5D",
   "metadata": {
    "colab": {
     "base_uri": "https://localhost:8080/",
     "height": 512
    },
    "executionInfo": {
     "elapsed": 323,
     "status": "error",
     "timestamp": 1699466369813,
     "user": {
      "displayName": "Romain MARLET",
      "userId": "18112648248908016912"
     },
     "user_tz": -60
    },
    "id": "QfuzVvQPCk5D",
    "outputId": "1b5f7896-c372-4dee-f830-ab554b4c4c84",
    "tags": []
   },
   "outputs": [],
   "source": [
    "data = load_preprocess_data_tokenized()\n",
    "data = build_tfidf(data)\n",
    "# df=data.copy()[:100]"
   ]
  },
  {
   "cell_type": "code",
   "execution_count": null,
   "id": "f1c3a2cb-c931-4713-8bd3-346fb1f5918e",
   "metadata": {
    "tags": []
   },
   "outputs": [],
   "source": [
    "# df"
   ]
  },
  {
   "cell_type": "code",
   "execution_count": 65,
   "id": "844e6f6b-f8dc-404b-b815-28ae96f56e13",
   "metadata": {
    "tags": []
   },
   "outputs": [],
   "source": [
    "def find_similar_companies(target_company, df, vector_column='vec_tfidf', n=5, similarity='cosine'):\n",
    "    df=df.copy()\n",
    "    df[vector_column] = df[vector_column].apply(lambda x: x.toarray()[0])\n",
    "    target_vector = df.loc[df['companyName'] == target_company][vector_column]\n",
    "\n",
    "    if target_vector.shape[0]>0:\n",
    "        target_vector = target_vector.iloc[0]\n",
    "    else:\n",
    "        print(\"Vérifier le nom de l'entreprise.\")\n",
    "        return -1\n",
    "\n",
    "    if similarity == 'cosine':\n",
    "        similarities = cosine_similarity([target_vector], list(df[vector_column]))\n",
    "\n",
    "        similar_companies = pd.DataFrame({'companyName': df['companyName'], 'Similarity': similarities[0], 'country': df['country']})\n",
    "        similar_companies = similar_companies.sort_values(by='Similarity', ascending=False)\n",
    "\n",
    "    return similar_companies\n",
    "\n",
    "# find_similar_companies(target_company = 'Visa Inc.', df=df)"
   ]
  },
  {
   "cell_type": "code",
   "execution_count": 59,
   "id": "J6PnykKJG1yA",
   "metadata": {
    "colab": {
     "background_save": true
    },
    "id": "J6PnykKJG1yA",
    "tags": []
   },
   "outputs": [],
   "source": [
    "# ranking_similarity = find_similar_companies('Visa Inc.', df)\n",
    "# display(ranking_similarity)\n",
    "\n",
    "def build_similarity_GDP_column(ranking_similarity_description):\n",
    "    \n",
    "    ranking_similarity = ranking_similarity_description.copy()\n",
    "                    \n",
    "    GDP_similarity_matrix = build_GDP_similarity_matrix()\n",
    "    dict_similarity_GDP = {}\n",
    "\n",
    "    for index, row in ranking_similarity.iterrows():\n",
    "        entreprise_similaire = row['companyName']\n",
    "        pays_entreprise_similaire = row['country']\n",
    "        distance_GDP = GDP_similarity_matrix.loc[ranking_similarity.iloc[0]['country'], pays_entreprise_similaire]  # le pays cible est : ranking_similarity.iloc[0]['country']\n",
    "        dict_similarity_GDP[entreprise_similaire] = distance_GDP\n",
    "\n",
    "    ranking_similarity['similarity_GDP'] = [dict_similarity_GDP[entreprise] for entreprise in ranking_similarity['companyName']]\n",
    "    ranking_similarity.drop(columns=['country'], inplace=True)\n",
    "\n",
    "    return ranking_similarity"
   ]
  },
  {
   "cell_type": "code",
   "execution_count": 60,
   "id": "4yOrpYGBOArm",
   "metadata": {
    "colab": {
     "background_save": true
    },
    "id": "4yOrpYGBOArm",
    "tags": []
   },
   "outputs": [],
   "source": [
    "def combine_similarities(ranking_similarity, beta=0.5):\n",
    "    df=ranking_similarity.copy()\n",
    "    df['Similarity'] = (1/(1+beta))*(df['Similarity']+beta*df['similarity_GDP'])\n",
    "    df = df.drop(columns={'similarity_GDP'})\n",
    "    return df"
   ]
  },
  {
   "cell_type": "code",
   "execution_count": 61,
   "id": "04f555a7-0c15-493b-a1d9-a462501b6825",
   "metadata": {
    "tags": []
   },
   "outputs": [],
   "source": [
    "def compute_similarity(df, target_name='Visa Inc.'):\n",
    "    df = df.copy()\n",
    "    ranking_similarity_description = find_similar_companies(target_name, df)\n",
    "    ranking_similarity_description_and_GDP = build_similarity_GDP_column(ranking_similarity_description)\n",
    "    return combine_similarities(ranking_similarity_description_and_GDP, beta=0.5)"
   ]
  },
  {
   "cell_type": "code",
   "execution_count": 169,
   "id": "09ba1731-3ec7-4cf8-8ed9-3c852a681f00",
   "metadata": {
    "tags": []
   },
   "outputs": [],
   "source": [
    "def get_line_tf_idf(target_name, columns, data, nb_peers):\n",
    "    df_line = pd.DataFrame(columns=columns)\n",
    "\n",
    "    keywords = get_random_keywords(target_name, data)\n",
    "    sector = data[data['companyName']==target_name]['sector'].iloc[0]\n",
    "    filtered_df = reduce_df_size(data, sector, keywords, threshold_size_final_group=200)\n",
    "    similarity_matrix = compute_similarity(filtered_df, target_name).tail(-1).head(nb_peers).reset_index(drop=True)\n",
    "    \n",
    "    \n",
    "    row_values = [target_name, 'tf_idf']\n",
    "    for comp, score in zip(similarity_matrix['companyName'], similarity_matrix['Similarity']):\n",
    "        row_values.extend([comp, score])\n",
    "    df_line.loc[0] = row_values\n",
    "\n",
    "    return df_line\n",
    "\n",
    "def get_random_keywords(target_name, data, nombre_mots_a_extraire = 10):\n",
    "    description = data[data['companyName']==target_name]['description'].to_list()\n",
    "    mots = re.findall(r'\\b\\w+\\b', description[0])\n",
    "    \n",
    "    keywords = random.sample(mots, min(nombre_mots_a_extraire, len(mots)))\n",
    "    keywords = [word.lower() for word in keywords if word.lower() not in stopwords.words('english') and word not in string.punctuation]\n",
    "    return keywords"
   ]
  },
  {
   "cell_type": "code",
   "execution_count": 164,
   "id": "76dc7b83-24ce-465b-a51a-eaa7e561a61a",
   "metadata": {
    "tags": []
   },
   "outputs": [],
   "source": [
    "# compute_similarity(filtered_df, target_name='Xcel Energy Inc.')\n",
    "# compute_similarity(filtered_df, target_name='HEALTHeUNIVERSE, Inc.')"
   ]
  },
  {
   "cell_type": "markdown",
   "id": "59faf62b-1d43-45e7-8b8c-5daa6e8f37f8",
   "metadata": {
    "jp-MarkdownHeadingCollapsed": true,
    "tags": []
   },
   "source": [
    "# Build comparison CSV"
   ]
  },
  {
   "cell_type": "code",
   "execution_count": 141,
   "id": "d2d3df47-2e7a-4a41-914b-1270a614400a",
   "metadata": {
    "tags": []
   },
   "outputs": [],
   "source": [
    "data = load_preprocess_data_tokenized()\n",
    "data = build_tfidf(data)    \n",
    "list_target_name = data.head(15)['companyName'].to_list()"
   ]
  },
  {
   "cell_type": "code",
   "execution_count": 178,
   "id": "e63b7c70-b327-4f71-be0b-5a89609b2b33",
   "metadata": {
    "tags": []
   },
   "outputs": [
    {
     "data": {
      "application/javascript": [
       "\n",
       "        if (window._pyforest_update_imports_cell) { window._pyforest_update_imports_cell('import re\\nimport matplotlib.pyplot as plt'); }\n",
       "    "
      ],
      "text/plain": [
       "<IPython.core.display.Javascript object>"
      ]
     },
     "metadata": {},
     "output_type": "display_data"
    },
    {
     "data": {
      "application/javascript": [
       "\n",
       "        if (window._pyforest_update_imports_cell) { window._pyforest_update_imports_cell('import re\\nimport matplotlib.pyplot as plt'); }\n",
       "    "
      ],
      "text/plain": [
       "<IPython.core.display.Javascript object>"
      ]
     },
     "metadata": {},
     "output_type": "display_data"
    },
    {
     "data": {
      "application/javascript": [
       "\n",
       "        if (window._pyforest_update_imports_cell) { window._pyforest_update_imports_cell('import re\\nimport matplotlib.pyplot as plt'); }\n",
       "    "
      ],
      "text/plain": [
       "<IPython.core.display.Javascript object>"
      ]
     },
     "metadata": {},
     "output_type": "display_data"
    },
    {
     "data": {
      "application/javascript": [
       "\n",
       "        if (window._pyforest_update_imports_cell) { window._pyforest_update_imports_cell('import re\\nimport matplotlib.pyplot as plt'); }\n",
       "    "
      ],
      "text/plain": [
       "<IPython.core.display.Javascript object>"
      ]
     },
     "metadata": {},
     "output_type": "display_data"
    },
    {
     "data": {
      "application/javascript": [
       "\n",
       "        if (window._pyforest_update_imports_cell) { window._pyforest_update_imports_cell('import re\\nimport matplotlib.pyplot as plt'); }\n",
       "    "
      ],
      "text/plain": [
       "<IPython.core.display.Javascript object>"
      ]
     },
     "metadata": {},
     "output_type": "display_data"
    },
    {
     "data": {
      "application/javascript": [
       "\n",
       "        if (window._pyforest_update_imports_cell) { window._pyforest_update_imports_cell('import re\\nimport matplotlib.pyplot as plt'); }\n",
       "    "
      ],
      "text/plain": [
       "<IPython.core.display.Javascript object>"
      ]
     },
     "metadata": {},
     "output_type": "display_data"
    },
    {
     "data": {
      "application/javascript": [
       "\n",
       "        if (window._pyforest_update_imports_cell) { window._pyforest_update_imports_cell('import re\\nimport matplotlib.pyplot as plt'); }\n",
       "    "
      ],
      "text/plain": [
       "<IPython.core.display.Javascript object>"
      ]
     },
     "metadata": {},
     "output_type": "display_data"
    },
    {
     "data": {
      "application/javascript": [
       "\n",
       "        if (window._pyforest_update_imports_cell) { window._pyforest_update_imports_cell('import re\\nimport matplotlib.pyplot as plt'); }\n",
       "    "
      ],
      "text/plain": [
       "<IPython.core.display.Javascript object>"
      ]
     },
     "metadata": {},
     "output_type": "display_data"
    },
    {
     "data": {
      "application/javascript": [
       "\n",
       "        if (window._pyforest_update_imports_cell) { window._pyforest_update_imports_cell('import re\\nimport matplotlib.pyplot as plt'); }\n",
       "    "
      ],
      "text/plain": [
       "<IPython.core.display.Javascript object>"
      ]
     },
     "metadata": {},
     "output_type": "display_data"
    },
    {
     "data": {
      "application/javascript": [
       "\n",
       "        if (window._pyforest_update_imports_cell) { window._pyforest_update_imports_cell('import re\\nimport matplotlib.pyplot as plt'); }\n",
       "    "
      ],
      "text/plain": [
       "<IPython.core.display.Javascript object>"
      ]
     },
     "metadata": {},
     "output_type": "display_data"
    },
    {
     "data": {
      "application/javascript": [
       "\n",
       "        if (window._pyforest_update_imports_cell) { window._pyforest_update_imports_cell('import re\\nimport matplotlib.pyplot as plt'); }\n",
       "    "
      ],
      "text/plain": [
       "<IPython.core.display.Javascript object>"
      ]
     },
     "metadata": {},
     "output_type": "display_data"
    },
    {
     "data": {
      "application/javascript": [
       "\n",
       "        if (window._pyforest_update_imports_cell) { window._pyforest_update_imports_cell('import re\\nimport matplotlib.pyplot as plt'); }\n",
       "    "
      ],
      "text/plain": [
       "<IPython.core.display.Javascript object>"
      ]
     },
     "metadata": {},
     "output_type": "display_data"
    },
    {
     "data": {
      "application/javascript": [
       "\n",
       "        if (window._pyforest_update_imports_cell) { window._pyforest_update_imports_cell('import re\\nimport matplotlib.pyplot as plt'); }\n",
       "    "
      ],
      "text/plain": [
       "<IPython.core.display.Javascript object>"
      ]
     },
     "metadata": {},
     "output_type": "display_data"
    },
    {
     "data": {
      "application/javascript": [
       "\n",
       "        if (window._pyforest_update_imports_cell) { window._pyforest_update_imports_cell('import re\\nimport matplotlib.pyplot as plt'); }\n",
       "    "
      ],
      "text/plain": [
       "<IPython.core.display.Javascript object>"
      ]
     },
     "metadata": {},
     "output_type": "display_data"
    },
    {
     "data": {
      "application/javascript": [
       "\n",
       "        if (window._pyforest_update_imports_cell) { window._pyforest_update_imports_cell('import re\\nimport matplotlib.pyplot as plt'); }\n",
       "    "
      ],
      "text/plain": [
       "<IPython.core.display.Javascript object>"
      ]
     },
     "metadata": {},
     "output_type": "display_data"
    },
    {
     "data": {
      "text/html": [
       "<div>\n",
       "<style scoped>\n",
       "    .dataframe tbody tr th:only-of-type {\n",
       "        vertical-align: middle;\n",
       "    }\n",
       "\n",
       "    .dataframe tbody tr th {\n",
       "        vertical-align: top;\n",
       "    }\n",
       "\n",
       "    .dataframe thead th {\n",
       "        text-align: right;\n",
       "    }\n",
       "</style>\n",
       "<table border=\"1\" class=\"dataframe\">\n",
       "  <thead>\n",
       "    <tr style=\"text-align: right;\">\n",
       "      <th></th>\n",
       "      <th>target</th>\n",
       "      <th>algo</th>\n",
       "      <th>company_1</th>\n",
       "      <th>score_1</th>\n",
       "      <th>company_2</th>\n",
       "      <th>score_2</th>\n",
       "      <th>company_3</th>\n",
       "      <th>score_3</th>\n",
       "      <th>company_4</th>\n",
       "      <th>score_4</th>\n",
       "      <th>...</th>\n",
       "      <th>company_16</th>\n",
       "      <th>score_16</th>\n",
       "      <th>company_17</th>\n",
       "      <th>score_17</th>\n",
       "      <th>company_18</th>\n",
       "      <th>score_18</th>\n",
       "      <th>company_19</th>\n",
       "      <th>score_19</th>\n",
       "      <th>company_20</th>\n",
       "      <th>score_20</th>\n",
       "    </tr>\n",
       "  </thead>\n",
       "  <tbody>\n",
       "    <tr>\n",
       "      <th>0</th>\n",
       "      <td>Visa Inc.</td>\n",
       "      <td>tf_idf</td>\n",
       "      <td>BLS International Services Limited</td>\n",
       "      <td>0.421133</td>\n",
       "      <td>Mogo Inc.</td>\n",
       "      <td>0.507311</td>\n",
       "      <td>Wirecard AG</td>\n",
       "      <td>0.480408</td>\n",
       "      <td>AppTech Payments Corp.</td>\n",
       "      <td>0.541191</td>\n",
       "      <td>...</td>\n",
       "      <td>First Busey Corporation</td>\n",
       "      <td>0.471283</td>\n",
       "      <td>GreenLink International Inc.</td>\n",
       "      <td>0.469804</td>\n",
       "      <td>Cygnus eTransaction Group, Inc.</td>\n",
       "      <td>0.466361</td>\n",
       "      <td>United Bancorporation of Alabama, Inc.</td>\n",
       "      <td>0.461597</td>\n",
       "      <td>FLEETCOR Technologies, Inc.</td>\n",
       "      <td>0.461263</td>\n",
       "    </tr>\n",
       "    <tr>\n",
       "      <th>0</th>\n",
       "      <td>Texas Roadhouse, Inc.</td>\n",
       "      <td>tf_idf</td>\n",
       "      <td>Brinker International, Inc.</td>\n",
       "      <td>0.760914</td>\n",
       "      <td>Dine Brands Global, Inc.</td>\n",
       "      <td>0.744808</td>\n",
       "      <td>Fiesta Restaurant Group, Inc.</td>\n",
       "      <td>0.715490</td>\n",
       "      <td>Bloomin' Brands, Inc.</td>\n",
       "      <td>0.710027</td>\n",
       "      <td>...</td>\n",
       "      <td>Fujio Food Group Inc.</td>\n",
       "      <td>0.534810</td>\n",
       "      <td>RAVE Restaurant Group, Inc.</td>\n",
       "      <td>0.618538</td>\n",
       "      <td>Sfinks Polska S.A.</td>\n",
       "      <td>0.484747</td>\n",
       "      <td>Biglari Holdings Inc.</td>\n",
       "      <td>0.607780</td>\n",
       "      <td>AmRest Holdings SE</td>\n",
       "      <td>0.504550</td>\n",
       "    </tr>\n",
       "    <tr>\n",
       "      <th>0</th>\n",
       "      <td>Lamb Weston Holdings, Inc.</td>\n",
       "      <td>tf_idf</td>\n",
       "      <td>AMCON Distributing Company</td>\n",
       "      <td>0.547496</td>\n",
       "      <td>Seneca Foods Corporation</td>\n",
       "      <td>0.525945</td>\n",
       "      <td>McCormick &amp; Company, Incorporated</td>\n",
       "      <td>0.522798</td>\n",
       "      <td>ROYAL HOLDINGS Co., Ltd.</td>\n",
       "      <td>0.426634</td>\n",
       "      <td>...</td>\n",
       "      <td>Naturally Splendid Enterprises Ltd.</td>\n",
       "      <td>0.420751</td>\n",
       "      <td>Yondoshi Holdings Inc.</td>\n",
       "      <td>0.373332</td>\n",
       "      <td>LH Group Limited</td>\n",
       "      <td>0.405231</td>\n",
       "      <td>Restaurant Brands International Inc.</td>\n",
       "      <td>0.415104</td>\n",
       "      <td>Whole Earth Brands, Inc.</td>\n",
       "      <td>0.460615</td>\n",
       "    </tr>\n",
       "    <tr>\n",
       "      <th>0</th>\n",
       "      <td>Intact Financial Corporation</td>\n",
       "      <td>tf_idf</td>\n",
       "      <td>American Financial Group, Inc.</td>\n",
       "      <td>0.720237</td>\n",
       "      <td>RLI Corp.</td>\n",
       "      <td>0.705394</td>\n",
       "      <td>Cincinnati Financial Corporation</td>\n",
       "      <td>0.684380</td>\n",
       "      <td>CNA Financial Corporation</td>\n",
       "      <td>0.649133</td>\n",
       "      <td>...</td>\n",
       "      <td>Everest Group, Ltd.</td>\n",
       "      <td>0.481710</td>\n",
       "      <td>Everest Re Group, Ltd.</td>\n",
       "      <td>0.479902</td>\n",
       "      <td>Greenlight Capital Re, Ltd.</td>\n",
       "      <td>0.504449</td>\n",
       "      <td>SCOR SE</td>\n",
       "      <td>0.518968</td>\n",
       "      <td>Aurskog Sparebank</td>\n",
       "      <td>0.469483</td>\n",
       "    </tr>\n",
       "    <tr>\n",
       "      <th>0</th>\n",
       "      <td>OPKO Health, Inc.</td>\n",
       "      <td>tf_idf</td>\n",
       "      <td>Kissei Pharmaceutical Co., Ltd.</td>\n",
       "      <td>0.444565</td>\n",
       "      <td>Milestone Pharmaceuticals Inc.</td>\n",
       "      <td>0.488315</td>\n",
       "      <td>Telix Pharmaceuticals Limited</td>\n",
       "      <td>0.507920</td>\n",
       "      <td>Cyclo Therapeutics, Inc.</td>\n",
       "      <td>0.529873</td>\n",
       "      <td>...</td>\n",
       "      <td>NanoCarrier Co., Ltd.</td>\n",
       "      <td>0.414192</td>\n",
       "      <td>Samjin Pharmaceuticals Co., Ltd.</td>\n",
       "      <td>0.410140</td>\n",
       "      <td>OncoTherapy Science, Inc.</td>\n",
       "      <td>0.413486</td>\n",
       "      <td>Mesa Laboratories, Inc.</td>\n",
       "      <td>0.502109</td>\n",
       "      <td>Palatin Technologies, Inc.</td>\n",
       "      <td>0.501252</td>\n",
       "    </tr>\n",
       "    <tr>\n",
       "      <th>0</th>\n",
       "      <td>Ferroglobe PLC</td>\n",
       "      <td>tf_idf</td>\n",
       "      <td>Shanxi Taigang Stainless Steel Co., Ltd.</td>\n",
       "      <td>0.500629</td>\n",
       "      <td>Angang Steel Company Limited</td>\n",
       "      <td>0.462382</td>\n",
       "      <td>VISA Steel Limited</td>\n",
       "      <td>0.409892</td>\n",
       "      <td>Jayaswal Neco Industries Limited</td>\n",
       "      <td>0.406656</td>\n",
       "      <td>...</td>\n",
       "      <td>Walsin Lihwa Corporation</td>\n",
       "      <td>0.365246</td>\n",
       "      <td>Manaksia Coated Metals &amp; Industries Limited</td>\n",
       "      <td>0.325998</td>\n",
       "      <td>Elementis plc</td>\n",
       "      <td>0.483168</td>\n",
       "      <td>Chih Lien Industrial Co., Ltd.</td>\n",
       "      <td>0.362538</td>\n",
       "      <td>Innospec Inc.</td>\n",
       "      <td>0.416195</td>\n",
       "    </tr>\n",
       "    <tr>\n",
       "      <th>0</th>\n",
       "      <td>Hanesbrands Inc.</td>\n",
       "      <td>tf_idf</td>\n",
       "      <td>Turning Point Brands, Inc.</td>\n",
       "      <td>0.442275</td>\n",
       "      <td>KP Tissue Inc.</td>\n",
       "      <td>0.384725</td>\n",
       "      <td>AB Electrolux (publ)</td>\n",
       "      <td>0.379754</td>\n",
       "      <td>Universal Robina Corporation</td>\n",
       "      <td>0.259993</td>\n",
       "      <td>...</td>\n",
       "      <td>Healthia Limited</td>\n",
       "      <td>0.367842</td>\n",
       "      <td>Embpar Participacoes S.A.</td>\n",
       "      <td>0.246499</td>\n",
       "      <td>Compagnie de Saint-Gobain S.A.</td>\n",
       "      <td>0.316225</td>\n",
       "      <td>Q P Group Holdings Limited</td>\n",
       "      <td>0.331734</td>\n",
       "      <td>Gerdau S.A.</td>\n",
       "      <td>0.243640</td>\n",
       "    </tr>\n",
       "    <tr>\n",
       "      <th>0</th>\n",
       "      <td>Esports Entertainment Group, Inc.</td>\n",
       "      <td>tf_idf</td>\n",
       "      <td>Golden Entertainment, Inc.</td>\n",
       "      <td>0.463583</td>\n",
       "      <td>Evolution AB (publ)</td>\n",
       "      <td>0.399470</td>\n",
       "      <td>Starlight Culture Entertainment Group Limited</td>\n",
       "      <td>0.413519</td>\n",
       "      <td>PlayAGS, Inc.</td>\n",
       "      <td>0.338374</td>\n",
       "      <td>...</td>\n",
       "      <td>IQGeo Group plc</td>\n",
       "      <td>0.361708</td>\n",
       "      <td>Oxford Metrics plc</td>\n",
       "      <td>0.360771</td>\n",
       "      <td>Future FinTech Group Inc.</td>\n",
       "      <td>0.310709</td>\n",
       "      <td>The Coretec Group Inc.</td>\n",
       "      <td>0.309607</td>\n",
       "      <td>Skylight Health Group Inc.</td>\n",
       "      <td>0.336827</td>\n",
       "    </tr>\n",
       "    <tr>\n",
       "      <th>0</th>\n",
       "      <td>WW International, Inc.</td>\n",
       "      <td>tf_idf</td>\n",
       "      <td>Adobe Inc.</td>\n",
       "      <td>0.502622</td>\n",
       "      <td>Ailleron S.A.</td>\n",
       "      <td>0.346799</td>\n",
       "      <td>Harte Hanks, Inc.</td>\n",
       "      <td>0.471367</td>\n",
       "      <td>Salesforce, Inc.</td>\n",
       "      <td>0.469551</td>\n",
       "      <td>...</td>\n",
       "      <td>INTERSHOP Communications Aktiengesellschaft</td>\n",
       "      <td>0.384327</td>\n",
       "      <td>Asmallworld AG</td>\n",
       "      <td>0.416467</td>\n",
       "      <td>SeaChange International, Inc.</td>\n",
       "      <td>0.444221</td>\n",
       "      <td>Jabil Inc.</td>\n",
       "      <td>0.440357</td>\n",
       "      <td>DCC plc</td>\n",
       "      <td>0.395882</td>\n",
       "    </tr>\n",
       "    <tr>\n",
       "      <th>0</th>\n",
       "      <td>CommScope Holding Company, Inc.</td>\n",
       "      <td>tf_idf</td>\n",
       "      <td>Belden Inc.</td>\n",
       "      <td>0.636816</td>\n",
       "      <td>Vecima Networks Inc.</td>\n",
       "      <td>0.563429</td>\n",
       "      <td>ADTRAN Holdings, Inc.</td>\n",
       "      <td>0.603938</td>\n",
       "      <td>Cambium Networks Corporation</td>\n",
       "      <td>0.579682</td>\n",
       "      <td>...</td>\n",
       "      <td>Xperi Holding Corporation</td>\n",
       "      <td>0.521680</td>\n",
       "      <td>Furukawa Electric Co., Ltd.</td>\n",
       "      <td>0.427364</td>\n",
       "      <td>International Research Corporation Public Comp...</td>\n",
       "      <td>0.368334</td>\n",
       "      <td>Samart Telcoms Public Company Limited</td>\n",
       "      <td>0.366107</td>\n",
       "      <td>Telephone and Data Systems, Inc.</td>\n",
       "      <td>0.514995</td>\n",
       "    </tr>\n",
       "    <tr>\n",
       "      <th>0</th>\n",
       "      <td>Peyto Exploration &amp; Development Corp.</td>\n",
       "      <td>tf_idf</td>\n",
       "      <td>ROK Resources Inc.</td>\n",
       "      <td>0.694833</td>\n",
       "      <td>Battalion Oil Corporation</td>\n",
       "      <td>0.604402</td>\n",
       "      <td>Camber Energy, Inc.</td>\n",
       "      <td>0.569544</td>\n",
       "      <td>Calima Energy Limited</td>\n",
       "      <td>0.544610</td>\n",
       "      <td>...</td>\n",
       "      <td>Terrace Energy Corp.</td>\n",
       "      <td>0.447236</td>\n",
       "      <td>Markray Corp.</td>\n",
       "      <td>0.443076</td>\n",
       "      <td>Vital Energy, Inc.</td>\n",
       "      <td>0.440425</td>\n",
       "      <td>Discovery Silver Corp.</td>\n",
       "      <td>0.485287</td>\n",
       "      <td>Guanghui Energy Co., Ltd.</td>\n",
       "      <td>0.354391</td>\n",
       "    </tr>\n",
       "    <tr>\n",
       "      <th>0</th>\n",
       "      <td>General Motors Company</td>\n",
       "      <td>tf_idf</td>\n",
       "      <td>KVH Industries, Inc.</td>\n",
       "      <td>0.561603</td>\n",
       "      <td>CalAmp Corp.</td>\n",
       "      <td>0.495641</td>\n",
       "      <td>Bosch Limited</td>\n",
       "      <td>0.318134</td>\n",
       "      <td>Uber Technologies, Inc.</td>\n",
       "      <td>0.479062</td>\n",
       "      <td>...</td>\n",
       "      <td>Tata Teleservices (Maharashtra) Limited</td>\n",
       "      <td>0.280745</td>\n",
       "      <td>PT Indosat Ooredoo Hutchison Tbk</td>\n",
       "      <td>0.285645</td>\n",
       "      <td>Superloop Limited</td>\n",
       "      <td>0.415336</td>\n",
       "      <td>Iridium Communications Inc.</td>\n",
       "      <td>0.441070</td>\n",
       "      <td>Harte Hanks, Inc.</td>\n",
       "      <td>0.440693</td>\n",
       "    </tr>\n",
       "    <tr>\n",
       "      <th>0</th>\n",
       "      <td>Cars.com Inc.</td>\n",
       "      <td>tf_idf</td>\n",
       "      <td>CarTrade Tech Limited</td>\n",
       "      <td>0.446509</td>\n",
       "      <td>Entravision Communications Corporation</td>\n",
       "      <td>0.579957</td>\n",
       "      <td>Carbeeza Inc.</td>\n",
       "      <td>0.506283</td>\n",
       "      <td>Pendragon PLC</td>\n",
       "      <td>0.427491</td>\n",
       "      <td>...</td>\n",
       "      <td>Universal Electronics Inc.</td>\n",
       "      <td>0.432701</td>\n",
       "      <td>PT Duta Intidaya Tbk</td>\n",
       "      <td>0.276458</td>\n",
       "      <td>Garmin Ltd.</td>\n",
       "      <td>0.402771</td>\n",
       "      <td>Smith &amp; Wesson Brands, Inc.</td>\n",
       "      <td>0.430275</td>\n",
       "      <td>Volkswagen AG</td>\n",
       "      <td>0.366650</td>\n",
       "    </tr>\n",
       "    <tr>\n",
       "      <th>0</th>\n",
       "      <td>Navitas Semiconductor Corporation</td>\n",
       "      <td>tf_idf</td>\n",
       "      <td>Transphorm, Inc.</td>\n",
       "      <td>0.604307</td>\n",
       "      <td>Vanguard International Semiconductor Corporation</td>\n",
       "      <td>0.367195</td>\n",
       "      <td>Photronics, Inc.</td>\n",
       "      <td>0.455174</td>\n",
       "      <td>Sintx Technologies, Inc.</td>\n",
       "      <td>0.453335</td>\n",
       "      <td>...</td>\n",
       "      <td>ROHM Co., Ltd.</td>\n",
       "      <td>0.319344</td>\n",
       "      <td>Pixelworks, Inc.</td>\n",
       "      <td>0.386147</td>\n",
       "      <td>CPS Technologies Corporation</td>\n",
       "      <td>0.383648</td>\n",
       "      <td>FormFactor, Inc.</td>\n",
       "      <td>0.380818</td>\n",
       "      <td>Lam Research Corporation</td>\n",
       "      <td>0.378508</td>\n",
       "    </tr>\n",
       "    <tr>\n",
       "      <th>0</th>\n",
       "      <td>CVS Health Corporation</td>\n",
       "      <td>tf_idf</td>\n",
       "      <td>AmerisourceBergen Corporation</td>\n",
       "      <td>0.586622</td>\n",
       "      <td>Suzuken Co., Ltd.</td>\n",
       "      <td>0.471214</td>\n",
       "      <td>JMDC Inc.</td>\n",
       "      <td>0.469120</td>\n",
       "      <td>NIHON CHOUZAI Co.,Ltd.</td>\n",
       "      <td>0.464959</td>\n",
       "      <td>...</td>\n",
       "      <td>Oncologix Tech, Inc.</td>\n",
       "      <td>0.487637</td>\n",
       "      <td>Premier Anti-Aging Co., Ltd.</td>\n",
       "      <td>0.394467</td>\n",
       "      <td>SECOM CO., LTD.</td>\n",
       "      <td>0.392504</td>\n",
       "      <td>Sanlam Limited</td>\n",
       "      <td>0.329385</td>\n",
       "      <td>Sharecare, Inc.</td>\n",
       "      <td>0.479687</td>\n",
       "    </tr>\n",
       "  </tbody>\n",
       "</table>\n",
       "<p>15 rows × 42 columns</p>\n",
       "</div>"
      ],
      "text/plain": [
       "                                  target    algo  \\\n",
       "0                              Visa Inc.  tf_idf   \n",
       "0                  Texas Roadhouse, Inc.  tf_idf   \n",
       "0             Lamb Weston Holdings, Inc.  tf_idf   \n",
       "0           Intact Financial Corporation  tf_idf   \n",
       "0                      OPKO Health, Inc.  tf_idf   \n",
       "0                         Ferroglobe PLC  tf_idf   \n",
       "0                       Hanesbrands Inc.  tf_idf   \n",
       "0      Esports Entertainment Group, Inc.  tf_idf   \n",
       "0                 WW International, Inc.  tf_idf   \n",
       "0        CommScope Holding Company, Inc.  tf_idf   \n",
       "0  Peyto Exploration & Development Corp.  tf_idf   \n",
       "0                 General Motors Company  tf_idf   \n",
       "0                          Cars.com Inc.  tf_idf   \n",
       "0      Navitas Semiconductor Corporation  tf_idf   \n",
       "0                 CVS Health Corporation  tf_idf   \n",
       "\n",
       "                                  company_1   score_1  \\\n",
       "0        BLS International Services Limited  0.421133   \n",
       "0               Brinker International, Inc.  0.760914   \n",
       "0                AMCON Distributing Company  0.547496   \n",
       "0            American Financial Group, Inc.  0.720237   \n",
       "0           Kissei Pharmaceutical Co., Ltd.  0.444565   \n",
       "0  Shanxi Taigang Stainless Steel Co., Ltd.  0.500629   \n",
       "0                Turning Point Brands, Inc.  0.442275   \n",
       "0                Golden Entertainment, Inc.  0.463583   \n",
       "0                                Adobe Inc.  0.502622   \n",
       "0                               Belden Inc.  0.636816   \n",
       "0                        ROK Resources Inc.  0.694833   \n",
       "0                      KVH Industries, Inc.  0.561603   \n",
       "0                     CarTrade Tech Limited  0.446509   \n",
       "0                          Transphorm, Inc.  0.604307   \n",
       "0             AmerisourceBergen Corporation  0.586622   \n",
       "\n",
       "                                          company_2   score_2  \\\n",
       "0                                         Mogo Inc.  0.507311   \n",
       "0                          Dine Brands Global, Inc.  0.744808   \n",
       "0                          Seneca Foods Corporation  0.525945   \n",
       "0                                         RLI Corp.  0.705394   \n",
       "0                    Milestone Pharmaceuticals Inc.  0.488315   \n",
       "0                      Angang Steel Company Limited  0.462382   \n",
       "0                                    KP Tissue Inc.  0.384725   \n",
       "0                               Evolution AB (publ)  0.399470   \n",
       "0                                     Ailleron S.A.  0.346799   \n",
       "0                              Vecima Networks Inc.  0.563429   \n",
       "0                         Battalion Oil Corporation  0.604402   \n",
       "0                                      CalAmp Corp.  0.495641   \n",
       "0            Entravision Communications Corporation  0.579957   \n",
       "0  Vanguard International Semiconductor Corporation  0.367195   \n",
       "0                                 Suzuken Co., Ltd.  0.471214   \n",
       "\n",
       "                                       company_3   score_3  \\\n",
       "0                                    Wirecard AG  0.480408   \n",
       "0                  Fiesta Restaurant Group, Inc.  0.715490   \n",
       "0              McCormick & Company, Incorporated  0.522798   \n",
       "0               Cincinnati Financial Corporation  0.684380   \n",
       "0                  Telix Pharmaceuticals Limited  0.507920   \n",
       "0                             VISA Steel Limited  0.409892   \n",
       "0                           AB Electrolux (publ)  0.379754   \n",
       "0  Starlight Culture Entertainment Group Limited  0.413519   \n",
       "0                              Harte Hanks, Inc.  0.471367   \n",
       "0                          ADTRAN Holdings, Inc.  0.603938   \n",
       "0                            Camber Energy, Inc.  0.569544   \n",
       "0                                  Bosch Limited  0.318134   \n",
       "0                                  Carbeeza Inc.  0.506283   \n",
       "0                               Photronics, Inc.  0.455174   \n",
       "0                                      JMDC Inc.  0.469120   \n",
       "\n",
       "                          company_4   score_4  ...  \\\n",
       "0            AppTech Payments Corp.  0.541191  ...   \n",
       "0             Bloomin' Brands, Inc.  0.710027  ...   \n",
       "0          ROYAL HOLDINGS Co., Ltd.  0.426634  ...   \n",
       "0         CNA Financial Corporation  0.649133  ...   \n",
       "0          Cyclo Therapeutics, Inc.  0.529873  ...   \n",
       "0  Jayaswal Neco Industries Limited  0.406656  ...   \n",
       "0      Universal Robina Corporation  0.259993  ...   \n",
       "0                     PlayAGS, Inc.  0.338374  ...   \n",
       "0                  Salesforce, Inc.  0.469551  ...   \n",
       "0      Cambium Networks Corporation  0.579682  ...   \n",
       "0             Calima Energy Limited  0.544610  ...   \n",
       "0           Uber Technologies, Inc.  0.479062  ...   \n",
       "0                     Pendragon PLC  0.427491  ...   \n",
       "0          Sintx Technologies, Inc.  0.453335  ...   \n",
       "0            NIHON CHOUZAI Co.,Ltd.  0.464959  ...   \n",
       "\n",
       "                                    company_16  score_16  \\\n",
       "0                      First Busey Corporation  0.471283   \n",
       "0                        Fujio Food Group Inc.  0.534810   \n",
       "0          Naturally Splendid Enterprises Ltd.  0.420751   \n",
       "0                          Everest Group, Ltd.  0.481710   \n",
       "0                        NanoCarrier Co., Ltd.  0.414192   \n",
       "0                     Walsin Lihwa Corporation  0.365246   \n",
       "0                             Healthia Limited  0.367842   \n",
       "0                              IQGeo Group plc  0.361708   \n",
       "0  INTERSHOP Communications Aktiengesellschaft  0.384327   \n",
       "0                    Xperi Holding Corporation  0.521680   \n",
       "0                         Terrace Energy Corp.  0.447236   \n",
       "0      Tata Teleservices (Maharashtra) Limited  0.280745   \n",
       "0                   Universal Electronics Inc.  0.432701   \n",
       "0                               ROHM Co., Ltd.  0.319344   \n",
       "0                         Oncologix Tech, Inc.  0.487637   \n",
       "\n",
       "                                    company_17  score_17  \\\n",
       "0                 GreenLink International Inc.  0.469804   \n",
       "0                  RAVE Restaurant Group, Inc.  0.618538   \n",
       "0                       Yondoshi Holdings Inc.  0.373332   \n",
       "0                       Everest Re Group, Ltd.  0.479902   \n",
       "0             Samjin Pharmaceuticals Co., Ltd.  0.410140   \n",
       "0  Manaksia Coated Metals & Industries Limited  0.325998   \n",
       "0                    Embpar Participacoes S.A.  0.246499   \n",
       "0                           Oxford Metrics plc  0.360771   \n",
       "0                               Asmallworld AG  0.416467   \n",
       "0                  Furukawa Electric Co., Ltd.  0.427364   \n",
       "0                                Markray Corp.  0.443076   \n",
       "0             PT Indosat Ooredoo Hutchison Tbk  0.285645   \n",
       "0                         PT Duta Intidaya Tbk  0.276458   \n",
       "0                             Pixelworks, Inc.  0.386147   \n",
       "0                 Premier Anti-Aging Co., Ltd.  0.394467   \n",
       "\n",
       "                                          company_18  score_18  \\\n",
       "0                    Cygnus eTransaction Group, Inc.  0.466361   \n",
       "0                                 Sfinks Polska S.A.  0.484747   \n",
       "0                                   LH Group Limited  0.405231   \n",
       "0                        Greenlight Capital Re, Ltd.  0.504449   \n",
       "0                          OncoTherapy Science, Inc.  0.413486   \n",
       "0                                      Elementis plc  0.483168   \n",
       "0                     Compagnie de Saint-Gobain S.A.  0.316225   \n",
       "0                          Future FinTech Group Inc.  0.310709   \n",
       "0                      SeaChange International, Inc.  0.444221   \n",
       "0  International Research Corporation Public Comp...  0.368334   \n",
       "0                                 Vital Energy, Inc.  0.440425   \n",
       "0                                  Superloop Limited  0.415336   \n",
       "0                                        Garmin Ltd.  0.402771   \n",
       "0                       CPS Technologies Corporation  0.383648   \n",
       "0                                    SECOM CO., LTD.  0.392504   \n",
       "\n",
       "                               company_19  score_19  \\\n",
       "0  United Bancorporation of Alabama, Inc.  0.461597   \n",
       "0                   Biglari Holdings Inc.  0.607780   \n",
       "0    Restaurant Brands International Inc.  0.415104   \n",
       "0                                 SCOR SE  0.518968   \n",
       "0                 Mesa Laboratories, Inc.  0.502109   \n",
       "0          Chih Lien Industrial Co., Ltd.  0.362538   \n",
       "0              Q P Group Holdings Limited  0.331734   \n",
       "0                  The Coretec Group Inc.  0.309607   \n",
       "0                              Jabil Inc.  0.440357   \n",
       "0   Samart Telcoms Public Company Limited  0.366107   \n",
       "0                  Discovery Silver Corp.  0.485287   \n",
       "0             Iridium Communications Inc.  0.441070   \n",
       "0             Smith & Wesson Brands, Inc.  0.430275   \n",
       "0                        FormFactor, Inc.  0.380818   \n",
       "0                          Sanlam Limited  0.329385   \n",
       "\n",
       "                         company_20  score_20  \n",
       "0       FLEETCOR Technologies, Inc.  0.461263  \n",
       "0                AmRest Holdings SE  0.504550  \n",
       "0          Whole Earth Brands, Inc.  0.460615  \n",
       "0                 Aurskog Sparebank  0.469483  \n",
       "0        Palatin Technologies, Inc.  0.501252  \n",
       "0                     Innospec Inc.  0.416195  \n",
       "0                       Gerdau S.A.  0.243640  \n",
       "0        Skylight Health Group Inc.  0.336827  \n",
       "0                           DCC plc  0.395882  \n",
       "0  Telephone and Data Systems, Inc.  0.514995  \n",
       "0         Guanghui Energy Co., Ltd.  0.354391  \n",
       "0                 Harte Hanks, Inc.  0.440693  \n",
       "0                     Volkswagen AG  0.366650  \n",
       "0          Lam Research Corporation  0.378508  \n",
       "0                   Sharecare, Inc.  0.479687  \n",
       "\n",
       "[15 rows x 42 columns]"
      ]
     },
     "execution_count": 178,
     "metadata": {},
     "output_type": "execute_result"
    }
   ],
   "source": [
    "def build_comparison_csv(list_target_name, data, nb_peers=20):\n",
    "    \"\"\"\n",
    "    pour load data dans la cellule précédente: \n",
    "    data = load_preprocess_data_tokenized()\n",
    "    data = build_tfidf(data)  \n",
    "    list_target_name = data.head(15)['companyName'].to_list()\n",
    "    \"\"\"\n",
    "    \n",
    "    # Initialisation des columns\n",
    "    columns = ['target', 'algo']\n",
    "    for i in range(1, nb_peers+1):\n",
    "        columns.append(f\"company_{i}\")\n",
    "        columns.append(f\"score_{i}\")\n",
    "    df_comparison = pd.DataFrame(columns=columns)\n",
    "    \n",
    "    # Pour chaque target, pour chaque algo : on ajoute une ligne\n",
    "    for target in list_target_name:\n",
    "        \n",
    "        line_tfidf = get_line_tf_idf(target, columns, data, nb_peers)\n",
    "        \n",
    "        # line_other_algo = get_line_other_algo(target, columns, nb_peers...\n",
    "        \n",
    "        df_comparison = pd.concat([df_comparison, line_tfidf]) # , line_other_algo\n",
    "    \n",
    "    return df_comparison\n",
    "\n",
    "df_comparison = build_comparison_csv(list_target_name, data, nb_peers=20)\n",
    "df_comparison\n",
    "# df_comparison.to_csv('peers_comparison.csv')\n"
   ]
  }
 ],
 "metadata": {
  "colab": {
   "collapsed_sections": [
    "325ada93",
    "f7645b8e"
   ],
   "provenance": []
  },
  "kernelspec": {
   "display_name": "Python 3 (ipykernel)",
   "language": "python",
   "name": "python3"
  },
  "language_info": {
   "codemirror_mode": {
    "name": "ipython",
    "version": 3
   },
   "file_extension": ".py",
   "mimetype": "text/x-python",
   "name": "python",
   "nbconvert_exporter": "python",
   "pygments_lexer": "ipython3",
   "version": "3.11.5"
  }
 },
 "nbformat": 4,
 "nbformat_minor": 5
}
