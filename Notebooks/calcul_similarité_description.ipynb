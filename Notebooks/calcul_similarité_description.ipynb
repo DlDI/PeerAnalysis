{
 "cells": [
  {
   "cell_type": "markdown",
   "id": "9fd80d62",
   "metadata": {
    "id": "9fd80d62"
   },
   "source": [
    "# Importation des données"
   ]
  },
  {
   "cell_type": "code",
   "execution_count": 40,
   "id": "67d55eca",
   "metadata": {
    "id": "67d55eca",
    "tags": []
   },
   "outputs": [
    {
     "name": "stderr",
     "output_type": "stream",
     "text": [
      "[nltk_data] Downloading package wordnet to\n",
      "[nltk_data]     C:\\Users\\romai\\AppData\\Roaming\\nltk_data...\n"
     ]
    },
    {
     "data": {
      "text/plain": [
       "True"
      ]
     },
     "execution_count": 40,
     "metadata": {},
     "output_type": "execute_result"
    }
   ],
   "source": [
    "# pip install google-colab\n",
    "# !pip install nltk\n",
    "# nltk.download()"
   ]
  },
  {
   "cell_type": "code",
   "execution_count": 1,
   "id": "17322502",
   "metadata": {
    "executionInfo": {
     "elapsed": 2428,
     "status": "ok",
     "timestamp": 1699466018451,
     "user": {
      "displayName": "Romain MARLET",
      "userId": "18112648248908016912"
     },
     "user_tz": -60
    },
    "id": "17322502",
    "tags": []
   },
   "outputs": [],
   "source": [
    "import pandas as pd\n",
    "import numpy as np\n",
    "from sklearn.feature_extraction.text import TfidfVectorizer"
   ]
  },
  {
   "cell_type": "code",
   "execution_count": 63,
   "id": "d624e5a8",
   "metadata": {
    "executionInfo": {
     "elapsed": 2848,
     "status": "ok",
     "timestamp": 1699466021297,
     "user": {
      "displayName": "Romain MARLET",
      "userId": "18112648248908016912"
     },
     "user_tz": -60
    },
    "id": "d624e5a8",
    "tags": []
   },
   "outputs": [],
   "source": [
    "file_path = \"../Data/companies_description.csv\"\n",
    "data = pd.read_csv(file_path)\n",
    "data = data.drop(columns='Unnamed: 0')\n",
    "\n",
    "condition = (data['companyName'].isna()) | (data['description'].isna() | data['country'].isna())\n",
    "index_to_drop = data[condition].index\n",
    "data = data.drop(index_to_drop)\n",
    "\n",
    "data = data.reset_index(drop=True)"
   ]
  },
  {
   "cell_type": "code",
   "execution_count": 3,
   "id": "37e283e5",
   "metadata": {
    "colab": {
     "base_uri": "https://localhost:8080/",
     "height": 423
    },
    "executionInfo": {
     "elapsed": 12,
     "status": "ok",
     "timestamp": 1699423852860,
     "user": {
      "displayName": "mohamed didi",
      "userId": "12459858373354554760"
     },
     "user_tz": -60
    },
    "id": "37e283e5",
    "outputId": "197958d1-e81f-4e52-91d9-4418a5701e5c",
    "tags": []
   },
   "outputs": [
    {
     "data": {
      "text/html": [
       "<div>\n",
       "<style scoped>\n",
       "    .dataframe tbody tr th:only-of-type {\n",
       "        vertical-align: middle;\n",
       "    }\n",
       "\n",
       "    .dataframe tbody tr th {\n",
       "        vertical-align: top;\n",
       "    }\n",
       "\n",
       "    .dataframe thead th {\n",
       "        text-align: right;\n",
       "    }\n",
       "</style>\n",
       "<table border=\"1\" class=\"dataframe\">\n",
       "  <thead>\n",
       "    <tr style=\"text-align: right;\">\n",
       "      <th></th>\n",
       "      <th>companyName</th>\n",
       "      <th>exchange</th>\n",
       "      <th>industry</th>\n",
       "      <th>website</th>\n",
       "      <th>description</th>\n",
       "      <th>sector</th>\n",
       "      <th>country</th>\n",
       "    </tr>\n",
       "  </thead>\n",
       "  <tbody>\n",
       "    <tr>\n",
       "      <th>0</th>\n",
       "      <td>Visa Inc.</td>\n",
       "      <td>New York Stock Exchange</td>\n",
       "      <td>Credit Services</td>\n",
       "      <td>https://usa.visa.com</td>\n",
       "      <td>Visa Inc. operates as a payments technology co...</td>\n",
       "      <td>Financial Services</td>\n",
       "      <td>US</td>\n",
       "    </tr>\n",
       "    <tr>\n",
       "      <th>1</th>\n",
       "      <td>Texas Roadhouse, Inc.</td>\n",
       "      <td>NASDAQ Global Select</td>\n",
       "      <td>Restaurants</td>\n",
       "      <td>https://www.texasroadhouse.com</td>\n",
       "      <td>Texas Roadhouse, Inc., together with its subsi...</td>\n",
       "      <td>Consumer Cyclical</td>\n",
       "      <td>US</td>\n",
       "    </tr>\n",
       "    <tr>\n",
       "      <th>2</th>\n",
       "      <td>Lamb Weston Holdings, Inc.</td>\n",
       "      <td>New York Stock Exchange</td>\n",
       "      <td>Packaged Foods</td>\n",
       "      <td>https://www.lambweston.com</td>\n",
       "      <td>Lamb Weston Holdings, Inc. produces, distribut...</td>\n",
       "      <td>Consumer Defensive</td>\n",
       "      <td>US</td>\n",
       "    </tr>\n",
       "    <tr>\n",
       "      <th>3</th>\n",
       "      <td>Intact Financial Corporation</td>\n",
       "      <td>Toronto Stock Exchange</td>\n",
       "      <td>Insurance—Property &amp; Casualty</td>\n",
       "      <td>https://www.intactfc.com</td>\n",
       "      <td>Intact Financial Corporation, through its subs...</td>\n",
       "      <td>Financial Services</td>\n",
       "      <td>CA</td>\n",
       "    </tr>\n",
       "    <tr>\n",
       "      <th>4</th>\n",
       "      <td>OPKO Health, Inc.</td>\n",
       "      <td>NASDAQ Global Select</td>\n",
       "      <td>Diagnostics &amp; Research</td>\n",
       "      <td>https://www.opko.com</td>\n",
       "      <td>OPKO Health, Inc., a healthcare company, engag...</td>\n",
       "      <td>Healthcare</td>\n",
       "      <td>US</td>\n",
       "    </tr>\n",
       "    <tr>\n",
       "      <th>...</th>\n",
       "      <td>...</td>\n",
       "      <td>...</td>\n",
       "      <td>...</td>\n",
       "      <td>...</td>\n",
       "      <td>...</td>\n",
       "      <td>...</td>\n",
       "      <td>...</td>\n",
       "    </tr>\n",
       "    <tr>\n",
       "      <th>37579</th>\n",
       "      <td>Relativity Acquisition Corp.</td>\n",
       "      <td>NASDAQ Global Market</td>\n",
       "      <td>Shell Companies</td>\n",
       "      <td>https://www.relativityacquisitions.com</td>\n",
       "      <td>Relativity Acquisition Corp. does not have sig...</td>\n",
       "      <td>Financial Services</td>\n",
       "      <td>US</td>\n",
       "    </tr>\n",
       "    <tr>\n",
       "      <th>37580</th>\n",
       "      <td>Prima Industrie SpA</td>\n",
       "      <td>Milan</td>\n",
       "      <td>Specialty Industrial Machinery</td>\n",
       "      <td>https://www.primaindustrie.com</td>\n",
       "      <td>Prima Industrie SpA develops, manufactures, an...</td>\n",
       "      <td>Industrials</td>\n",
       "      <td>IT</td>\n",
       "    </tr>\n",
       "    <tr>\n",
       "      <th>37581</th>\n",
       "      <td>PT Putra Rajawali Kencana Tbk</td>\n",
       "      <td>Jakarta Stock Exchange</td>\n",
       "      <td>Trucking</td>\n",
       "      <td>https://puratrans.com</td>\n",
       "      <td>PT Putra Rajawali Kencana Tbk engages in the t...</td>\n",
       "      <td>Industrials</td>\n",
       "      <td>ID</td>\n",
       "    </tr>\n",
       "    <tr>\n",
       "      <th>37582</th>\n",
       "      <td>Agritek Holdings, Inc.</td>\n",
       "      <td>Other OTC</td>\n",
       "      <td>Real Estate Services</td>\n",
       "      <td>https://www.agritekholdings.com</td>\n",
       "      <td>Agritek Holdings, Inc. distributes hemp and ca...</td>\n",
       "      <td>Real Estate</td>\n",
       "      <td>US</td>\n",
       "    </tr>\n",
       "    <tr>\n",
       "      <th>37583</th>\n",
       "      <td>Viewtran Group, Inc.</td>\n",
       "      <td>Other OTC</td>\n",
       "      <td>Credit Services</td>\n",
       "      <td>https://www.viewtran.com</td>\n",
       "      <td>Viewtran Group, Inc. provides supply chain fin...</td>\n",
       "      <td>Financial Services</td>\n",
       "      <td>CN</td>\n",
       "    </tr>\n",
       "  </tbody>\n",
       "</table>\n",
       "<p>37584 rows × 7 columns</p>\n",
       "</div>"
      ],
      "text/plain": [
       "                         companyName                 exchange  \\\n",
       "0                          Visa Inc.  New York Stock Exchange   \n",
       "1              Texas Roadhouse, Inc.     NASDAQ Global Select   \n",
       "2         Lamb Weston Holdings, Inc.  New York Stock Exchange   \n",
       "3       Intact Financial Corporation   Toronto Stock Exchange   \n",
       "4                  OPKO Health, Inc.     NASDAQ Global Select   \n",
       "...                              ...                      ...   \n",
       "37579   Relativity Acquisition Corp.     NASDAQ Global Market   \n",
       "37580            Prima Industrie SpA                    Milan   \n",
       "37581  PT Putra Rajawali Kencana Tbk   Jakarta Stock Exchange   \n",
       "37582         Agritek Holdings, Inc.                Other OTC   \n",
       "37583           Viewtran Group, Inc.                Other OTC   \n",
       "\n",
       "                             industry                                 website  \\\n",
       "0                     Credit Services                    https://usa.visa.com   \n",
       "1                         Restaurants          https://www.texasroadhouse.com   \n",
       "2                      Packaged Foods              https://www.lambweston.com   \n",
       "3       Insurance—Property & Casualty                https://www.intactfc.com   \n",
       "4              Diagnostics & Research                    https://www.opko.com   \n",
       "...                               ...                                     ...   \n",
       "37579                 Shell Companies  https://www.relativityacquisitions.com   \n",
       "37580  Specialty Industrial Machinery          https://www.primaindustrie.com   \n",
       "37581                        Trucking                   https://puratrans.com   \n",
       "37582            Real Estate Services         https://www.agritekholdings.com   \n",
       "37583                 Credit Services                https://www.viewtran.com   \n",
       "\n",
       "                                             description              sector  \\\n",
       "0      Visa Inc. operates as a payments technology co...  Financial Services   \n",
       "1      Texas Roadhouse, Inc., together with its subsi...   Consumer Cyclical   \n",
       "2      Lamb Weston Holdings, Inc. produces, distribut...  Consumer Defensive   \n",
       "3      Intact Financial Corporation, through its subs...  Financial Services   \n",
       "4      OPKO Health, Inc., a healthcare company, engag...          Healthcare   \n",
       "...                                                  ...                 ...   \n",
       "37579  Relativity Acquisition Corp. does not have sig...  Financial Services   \n",
       "37580  Prima Industrie SpA develops, manufactures, an...         Industrials   \n",
       "37581  PT Putra Rajawali Kencana Tbk engages in the t...         Industrials   \n",
       "37582  Agritek Holdings, Inc. distributes hemp and ca...         Real Estate   \n",
       "37583  Viewtran Group, Inc. provides supply chain fin...  Financial Services   \n",
       "\n",
       "      country  \n",
       "0          US  \n",
       "1          US  \n",
       "2          US  \n",
       "3          CA  \n",
       "4          US  \n",
       "...       ...  \n",
       "37579      US  \n",
       "37580      IT  \n",
       "37581      ID  \n",
       "37582      US  \n",
       "37583      CN  \n",
       "\n",
       "[37584 rows x 7 columns]"
      ]
     },
     "execution_count": 3,
     "metadata": {},
     "output_type": "execute_result"
    }
   ],
   "source": [
    "data"
   ]
  },
  {
   "cell_type": "markdown",
   "id": "4e715718",
   "metadata": {
    "id": "4e715718",
    "tags": []
   },
   "source": [
    "# Tokenization : plus besoin de le run, car le fichier data_tokenized.csv est créé"
   ]
  },
  {
   "cell_type": "markdown",
   "id": "0ff103b4",
   "metadata": {
    "id": "0ff103b4",
    "tags": []
   },
   "source": [
    "## NLTK"
   ]
  },
  {
   "cell_type": "code",
   "execution_count": 25,
   "id": "344bef3d",
   "metadata": {
    "colab": {
     "base_uri": "https://localhost:8080/"
    },
    "executionInfo": {
     "elapsed": 763,
     "status": "ok",
     "timestamp": 1699423853614,
     "user": {
      "displayName": "mohamed didi",
      "userId": "12459858373354554760"
     },
     "user_tz": -60
    },
    "id": "344bef3d",
    "outputId": "35908f87-391b-400d-edb7-b25a93a7519d",
    "tags": []
   },
   "outputs": [
    {
     "name": "stderr",
     "output_type": "stream",
     "text": [
      "[nltk_data] Downloading package punkt to\n",
      "[nltk_data]     C:\\Users\\romai\\AppData\\Roaming\\nltk_data...\n",
      "[nltk_data]   Package punkt is already up-to-date!\n",
      "[nltk_data] Downloading package stopwords to\n",
      "[nltk_data]     C:\\Users\\romai\\AppData\\Roaming\\nltk_data...\n",
      "[nltk_data]   Package stopwords is already up-to-date!\n"
     ]
    },
    {
     "data": {
      "text/plain": [
       "True"
      ]
     },
     "execution_count": 25,
     "metadata": {},
     "output_type": "execute_result"
    }
   ],
   "source": [
    "import nltk\n",
    "from nltk.corpus import stopwords\n",
    "import string\n",
    "from nltk.tokenize import sent_tokenize, word_tokenize\n",
    "nltk.download('punkt')\n",
    "nltk.download(\"stopwords\")\n",
    "nltk.download('wordnet')"
   ]
  },
  {
   "cell_type": "code",
   "execution_count": null,
   "id": "8cff6ea9",
   "metadata": {
    "id": "8cff6ea9"
   },
   "outputs": [],
   "source": [
    "# desc0 = data['description'].tolist()[0]"
   ]
  },
  {
   "cell_type": "code",
   "execution_count": null,
   "id": "94544e8c",
   "metadata": {
    "id": "94544e8c"
   },
   "outputs": [],
   "source": [
    "# sentences = sent_tokenize(desc0)\n",
    "# words = word_tokenize(desc0)"
   ]
  },
  {
   "cell_type": "code",
   "execution_count": null,
   "id": "84b33eb7",
   "metadata": {
    "id": "84b33eb7"
   },
   "outputs": [],
   "source": [
    "# [wrd.lower() for wrd in words if wrd.lower() not in stopwords.words('english') and wrd not in string.punctuation]"
   ]
  },
  {
   "cell_type": "markdown",
   "id": "obk0bW9LiwN6",
   "metadata": {
    "id": "obk0bW9LiwN6"
   },
   "source": [
    "(avec stemming) temps d'execution pour 37 000 entreprises : 13 minutes\n",
    "(sans stemming) temps d'execution pour 37 000 entreprises : 11 minutes\n"
   ]
  },
  {
   "cell_type": "code",
   "execution_count": null,
   "id": "8c912e41-4110-4088-bfa4-47a8ed42924c",
   "metadata": {},
   "outputs": [
    {
     "data": {
      "text/plain": [
       "'walk'"
      ]
     },
     "execution_count": 62,
     "metadata": {},
     "output_type": "execute_result"
    }
   ],
   "source": [
    "# stemmer = nltk.stem.SnowballStemmer('english')\n",
    "# pstemmer = nltk.stem.PorterStemmer()\n",
    "# lemma = nltk.wordnet.WordNetLemmatizer()\n",
    "# lemma.lemmatize('walking')\n",
    "# stemmer.stem('walking')\n",
    "# opko, health, inc., healthcare, company"
   ]
  },
  {
   "cell_type": "code",
   "execution_count": 66,
   "id": "67aad03b",
   "metadata": {
    "colab": {
     "background_save": true
    },
    "id": "67aad03b",
    "tags": []
   },
   "outputs": [],
   "source": [
    "stemmer = nltk.stem.SnowballStemmer('english')\n",
    "\n",
    "def preprocess_description(description, stem=True):\n",
    "  words = word_tokenize(description)\n",
    "  if stem:\n",
    "    filtered_words = [stemmer.stem(word.lower()) for word in words if word.lower() not in stopwords.words('english') and word not in string.punctuation]\n",
    "  else:\n",
    "    filtered_words = [word.lower() for word in words if word.lower() not in stopwords.words('english') and word not in string.punctuation]\n",
    "\n",
    "  return filtered_words\n",
    "\n",
    "# data = data.iloc[:100]\n",
    "data['description'] = data['description'].apply(preprocess_description)"
   ]
  },
  {
   "cell_type": "code",
   "execution_count": null,
   "id": "31744d6e",
   "metadata": {
    "colab": {
     "background_save": true
    },
    "id": "31744d6e",
    "outputId": "604e8211-5b71-4731-946f-cccbc707c2aa"
   },
   "outputs": [
    {
     "data": {
      "text/html": [
       "\n",
       "  <div id=\"df-0a549933-b339-410d-bd1e-c2b232c20ba1\" class=\"colab-df-container\">\n",
       "    <div>\n",
       "<style scoped>\n",
       "    .dataframe tbody tr th:only-of-type {\n",
       "        vertical-align: middle;\n",
       "    }\n",
       "\n",
       "    .dataframe tbody tr th {\n",
       "        vertical-align: top;\n",
       "    }\n",
       "\n",
       "    .dataframe thead th {\n",
       "        text-align: right;\n",
       "    }\n",
       "</style>\n",
       "<table border=\"1\" class=\"dataframe\">\n",
       "  <thead>\n",
       "    <tr style=\"text-align: right;\">\n",
       "      <th></th>\n",
       "      <th>companyName</th>\n",
       "      <th>exchange</th>\n",
       "      <th>industry</th>\n",
       "      <th>website</th>\n",
       "      <th>description</th>\n",
       "      <th>sector</th>\n",
       "      <th>country</th>\n",
       "    </tr>\n",
       "  </thead>\n",
       "  <tbody>\n",
       "    <tr>\n",
       "      <th>0</th>\n",
       "      <td>Visa Inc.</td>\n",
       "      <td>New York Stock Exchange</td>\n",
       "      <td>Credit Services</td>\n",
       "      <td>https://usa.visa.com</td>\n",
       "      <td>[visa, inc., operates, payments, technology, c...</td>\n",
       "      <td>Financial Services</td>\n",
       "      <td>US</td>\n",
       "    </tr>\n",
       "    <tr>\n",
       "      <th>1</th>\n",
       "      <td>Texas Roadhouse, Inc.</td>\n",
       "      <td>NASDAQ Global Select</td>\n",
       "      <td>Restaurants</td>\n",
       "      <td>https://www.texasroadhouse.com</td>\n",
       "      <td>[texas, roadhouse, inc., together, subsidiarie...</td>\n",
       "      <td>Consumer Cyclical</td>\n",
       "      <td>US</td>\n",
       "    </tr>\n",
       "    <tr>\n",
       "      <th>2</th>\n",
       "      <td>Lamb Weston Holdings, Inc.</td>\n",
       "      <td>New York Stock Exchange</td>\n",
       "      <td>Packaged Foods</td>\n",
       "      <td>https://www.lambweston.com</td>\n",
       "      <td>[lamb, weston, holdings, inc., produces, distr...</td>\n",
       "      <td>Consumer Defensive</td>\n",
       "      <td>US</td>\n",
       "    </tr>\n",
       "    <tr>\n",
       "      <th>3</th>\n",
       "      <td>Intact Financial Corporation</td>\n",
       "      <td>Toronto Stock Exchange</td>\n",
       "      <td>Insurance—Property &amp; Casualty</td>\n",
       "      <td>https://www.intactfc.com</td>\n",
       "      <td>[intact, financial, corporation, subsidiaries,...</td>\n",
       "      <td>Financial Services</td>\n",
       "      <td>CA</td>\n",
       "    </tr>\n",
       "    <tr>\n",
       "      <th>4</th>\n",
       "      <td>OPKO Health, Inc.</td>\n",
       "      <td>NASDAQ Global Select</td>\n",
       "      <td>Diagnostics &amp; Research</td>\n",
       "      <td>https://www.opko.com</td>\n",
       "      <td>[opko, health, inc., healthcare, company, enga...</td>\n",
       "      <td>Healthcare</td>\n",
       "      <td>US</td>\n",
       "    </tr>\n",
       "  </tbody>\n",
       "</table>\n",
       "</div>\n",
       "    <div class=\"colab-df-buttons\">\n",
       "\n",
       "  <div class=\"colab-df-container\">\n",
       "    <button class=\"colab-df-convert\" onclick=\"convertToInteractive('df-0a549933-b339-410d-bd1e-c2b232c20ba1')\"\n",
       "            title=\"Convert this dataframe to an interactive table.\"\n",
       "            style=\"display:none;\">\n",
       "\n",
       "  <svg xmlns=\"http://www.w3.org/2000/svg\" height=\"24px\" viewBox=\"0 -960 960 960\">\n",
       "    <path d=\"M120-120v-720h720v720H120Zm60-500h600v-160H180v160Zm220 220h160v-160H400v160Zm0 220h160v-160H400v160ZM180-400h160v-160H180v160Zm440 0h160v-160H620v160ZM180-180h160v-160H180v160Zm440 0h160v-160H620v160Z\"/>\n",
       "  </svg>\n",
       "    </button>\n",
       "\n",
       "  <style>\n",
       "    .colab-df-container {\n",
       "      display:flex;\n",
       "      gap: 12px;\n",
       "    }\n",
       "\n",
       "    .colab-df-convert {\n",
       "      background-color: #E8F0FE;\n",
       "      border: none;\n",
       "      border-radius: 50%;\n",
       "      cursor: pointer;\n",
       "      display: none;\n",
       "      fill: #1967D2;\n",
       "      height: 32px;\n",
       "      padding: 0 0 0 0;\n",
       "      width: 32px;\n",
       "    }\n",
       "\n",
       "    .colab-df-convert:hover {\n",
       "      background-color: #E2EBFA;\n",
       "      box-shadow: 0px 1px 2px rgba(60, 64, 67, 0.3), 0px 1px 3px 1px rgba(60, 64, 67, 0.15);\n",
       "      fill: #174EA6;\n",
       "    }\n",
       "\n",
       "    .colab-df-buttons div {\n",
       "      margin-bottom: 4px;\n",
       "    }\n",
       "\n",
       "    [theme=dark] .colab-df-convert {\n",
       "      background-color: #3B4455;\n",
       "      fill: #D2E3FC;\n",
       "    }\n",
       "\n",
       "    [theme=dark] .colab-df-convert:hover {\n",
       "      background-color: #434B5C;\n",
       "      box-shadow: 0px 1px 3px 1px rgba(0, 0, 0, 0.15);\n",
       "      filter: drop-shadow(0px 1px 2px rgba(0, 0, 0, 0.3));\n",
       "      fill: #FFFFFF;\n",
       "    }\n",
       "  </style>\n",
       "\n",
       "    <script>\n",
       "      const buttonEl =\n",
       "        document.querySelector('#df-0a549933-b339-410d-bd1e-c2b232c20ba1 button.colab-df-convert');\n",
       "      buttonEl.style.display =\n",
       "        google.colab.kernel.accessAllowed ? 'block' : 'none';\n",
       "\n",
       "      async function convertToInteractive(key) {\n",
       "        const element = document.querySelector('#df-0a549933-b339-410d-bd1e-c2b232c20ba1');\n",
       "        const dataTable =\n",
       "          await google.colab.kernel.invokeFunction('convertToInteractive',\n",
       "                                                    [key], {});\n",
       "        if (!dataTable) return;\n",
       "\n",
       "        const docLinkHtml = 'Like what you see? Visit the ' +\n",
       "          '<a target=\"_blank\" href=https://colab.research.google.com/notebooks/data_table.ipynb>data table notebook</a>'\n",
       "          + ' to learn more about interactive tables.';\n",
       "        element.innerHTML = '';\n",
       "        dataTable['output_type'] = 'display_data';\n",
       "        await google.colab.output.renderOutput(dataTable, element);\n",
       "        const docLink = document.createElement('div');\n",
       "        docLink.innerHTML = docLinkHtml;\n",
       "        element.appendChild(docLink);\n",
       "      }\n",
       "    </script>\n",
       "  </div>\n",
       "\n",
       "\n",
       "<div id=\"df-d05c8a35-2052-49d7-93c6-2d2b1cbb295e\">\n",
       "  <button class=\"colab-df-quickchart\" onclick=\"quickchart('df-d05c8a35-2052-49d7-93c6-2d2b1cbb295e')\"\n",
       "            title=\"Suggest charts\"\n",
       "            style=\"display:none;\">\n",
       "\n",
       "<svg xmlns=\"http://www.w3.org/2000/svg\" height=\"24px\"viewBox=\"0 0 24 24\"\n",
       "     width=\"24px\">\n",
       "    <g>\n",
       "        <path d=\"M19 3H5c-1.1 0-2 .9-2 2v14c0 1.1.9 2 2 2h14c1.1 0 2-.9 2-2V5c0-1.1-.9-2-2-2zM9 17H7v-7h2v7zm4 0h-2V7h2v10zm4 0h-2v-4h2v4z\"/>\n",
       "    </g>\n",
       "</svg>\n",
       "  </button>\n",
       "\n",
       "<style>\n",
       "  .colab-df-quickchart {\n",
       "      --bg-color: #E8F0FE;\n",
       "      --fill-color: #1967D2;\n",
       "      --hover-bg-color: #E2EBFA;\n",
       "      --hover-fill-color: #174EA6;\n",
       "      --disabled-fill-color: #AAA;\n",
       "      --disabled-bg-color: #DDD;\n",
       "  }\n",
       "\n",
       "  [theme=dark] .colab-df-quickchart {\n",
       "      --bg-color: #3B4455;\n",
       "      --fill-color: #D2E3FC;\n",
       "      --hover-bg-color: #434B5C;\n",
       "      --hover-fill-color: #FFFFFF;\n",
       "      --disabled-bg-color: #3B4455;\n",
       "      --disabled-fill-color: #666;\n",
       "  }\n",
       "\n",
       "  .colab-df-quickchart {\n",
       "    background-color: var(--bg-color);\n",
       "    border: none;\n",
       "    border-radius: 50%;\n",
       "    cursor: pointer;\n",
       "    display: none;\n",
       "    fill: var(--fill-color);\n",
       "    height: 32px;\n",
       "    padding: 0;\n",
       "    width: 32px;\n",
       "  }\n",
       "\n",
       "  .colab-df-quickchart:hover {\n",
       "    background-color: var(--hover-bg-color);\n",
       "    box-shadow: 0 1px 2px rgba(60, 64, 67, 0.3), 0 1px 3px 1px rgba(60, 64, 67, 0.15);\n",
       "    fill: var(--button-hover-fill-color);\n",
       "  }\n",
       "\n",
       "  .colab-df-quickchart-complete:disabled,\n",
       "  .colab-df-quickchart-complete:disabled:hover {\n",
       "    background-color: var(--disabled-bg-color);\n",
       "    fill: var(--disabled-fill-color);\n",
       "    box-shadow: none;\n",
       "  }\n",
       "\n",
       "  .colab-df-spinner {\n",
       "    border: 2px solid var(--fill-color);\n",
       "    border-color: transparent;\n",
       "    border-bottom-color: var(--fill-color);\n",
       "    animation:\n",
       "      spin 1s steps(1) infinite;\n",
       "  }\n",
       "\n",
       "  @keyframes spin {\n",
       "    0% {\n",
       "      border-color: transparent;\n",
       "      border-bottom-color: var(--fill-color);\n",
       "      border-left-color: var(--fill-color);\n",
       "    }\n",
       "    20% {\n",
       "      border-color: transparent;\n",
       "      border-left-color: var(--fill-color);\n",
       "      border-top-color: var(--fill-color);\n",
       "    }\n",
       "    30% {\n",
       "      border-color: transparent;\n",
       "      border-left-color: var(--fill-color);\n",
       "      border-top-color: var(--fill-color);\n",
       "      border-right-color: var(--fill-color);\n",
       "    }\n",
       "    40% {\n",
       "      border-color: transparent;\n",
       "      border-right-color: var(--fill-color);\n",
       "      border-top-color: var(--fill-color);\n",
       "    }\n",
       "    60% {\n",
       "      border-color: transparent;\n",
       "      border-right-color: var(--fill-color);\n",
       "    }\n",
       "    80% {\n",
       "      border-color: transparent;\n",
       "      border-right-color: var(--fill-color);\n",
       "      border-bottom-color: var(--fill-color);\n",
       "    }\n",
       "    90% {\n",
       "      border-color: transparent;\n",
       "      border-bottom-color: var(--fill-color);\n",
       "    }\n",
       "  }\n",
       "</style>\n",
       "\n",
       "  <script>\n",
       "    async function quickchart(key) {\n",
       "      const quickchartButtonEl =\n",
       "        document.querySelector('#' + key + ' button');\n",
       "      quickchartButtonEl.disabled = true;  // To prevent multiple clicks.\n",
       "      quickchartButtonEl.classList.add('colab-df-spinner');\n",
       "      try {\n",
       "        const charts = await google.colab.kernel.invokeFunction(\n",
       "            'suggestCharts', [key], {});\n",
       "      } catch (error) {\n",
       "        console.error('Error during call to suggestCharts:', error);\n",
       "      }\n",
       "      quickchartButtonEl.classList.remove('colab-df-spinner');\n",
       "      quickchartButtonEl.classList.add('colab-df-quickchart-complete');\n",
       "    }\n",
       "    (() => {\n",
       "      let quickchartButtonEl =\n",
       "        document.querySelector('#df-d05c8a35-2052-49d7-93c6-2d2b1cbb295e button');\n",
       "      quickchartButtonEl.style.display =\n",
       "        google.colab.kernel.accessAllowed ? 'block' : 'none';\n",
       "    })();\n",
       "  </script>\n",
       "</div>\n",
       "    </div>\n",
       "  </div>\n"
      ],
      "text/plain": [
       "                    companyName                 exchange  \\\n",
       "0                     Visa Inc.  New York Stock Exchange   \n",
       "1         Texas Roadhouse, Inc.     NASDAQ Global Select   \n",
       "2    Lamb Weston Holdings, Inc.  New York Stock Exchange   \n",
       "3  Intact Financial Corporation   Toronto Stock Exchange   \n",
       "4             OPKO Health, Inc.     NASDAQ Global Select   \n",
       "\n",
       "                        industry                         website  \\\n",
       "0                Credit Services            https://usa.visa.com   \n",
       "1                    Restaurants  https://www.texasroadhouse.com   \n",
       "2                 Packaged Foods      https://www.lambweston.com   \n",
       "3  Insurance—Property & Casualty        https://www.intactfc.com   \n",
       "4         Diagnostics & Research            https://www.opko.com   \n",
       "\n",
       "                                         description              sector  \\\n",
       "0  [visa, inc., operates, payments, technology, c...  Financial Services   \n",
       "1  [texas, roadhouse, inc., together, subsidiarie...   Consumer Cyclical   \n",
       "2  [lamb, weston, holdings, inc., produces, distr...  Consumer Defensive   \n",
       "3  [intact, financial, corporation, subsidiaries,...  Financial Services   \n",
       "4  [opko, health, inc., healthcare, company, enga...          Healthcare   \n",
       "\n",
       "  country  \n",
       "0      US  \n",
       "1      US  \n",
       "2      US  \n",
       "3      CA  \n",
       "4      US  "
      ]
     },
     "execution_count": 11,
     "metadata": {},
     "output_type": "execute_result"
    }
   ],
   "source": [
    "data.head()"
   ]
  },
  {
   "cell_type": "code",
   "execution_count": null,
   "id": "-UMearMcBrSG",
   "metadata": {
    "colab": {
     "background_save": true
    },
    "id": "-UMearMcBrSG",
    "outputId": "5aa782b1-f028-4588-aa37-ca4f9f61631d"
   },
   "outputs": [
    {
     "data": {
      "text/plain": [
       "list"
      ]
     },
     "execution_count": 12,
     "metadata": {},
     "output_type": "execute_result"
    }
   ],
   "source": [
    "type(data.iloc[0]['description'])"
   ]
  },
  {
   "cell_type": "code",
   "execution_count": 67,
   "id": "86e8e5ed",
   "metadata": {
    "colab": {
     "background_save": true
    },
    "id": "86e8e5ed",
    "tags": []
   },
   "outputs": [],
   "source": [
    "data.to_csv(\"../Data/data_tokenized.csv\", index=True)"
   ]
  },
  {
   "cell_type": "code",
   "execution_count": null,
   "id": "fMU4MuGPCEu7",
   "metadata": {
    "colab": {
     "background_save": true
    },
    "id": "fMU4MuGPCEu7"
   },
   "outputs": [],
   "source": [
    "old_data = data.copy()"
   ]
  },
  {
   "cell_type": "markdown",
   "id": "1ed037e6",
   "metadata": {
    "id": "1ed037e6"
   },
   "source": [
    "# Vectorisation"
   ]
  },
  {
   "cell_type": "markdown",
   "id": "Hhz-BRR3wd8v",
   "metadata": {
    "id": "Hhz-BRR3wd8v"
   },
   "source": [
    "temps d'exe pour 37000 : 8 sec"
   ]
  },
  {
   "cell_type": "code",
   "execution_count": 68,
   "id": "0ff64182",
   "metadata": {
    "colab": {
     "background_save": true
    },
    "id": "0ff64182",
    "tags": []
   },
   "outputs": [],
   "source": [
    "def load_preprocess_data_tokenized():\n",
    "    data = pd.read_csv(\"../Data/data_tokenized.csv\")\n",
    "    data = data.drop(columns='Unnamed: 0')\n",
    "    data['description'] = data['description'].apply(eval)  # pour reconvertir la string en list\n",
    "    # data['country'] = data['country'].apply(eval)  # pour reconvertir la string en list\n",
    "    data = data.drop_duplicates('companyName')\n",
    "    data['description'] = data.apply(lambda row: row['description'] + [row['country'], row['sector']], axis=1)\n",
    "    data = data.drop(columns=['exchange', 'website'])\n",
    "    data['country'] = data['country'].replace({'GB':'UK',\n",
    "                                               'TW':'CN',\n",
    "                                               'GG':'FR',\n",
    "                                               'RE':'FR',\n",
    "                                               'GF':'FR',\n",
    "                                               'MQ':'UK',\n",
    "                                               'JE':'UK',\n",
    "                                               'AI':'UK',\n",
    "                                               'AN':'NL',\n",
    "                                               'GI':'UK'})\n",
    "    return data"
   ]
  },
  {
   "cell_type": "code",
   "execution_count": 69,
   "id": "328f56e6-6b20-43cf-a2ca-5f62a23b15f9",
   "metadata": {
    "tags": []
   },
   "outputs": [
    {
     "data": {
      "text/html": [
       "<div>\n",
       "<style scoped>\n",
       "    .dataframe tbody tr th:only-of-type {\n",
       "        vertical-align: middle;\n",
       "    }\n",
       "\n",
       "    .dataframe tbody tr th {\n",
       "        vertical-align: top;\n",
       "    }\n",
       "\n",
       "    .dataframe thead th {\n",
       "        text-align: right;\n",
       "    }\n",
       "</style>\n",
       "<table border=\"1\" class=\"dataframe\">\n",
       "  <thead>\n",
       "    <tr style=\"text-align: right;\">\n",
       "      <th></th>\n",
       "      <th>companyName</th>\n",
       "      <th>industry</th>\n",
       "      <th>description</th>\n",
       "      <th>sector</th>\n",
       "      <th>country</th>\n",
       "    </tr>\n",
       "  </thead>\n",
       "  <tbody>\n",
       "    <tr>\n",
       "      <th>0</th>\n",
       "      <td>Visa Inc.</td>\n",
       "      <td>Credit Services</td>\n",
       "      <td>[visa, inc., oper, payment, technolog, compani...</td>\n",
       "      <td>Financial Services</td>\n",
       "      <td>US</td>\n",
       "    </tr>\n",
       "    <tr>\n",
       "      <th>1</th>\n",
       "      <td>Texas Roadhouse, Inc.</td>\n",
       "      <td>Restaurants</td>\n",
       "      <td>[texa, roadhous, inc., togeth, subsidiari, ope...</td>\n",
       "      <td>Consumer Cyclical</td>\n",
       "      <td>US</td>\n",
       "    </tr>\n",
       "    <tr>\n",
       "      <th>2</th>\n",
       "      <td>Lamb Weston Holdings, Inc.</td>\n",
       "      <td>Packaged Foods</td>\n",
       "      <td>[lamb, weston, hold, inc., produc, distribut, ...</td>\n",
       "      <td>Consumer Defensive</td>\n",
       "      <td>US</td>\n",
       "    </tr>\n",
       "    <tr>\n",
       "      <th>3</th>\n",
       "      <td>Intact Financial Corporation</td>\n",
       "      <td>Insurance—Property &amp; Casualty</td>\n",
       "      <td>[intact, financi, corpor, subsidiari, provid, ...</td>\n",
       "      <td>Financial Services</td>\n",
       "      <td>CA</td>\n",
       "    </tr>\n",
       "    <tr>\n",
       "      <th>4</th>\n",
       "      <td>OPKO Health, Inc.</td>\n",
       "      <td>Diagnostics &amp; Research</td>\n",
       "      <td>[opko, health, inc., healthcar, compani, engag...</td>\n",
       "      <td>Healthcare</td>\n",
       "      <td>US</td>\n",
       "    </tr>\n",
       "    <tr>\n",
       "      <th>...</th>\n",
       "      <td>...</td>\n",
       "      <td>...</td>\n",
       "      <td>...</td>\n",
       "      <td>...</td>\n",
       "      <td>...</td>\n",
       "    </tr>\n",
       "    <tr>\n",
       "      <th>37577</th>\n",
       "      <td>Global Brokerage, Inc.</td>\n",
       "      <td>Financial Data &amp; Stock Exchanges</td>\n",
       "      <td>[global, brokerag, inc., subsidiari, provid, o...</td>\n",
       "      <td>Financial Services</td>\n",
       "      <td>US</td>\n",
       "    </tr>\n",
       "    <tr>\n",
       "      <th>37580</th>\n",
       "      <td>Prima Industrie SpA</td>\n",
       "      <td>Specialty Industrial Machinery</td>\n",
       "      <td>[prima, industri, spa, develop, manufactur, ma...</td>\n",
       "      <td>Industrials</td>\n",
       "      <td>IT</td>\n",
       "    </tr>\n",
       "    <tr>\n",
       "      <th>37581</th>\n",
       "      <td>PT Putra Rajawali Kencana Tbk</td>\n",
       "      <td>Trucking</td>\n",
       "      <td>[pt, putra, rajawali, kencana, tbk, engag, tra...</td>\n",
       "      <td>Industrials</td>\n",
       "      <td>ID</td>\n",
       "    </tr>\n",
       "    <tr>\n",
       "      <th>37582</th>\n",
       "      <td>Agritek Holdings, Inc.</td>\n",
       "      <td>Real Estate Services</td>\n",
       "      <td>[agritek, hold, inc., distribut, hemp, cannabi...</td>\n",
       "      <td>Real Estate</td>\n",
       "      <td>US</td>\n",
       "    </tr>\n",
       "    <tr>\n",
       "      <th>37583</th>\n",
       "      <td>Viewtran Group, Inc.</td>\n",
       "      <td>Credit Services</td>\n",
       "      <td>[viewtran, group, inc., provid, suppli, chain,...</td>\n",
       "      <td>Financial Services</td>\n",
       "      <td>CN</td>\n",
       "    </tr>\n",
       "  </tbody>\n",
       "</table>\n",
       "<p>31149 rows × 5 columns</p>\n",
       "</div>"
      ],
      "text/plain": [
       "                         companyName                          industry  \\\n",
       "0                          Visa Inc.                   Credit Services   \n",
       "1              Texas Roadhouse, Inc.                       Restaurants   \n",
       "2         Lamb Weston Holdings, Inc.                    Packaged Foods   \n",
       "3       Intact Financial Corporation     Insurance—Property & Casualty   \n",
       "4                  OPKO Health, Inc.            Diagnostics & Research   \n",
       "...                              ...                               ...   \n",
       "37577         Global Brokerage, Inc.  Financial Data & Stock Exchanges   \n",
       "37580            Prima Industrie SpA    Specialty Industrial Machinery   \n",
       "37581  PT Putra Rajawali Kencana Tbk                          Trucking   \n",
       "37582         Agritek Holdings, Inc.              Real Estate Services   \n",
       "37583           Viewtran Group, Inc.                   Credit Services   \n",
       "\n",
       "                                             description              sector  \\\n",
       "0      [visa, inc., oper, payment, technolog, compani...  Financial Services   \n",
       "1      [texa, roadhous, inc., togeth, subsidiari, ope...   Consumer Cyclical   \n",
       "2      [lamb, weston, hold, inc., produc, distribut, ...  Consumer Defensive   \n",
       "3      [intact, financi, corpor, subsidiari, provid, ...  Financial Services   \n",
       "4      [opko, health, inc., healthcar, compani, engag...          Healthcare   \n",
       "...                                                  ...                 ...   \n",
       "37577  [global, brokerag, inc., subsidiari, provid, o...  Financial Services   \n",
       "37580  [prima, industri, spa, develop, manufactur, ma...         Industrials   \n",
       "37581  [pt, putra, rajawali, kencana, tbk, engag, tra...         Industrials   \n",
       "37582  [agritek, hold, inc., distribut, hemp, cannabi...         Real Estate   \n",
       "37583  [viewtran, group, inc., provid, suppli, chain,...  Financial Services   \n",
       "\n",
       "      country  \n",
       "0          US  \n",
       "1          US  \n",
       "2          US  \n",
       "3          CA  \n",
       "4          US  \n",
       "...       ...  \n",
       "37577      US  \n",
       "37580      IT  \n",
       "37581      ID  \n",
       "37582      US  \n",
       "37583      CN  \n",
       "\n",
       "[31149 rows x 5 columns]"
      ]
     },
     "execution_count": 69,
     "metadata": {},
     "output_type": "execute_result"
    }
   ],
   "source": [
    "load_preprocess_data_tokenized()"
   ]
  },
  {
   "cell_type": "code",
   "execution_count": null,
   "id": "OfPVdRiBqKEq",
   "metadata": {
    "colab": {
     "background_save": true
    },
    "id": "OfPVdRiBqKEq"
   },
   "outputs": [],
   "source": [
    "# data['description'] = data['description'].apply(lambda x: [token for token in x if not token.isdigit()])"
   ]
  },
  {
   "cell_type": "markdown",
   "id": "UMmYgubXuLMI",
   "metadata": {
    "id": "UMmYgubXuLMI"
   },
   "source": [
    "Temps d'execution pour 37 000 entreprises : 13s"
   ]
  },
  {
   "cell_type": "code",
   "execution_count": 12,
   "id": "0YOC1ie_a-xa",
   "metadata": {
    "colab": {
     "background_save": true
    },
    "id": "0YOC1ie_a-xa",
    "tags": []
   },
   "outputs": [],
   "source": [
    "def build_tfidf(df):\n",
    "  tfidf_vectorizer = TfidfVectorizer()\n",
    "\n",
    "  tfidf_matrix = tfidf_vectorizer.fit_transform(df['description'].astype(str))\n",
    "\n",
    "  list(tfidf_matrix)\n",
    "  # print(pd.Series(tfidf_matrix.toarray()))\n",
    "\n",
    "  df['vec_tfidf'] = list(tfidf_matrix)\n",
    "  # data['vec_tfidf']=tfidf_matrix.toarray()\n",
    "\n",
    "  # feature_names = tfidf_vectorizer.get_feature_names_out()\n",
    "  return df\n",
    "\n",
    "data = load_preprocess_data_tokenized()\n",
    "data = build_tfidf(data)"
   ]
  },
  {
   "cell_type": "code",
   "execution_count": 28,
   "id": "aXJVBdzdN72D",
   "metadata": {
    "colab": {
     "background_save": true
    },
    "id": "aXJVBdzdN72D",
    "outputId": "3bb9c20c-a767-4aac-9a45-c1b8807b224b",
    "tags": []
   },
   "outputs": [
    {
     "data": {
      "text/plain": [
       "0          (0, 92838)\\t0.038418472516139494\\n  (0, 1527...\n",
       "1          (0, 23051)\\t0.06133336867964345\\n  (0, 20953...\n",
       "2          (0, 24265)\\t0.06161306698161394\\n  (0, 27807...\n",
       "3          (0, 14982)\\t0.038365771435037076\\n  (0, 8975...\n",
       "4          (0, 33674)\\t0.05653034567550189\\n  (0, 56878...\n",
       "                               ...                        \n",
       "37577      (0, 35279)\\t0.17662915954089103\\n  (0, 72634...\n",
       "37580      (0, 20024)\\t0.10217432915004156\\n  (0, 71711...\n",
       "37581      (0, 72977)\\t0.18174508162278213\\n  (0, 48465...\n",
       "37582      (0, 55931)\\t0.14184842729200042\\n  (0, 40281...\n",
       "37583      (0, 19875)\\t0.24627982335434354\\n  (0, 94191...\n",
       "Name: vec_tfidf, Length: 31149, dtype: object"
      ]
     },
     "execution_count": 28,
     "metadata": {},
     "output_type": "execute_result"
    }
   ],
   "source": [
    "data['vec_tfidf']"
   ]
  },
  {
   "cell_type": "code",
   "execution_count": null,
   "id": "ii2QIzMojDIM",
   "metadata": {
    "colab": {
     "background_save": true
    },
    "id": "ii2QIzMojDIM"
   },
   "outputs": [],
   "source": [
    "# data['vec_tfidf'].values[0].toarray()"
   ]
  },
  {
   "cell_type": "markdown",
   "id": "f7645b8e",
   "metadata": {
    "id": "f7645b8e",
    "jp-MarkdownHeadingCollapsed": true,
    "tags": []
   },
   "source": [
    "## Word2Vec"
   ]
  },
  {
   "cell_type": "code",
   "execution_count": null,
   "id": "12948857",
   "metadata": {
    "colab": {
     "background_save": true
    },
    "id": "12948857",
    "outputId": "145a76fe-ad84-434b-eb47-5c6b2f7087d4"
   },
   "outputs": [
    {
     "name": "stdout",
     "output_type": "stream",
     "text": [
      "Requirement already satisfied: gensim in /usr/local/lib/python3.10/dist-packages (4.3.2)\n",
      "Requirement already satisfied: numpy>=1.18.5 in /usr/local/lib/python3.10/dist-packages (from gensim) (1.23.5)\n",
      "Requirement already satisfied: scipy>=1.7.0 in /usr/local/lib/python3.10/dist-packages (from gensim) (1.11.3)\n",
      "Requirement already satisfied: smart-open>=1.8.1 in /usr/local/lib/python3.10/dist-packages (from gensim) (6.4.0)\n"
     ]
    }
   ],
   "source": [
    "!pip install gensim"
   ]
  },
  {
   "cell_type": "code",
   "execution_count": null,
   "id": "59dcdb08",
   "metadata": {
    "colab": {
     "background_save": true
    },
    "id": "59dcdb08",
    "outputId": "8a46241d-47c3-4ec2-a3df-dbb18eebb554"
   },
   "outputs": [
    {
     "data": {
      "text/plain": [
       "['visa',\n",
       " 'inc.',\n",
       " 'operates',\n",
       " 'payments',\n",
       " 'technology',\n",
       " 'company',\n",
       " 'worldwide',\n",
       " 'company',\n",
       " 'facilitates',\n",
       " 'digital',\n",
       " 'payments',\n",
       " 'among',\n",
       " 'consumers',\n",
       " 'merchants',\n",
       " 'financial',\n",
       " 'institutions',\n",
       " 'businesses',\n",
       " 'strategic',\n",
       " 'partners',\n",
       " 'government',\n",
       " 'entities',\n",
       " 'operates',\n",
       " 'visanet',\n",
       " 'transaction',\n",
       " 'processing',\n",
       " 'network',\n",
       " 'enables',\n",
       " 'authorization',\n",
       " 'clearing',\n",
       " 'settlement',\n",
       " 'payment',\n",
       " 'transactions',\n",
       " 'addition',\n",
       " 'company',\n",
       " 'offers',\n",
       " 'card',\n",
       " 'products',\n",
       " 'platforms',\n",
       " 'value-added',\n",
       " 'services',\n",
       " 'provides',\n",
       " 'services',\n",
       " 'visa',\n",
       " 'visa',\n",
       " 'electron',\n",
       " 'interlink',\n",
       " 'vpay',\n",
       " 'plus',\n",
       " 'brands',\n",
       " 'visa',\n",
       " 'inc.',\n",
       " 'strategic',\n",
       " 'agreement',\n",
       " 'ooredoo',\n",
       " 'provide',\n",
       " 'enhanced',\n",
       " 'payment',\n",
       " 'experience',\n",
       " 'visa',\n",
       " 'cardholders',\n",
       " 'ooredoo',\n",
       " 'customers',\n",
       " 'qatar',\n",
       " 'visa',\n",
       " 'inc.',\n",
       " 'founded',\n",
       " '1958',\n",
       " 'headquartered',\n",
       " 'san',\n",
       " 'francisco',\n",
       " 'california',\n",
       " 'US',\n",
       " 'Financial Services']"
      ]
     },
     "execution_count": 21,
     "metadata": {},
     "output_type": "execute_result"
    }
   ],
   "source": [
    "desc0 = data['description'][0]\n",
    "desc0"
   ]
  },
  {
   "cell_type": "code",
   "execution_count": null,
   "id": "20f64a33",
   "metadata": {
    "colab": {
     "background_save": true
    },
    "id": "20f64a33"
   },
   "outputs": [],
   "source": [
    "from gensim.models import Word2Vec\n",
    "from gensim.downloader import load\n",
    "\n",
    "model = load('word2vec-google-news-300')"
   ]
  },
  {
   "cell_type": "code",
   "execution_count": null,
   "id": "2iCCdmnArpTM",
   "metadata": {
    "colab": {
     "background_save": true
    },
    "id": "2iCCdmnArpTM",
    "outputId": "25318a13-1c98-4af3-a886-d424a7b51726"
   },
   "outputs": [
    {
     "data": {
      "text/plain": [
       "<gensim.models.keyedvectors.KeyedVectors at 0x7b59766c56c0>"
      ]
     },
     "execution_count": 38,
     "metadata": {},
     "output_type": "execute_result"
    }
   ],
   "source": [
    "model"
   ]
  },
  {
   "cell_type": "code",
   "execution_count": null,
   "id": "735285e2",
   "metadata": {
    "colab": {
     "background_save": true
    },
    "id": "735285e2"
   },
   "outputs": [],
   "source": [
    "# model.save(\"/content/drive/MyDrive/S9/DDEFI/Projet DDEFI/test Romain/model_word2vec-google-news-300.w2v\")"
   ]
  },
  {
   "cell_type": "code",
   "execution_count": null,
   "id": "7dee4757",
   "metadata": {
    "colab": {
     "background_save": true
    },
    "id": "7dee4757"
   },
   "outputs": [],
   "source": [
    "# from gensim.models import KeyedVectors\n",
    "# model = KeyedVectors.load_word2vec_format(\"/content/drive/MyDrive/S9/DDEFI/Projet DDEFI/test Romain/model_word2vec-google-news-300.w2v\", binary=True)"
   ]
  },
  {
   "cell_type": "code",
   "execution_count": null,
   "id": "7Yli-1fCu2Er",
   "metadata": {
    "colab": {
     "background_save": true
    },
    "id": "7Yli-1fCu2Er",
    "outputId": "79297a2c-7054-4791-9fcc-4cfe8e14c9f8"
   },
   "outputs": [
    {
     "name": "stdout",
     "output_type": "stream",
     "text": [
      "/root/gensim-data/word2vec-google-news-300/word2vec-google-news-300.gz\n"
     ]
    }
   ],
   "source": [
    "import gensim.downloader as api\n",
    "path = api.load(\"word2vec-google-news-300\", return_path=True)\n",
    "print(path)"
   ]
  },
  {
   "cell_type": "code",
   "execution_count": null,
   "id": "XZamDdwOlFMd",
   "metadata": {
    "colab": {
     "background_save": true
    },
    "id": "XZamDdwOlFMd",
    "outputId": "43ed7d7b-f2e0-4e9b-b0eb-48b38248ed8b"
   },
   "outputs": [
    {
     "data": {
      "application/vnd.google.colaboratory.intrinsic+json": {
       "type": "string"
      },
      "text/plain": [
       "'from gensim.models import Word2Vec\\n\\nfrom gensim.models import KeyedVectors\\n\\n# Load the model directly from the compressed file\\nmodel = KeyedVectors.load_word2vec_format(\\'/root/gensim-data/word2vec-google-news-300/word2vec-google-news-300.gz\\', binary=True)\\n\\ndef calculate_average_word2vec(tokens, model, num_features):\\n    feature_vector = np.zeros((num_features,), dtype=\"float32\")\\n    nwords = 0\\n\\n    for token in tokens:\\n        if token in model.wv:\\n            nwords += 1\\n            feature_vector = np.add(feature_vector, model.wv[token])\\n\\n    if nwords > 0:\\n        feature_vector = np.divide(feature_vector, nwords)\\n\\n    return feature_vector\\n\\ndata[\\'description_word2vec\\'] = data[\\'description\\'].apply(\\n    lambda x: calculate_average_word2vec(x, model, num_features=300)\\n)\\n\\n'"
      ]
     },
     "execution_count": 42,
     "metadata": {},
     "output_type": "execute_result"
    }
   ],
   "source": [
    "from gensim.models import Word2Vec\n",
    "\n",
    "# Chargez le modèle Word2Vec\n",
    "model = Word2Vec.load('word2vec-google-news-300')\n",
    "\n",
    "def calculate_average_word2vec(tokens, model, num_features):\n",
    "    feature_vector = np.zeros((num_features,), dtype=\"float32\")\n",
    "    nwords = 0\n",
    "\n",
    "    for token in tokens:\n",
    "        if token in model.wv:\n",
    "            nwords += 1\n",
    "            feature_vector = np.add(feature_vector, model.wv[token])\n",
    "\n",
    "    if nwords > 0:\n",
    "        feature_vector = np.divide(feature_vector, nwords)\n",
    "\n",
    "    return feature_vector\n",
    "\n",
    "data['description_word2vec'] = data['description'].apply(\n",
    "    lambda x: calculate_average_word2vec(x, model, num_features=300)\n",
    ")\n",
    "\n"
   ]
  },
  {
   "cell_type": "code",
   "execution_count": null,
   "id": "5QaGFpHSoXkg",
   "metadata": {
    "colab": {
     "background_save": true
    },
    "id": "5QaGFpHSoXkg",
    "outputId": "2ab7f617-6bef-4db7-d26b-f784479cd943"
   },
   "outputs": [
    {
     "ename": "AttributeError",
     "evalue": "ignored",
     "output_type": "error",
     "traceback": [
      "\u001b[0;31m---------------------------------------------------------------------------\u001b[0m",
      "\u001b[0;31mAttributeError\u001b[0m                            Traceback (most recent call last)",
      "\u001b[0;32m<ipython-input-45-770cda6dab4d>\u001b[0m in \u001b[0;36m<cell line: 20>\u001b[0;34m()\u001b[0m\n\u001b[1;32m     18\u001b[0m \u001b[0;34m\u001b[0m\u001b[0m\n\u001b[1;32m     19\u001b[0m \u001b[0;34m\u001b[0m\u001b[0m\n\u001b[0;32m---> 20\u001b[0;31m data['description_word2vec'] = data['description'].apply(\n\u001b[0m\u001b[1;32m     21\u001b[0m     \u001b[0;32mlambda\u001b[0m \u001b[0mx\u001b[0m\u001b[0;34m:\u001b[0m \u001b[0mcalculate_average_word2vec\u001b[0m\u001b[0;34m(\u001b[0m\u001b[0mx\u001b[0m\u001b[0;34m,\u001b[0m \u001b[0mmodel\u001b[0m\u001b[0;34m,\u001b[0m \u001b[0mnum_features\u001b[0m\u001b[0;34m=\u001b[0m\u001b[0;36m300\u001b[0m\u001b[0;34m)\u001b[0m\u001b[0;34m\u001b[0m\u001b[0;34m\u001b[0m\u001b[0m\n\u001b[1;32m     22\u001b[0m )\n",
      "\u001b[0;32m/usr/local/lib/python3.10/dist-packages/pandas/core/series.py\u001b[0m in \u001b[0;36mapply\u001b[0;34m(self, func, convert_dtype, args, **kwargs)\u001b[0m\n\u001b[1;32m   4769\u001b[0m         \u001b[0mdtype\u001b[0m\u001b[0;34m:\u001b[0m \u001b[0mfloat64\u001b[0m\u001b[0;34m\u001b[0m\u001b[0;34m\u001b[0m\u001b[0m\n\u001b[1;32m   4770\u001b[0m         \"\"\"\n\u001b[0;32m-> 4771\u001b[0;31m         \u001b[0;32mreturn\u001b[0m \u001b[0mSeriesApply\u001b[0m\u001b[0;34m(\u001b[0m\u001b[0mself\u001b[0m\u001b[0;34m,\u001b[0m \u001b[0mfunc\u001b[0m\u001b[0;34m,\u001b[0m \u001b[0mconvert_dtype\u001b[0m\u001b[0;34m,\u001b[0m \u001b[0margs\u001b[0m\u001b[0;34m,\u001b[0m \u001b[0mkwargs\u001b[0m\u001b[0;34m)\u001b[0m\u001b[0;34m.\u001b[0m\u001b[0mapply\u001b[0m\u001b[0;34m(\u001b[0m\u001b[0;34m)\u001b[0m\u001b[0;34m\u001b[0m\u001b[0;34m\u001b[0m\u001b[0m\n\u001b[0m\u001b[1;32m   4772\u001b[0m \u001b[0;34m\u001b[0m\u001b[0m\n\u001b[1;32m   4773\u001b[0m     def _reduce(\n",
      "\u001b[0;32m/usr/local/lib/python3.10/dist-packages/pandas/core/apply.py\u001b[0m in \u001b[0;36mapply\u001b[0;34m(self)\u001b[0m\n\u001b[1;32m   1121\u001b[0m \u001b[0;34m\u001b[0m\u001b[0m\n\u001b[1;32m   1122\u001b[0m         \u001b[0;31m# self.f is Callable\u001b[0m\u001b[0;34m\u001b[0m\u001b[0;34m\u001b[0m\u001b[0m\n\u001b[0;32m-> 1123\u001b[0;31m         \u001b[0;32mreturn\u001b[0m \u001b[0mself\u001b[0m\u001b[0;34m.\u001b[0m\u001b[0mapply_standard\u001b[0m\u001b[0;34m(\u001b[0m\u001b[0;34m)\u001b[0m\u001b[0;34m\u001b[0m\u001b[0;34m\u001b[0m\u001b[0m\n\u001b[0m\u001b[1;32m   1124\u001b[0m \u001b[0;34m\u001b[0m\u001b[0m\n\u001b[1;32m   1125\u001b[0m     \u001b[0;32mdef\u001b[0m \u001b[0magg\u001b[0m\u001b[0;34m(\u001b[0m\u001b[0mself\u001b[0m\u001b[0;34m)\u001b[0m\u001b[0;34m:\u001b[0m\u001b[0;34m\u001b[0m\u001b[0;34m\u001b[0m\u001b[0m\n",
      "\u001b[0;32m/usr/local/lib/python3.10/dist-packages/pandas/core/apply.py\u001b[0m in \u001b[0;36mapply_standard\u001b[0;34m(self)\u001b[0m\n\u001b[1;32m   1172\u001b[0m             \u001b[0;32melse\u001b[0m\u001b[0;34m:\u001b[0m\u001b[0;34m\u001b[0m\u001b[0;34m\u001b[0m\u001b[0m\n\u001b[1;32m   1173\u001b[0m                 \u001b[0mvalues\u001b[0m \u001b[0;34m=\u001b[0m \u001b[0mobj\u001b[0m\u001b[0;34m.\u001b[0m\u001b[0mastype\u001b[0m\u001b[0;34m(\u001b[0m\u001b[0mobject\u001b[0m\u001b[0;34m)\u001b[0m\u001b[0;34m.\u001b[0m\u001b[0m_values\u001b[0m\u001b[0;34m\u001b[0m\u001b[0;34m\u001b[0m\u001b[0m\n\u001b[0;32m-> 1174\u001b[0;31m                 mapped = lib.map_infer(\n\u001b[0m\u001b[1;32m   1175\u001b[0m                     \u001b[0mvalues\u001b[0m\u001b[0;34m,\u001b[0m\u001b[0;34m\u001b[0m\u001b[0;34m\u001b[0m\u001b[0m\n\u001b[1;32m   1176\u001b[0m                     \u001b[0mf\u001b[0m\u001b[0;34m,\u001b[0m\u001b[0;34m\u001b[0m\u001b[0;34m\u001b[0m\u001b[0m\n",
      "\u001b[0;32m/usr/local/lib/python3.10/dist-packages/pandas/_libs/lib.pyx\u001b[0m in \u001b[0;36mpandas._libs.lib.map_infer\u001b[0;34m()\u001b[0m\n",
      "\u001b[0;32m<ipython-input-45-770cda6dab4d>\u001b[0m in \u001b[0;36m<lambda>\u001b[0;34m(x)\u001b[0m\n\u001b[1;32m     19\u001b[0m \u001b[0;34m\u001b[0m\u001b[0m\n\u001b[1;32m     20\u001b[0m data['description_word2vec'] = data['description'].apply(\n\u001b[0;32m---> 21\u001b[0;31m     \u001b[0;32mlambda\u001b[0m \u001b[0mx\u001b[0m\u001b[0;34m:\u001b[0m \u001b[0mcalculate_average_word2vec\u001b[0m\u001b[0;34m(\u001b[0m\u001b[0mx\u001b[0m\u001b[0;34m,\u001b[0m \u001b[0mmodel\u001b[0m\u001b[0;34m,\u001b[0m \u001b[0mnum_features\u001b[0m\u001b[0;34m=\u001b[0m\u001b[0;36m300\u001b[0m\u001b[0;34m)\u001b[0m\u001b[0;34m\u001b[0m\u001b[0;34m\u001b[0m\u001b[0m\n\u001b[0m\u001b[1;32m     22\u001b[0m )\n\u001b[1;32m     23\u001b[0m \u001b[0;34m\u001b[0m\u001b[0m\n",
      "\u001b[0;32m<ipython-input-45-770cda6dab4d>\u001b[0m in \u001b[0;36mcalculate_average_word2vec\u001b[0;34m(tokens, model, num_features)\u001b[0m\n\u001b[1;32m      8\u001b[0m \u001b[0;34m\u001b[0m\u001b[0m\n\u001b[1;32m      9\u001b[0m     \u001b[0;32mfor\u001b[0m \u001b[0mtoken\u001b[0m \u001b[0;32min\u001b[0m \u001b[0mtokens\u001b[0m\u001b[0;34m:\u001b[0m\u001b[0;34m\u001b[0m\u001b[0;34m\u001b[0m\u001b[0m\n\u001b[0;32m---> 10\u001b[0;31m         \u001b[0;32mif\u001b[0m \u001b[0mtoken\u001b[0m \u001b[0;32min\u001b[0m \u001b[0mmodel\u001b[0m\u001b[0;34m.\u001b[0m\u001b[0mwv\u001b[0m\u001b[0;34m.\u001b[0m\u001b[0mvocab\u001b[0m\u001b[0;34m:\u001b[0m\u001b[0;34m\u001b[0m\u001b[0;34m\u001b[0m\u001b[0m\n\u001b[0m\u001b[1;32m     11\u001b[0m             \u001b[0mnwords\u001b[0m \u001b[0;34m+=\u001b[0m \u001b[0;36m1\u001b[0m\u001b[0;34m\u001b[0m\u001b[0;34m\u001b[0m\u001b[0m\n\u001b[1;32m     12\u001b[0m             \u001b[0mfeature_vector\u001b[0m \u001b[0;34m=\u001b[0m \u001b[0mnp\u001b[0m\u001b[0;34m.\u001b[0m\u001b[0madd\u001b[0m\u001b[0;34m(\u001b[0m\u001b[0mfeature_vector\u001b[0m\u001b[0;34m,\u001b[0m \u001b[0mmodel\u001b[0m\u001b[0;34m[\u001b[0m\u001b[0mtoken\u001b[0m\u001b[0;34m]\u001b[0m\u001b[0;34m)\u001b[0m\u001b[0;34m\u001b[0m\u001b[0;34m\u001b[0m\u001b[0m\n",
      "\u001b[0;31mAttributeError\u001b[0m: 'KeyedVectors' object has no attribute 'wv'"
     ]
    }
   ],
   "source": [
    "from gensim.models import Word2Vec\n",
    "import numpy as np\n",
    "\n",
    "\n",
    "def calculate_average_word2vec(tokens, model, num_features):\n",
    "    feature_vector = np.zeros((num_features,), dtype=\"float32\")\n",
    "    nwords = 0\n",
    "\n",
    "    for token in tokens:\n",
    "        if token in model.wv.vocab:\n",
    "            nwords += 1\n",
    "            feature_vector = np.add(feature_vector, model[token])\n",
    "\n",
    "    if nwords > 0:\n",
    "        feature_vector = np.divide(feature_vector, nwords)\n",
    "\n",
    "    return feature_vector\n",
    "\n",
    "\n",
    "data['description_word2vec'] = data['description'].apply(\n",
    "    lambda x: calculate_average_word2vec(x, model, num_features=300)\n",
    ")\n",
    "\n"
   ]
  },
  {
   "cell_type": "markdown",
   "id": "kSO3YdhejtkM",
   "metadata": {
    "id": "kSO3YdhejtkM",
    "tags": []
   },
   "source": [
    "# Calcul de distances"
   ]
  },
  {
   "cell_type": "markdown",
   "id": "3bk_DphEWW_1",
   "metadata": {
    "id": "3bk_DphEWW_1",
    "tags": []
   },
   "source": [
    "### Cosine distance"
   ]
  },
  {
   "cell_type": "code",
   "execution_count": null,
   "id": "-ewWAsCxyqx4",
   "metadata": {
    "colab": {
     "background_save": true
    },
    "id": "-ewWAsCxyqx4"
   },
   "outputs": [],
   "source": [
    "# data.loc[data['companyName'] == 'Visa Inc.']['vec_tfidf'].iloc[0].toarray()\n",
    "# data"
   ]
  },
  {
   "cell_type": "code",
   "execution_count": 17,
   "id": "54laA5gupfne",
   "metadata": {
    "colab": {
     "background_save": true
    },
    "id": "54laA5gupfne",
    "tags": []
   },
   "outputs": [],
   "source": [
    "from numpy.linalg import norm\n",
    "\n",
    "def euclidean_distance(vec1, vec2):\n",
    "    return norm(vec1 - vec2)"
   ]
  },
  {
   "cell_type": "markdown",
   "id": "NCwYS4c5uVPC",
   "metadata": {
    "id": "NCwYS4c5uVPC"
   },
   "source": [
    "Temps d'execution pour 37 000 entreprises : plante car la RAM est insuffisante (13 gb)"
   ]
  },
  {
   "cell_type": "code",
   "execution_count": 70,
   "id": "_AHkd2SWyEIg",
   "metadata": {
    "colab": {
     "background_save": true
    },
    "id": "_AHkd2SWyEIg",
    "tags": []
   },
   "outputs": [],
   "source": [
    "from sklearn.metrics.pairwise import cosine_similarity\n",
    "import pandas as pd\n",
    "import numpy as np\n",
    "\n",
    "def find_similar_companies(target_company, df, vector_column='vec_tfidf', n=5, similarity='cosine'):\n",
    "\n",
    "    df[vector_column] = df[vector_column].apply(lambda x: x.toarray()[0])\n",
    "    target_vector = df.loc[df['companyName'] == target_company][vector_column]\n",
    "\n",
    "    if target_vector.shape[0]>0:\n",
    "      target_vector = target_vector.iloc[0]\n",
    "    else:\n",
    "      print(\"Vérifier le nom de l'entreprise.\")\n",
    "      return -1\n",
    "\n",
    "    if similarity == 'cosine':\n",
    "      similarities = cosine_similarity([target_vector], list(df[vector_column]))\n",
    "      similar_companies = pd.DataFrame({'companyName': df['companyName'], 'Similarity': similarities[0], 'country': df['country']})\n",
    "      similar_companies = similar_companies.sort_values(by='Similarity', ascending=False)\n",
    "      # similar_companies = similar_companies.loc[similar_companies['companyName'] != target_company].head(n)\n",
    "\n",
    "    if similarity == 'euclidean':\n",
    "      distances = df[vector_column].apply(lambda x: euclidean_distance(target_vector, x))\n",
    "      similar_companies = pd.DataFrame({'companyName': df['companyName'], 'Distance': 1/(0.0001+distances), 'country': df['country']})\n",
    "      similar_companies = similar_companies.sort_values(by='Distance', ascending=True)\n",
    "\n",
    "\n",
    "    return similar_companies.head(n)\n",
    "\n",
    "# result_tfidf = find_similar_companies(\"Visa Inc.\", data.copy(), 'vec_tfidf', n=5, similarity='cosine')\n",
    "# print(result_tfidf)\n",
    "\n"
   ]
  },
  {
   "cell_type": "code",
   "execution_count": null,
   "id": "xptIW6vWZqCH",
   "metadata": {
    "colab": {
     "background_save": true
    },
    "id": "xptIW6vWZqCH"
   },
   "outputs": [],
   "source": [
    "# def from_token_to_ranking(name=\"Visa Inc.\"):\n",
    "#   \"\"\"\n",
    "#   fonction de test uniquement, il ne faut pas load le csv comme cela, car il y a des traitements à faire dessus.\n",
    "#   \"\"\"\n",
    "\n",
    "#   df = pd.read_csv(\"/content/drive/MyDrive/S9/DDEFI/Projet_DDEFI/code/data_tokenized.csv\")\n",
    "#   df.drop(columns='Unnamed: 0', inplace=True)\n",
    "#   df=df.iloc[:10]\n",
    "\n",
    "#   df = build_tfidf(df)\n",
    "\n",
    "#   result_tfidf = find_similar_companies(name, df, 'vec_tfidf', n=20)\n",
    "#   return result_tfidf\n",
    "\n",
    "# # from_token_to_ranking(\"Visa Inc.\")\n",
    "# from_token_to_ranking(\"Texas Roadhouse, Inc.\")\n",
    "# #from_token_to_ranking(\"Lamb Weston Holdings, Inc.\")\n",
    "# #from_token_to_ranking(\"Ferroglobe PLC\")"
   ]
  },
  {
   "cell_type": "markdown",
   "id": "35io1WD2O9n3",
   "metadata": {
    "id": "35io1WD2O9n3"
   },
   "source": [
    "# GPD per Capita bis (world bank)"
   ]
  },
  {
   "cell_type": "code",
   "execution_count": 71,
   "id": "HupvWEW6t5lB",
   "metadata": {
    "executionInfo": {
     "elapsed": 461,
     "status": "ok",
     "timestamp": 1699466236664,
     "user": {
      "displayName": "Romain MARLET",
      "userId": "18112648248908016912"
     },
     "user_tz": -60
    },
    "id": "HupvWEW6t5lB",
    "tags": []
   },
   "outputs": [],
   "source": [
    "dict_mapping_name_abb = {\n",
    "    'Aruba': 'AW',\n",
    "    'Afghanistan': 'AF',\n",
    "    'Angola': 'AO',\n",
    "    'Albania': 'AL',\n",
    "    'Andorra': 'AD',\n",
    "    'United Arab Emirates': 'AE',\n",
    "    'Argentina': 'AR',\n",
    "    'Armenia': 'AM',\n",
    "    'American Samoa': 'AS',\n",
    "    'Antigua and Barbuda': 'AG',\n",
    "    'Australia': 'AU',\n",
    "    'Austria': 'AT',\n",
    "    'Azerbaijan': 'AZ',\n",
    "    'Burundi': 'BI',\n",
    "    'Belgium': 'BE',\n",
    "    'Benin': 'BJ',\n",
    "    'Burkina Faso': 'BF',\n",
    "    'Bangladesh': 'BD',\n",
    "    'Bulgaria': 'BG',\n",
    "    'Bahrain': 'BH',\n",
    "    'Bahamas, The': 'BS',\n",
    "    'Bosnia and Herzegovina': 'BA',\n",
    "    'Belarus': 'BY',\n",
    "    'Belize': 'BZ',\n",
    "    'Bermuda': 'BM',\n",
    "    'Bolivia': 'BO',\n",
    "    'Brazil': 'BR',\n",
    "    'Barbados': 'BB',\n",
    "    'Brunei Darussalam': 'BN',\n",
    "    'Bhutan': 'BT',\n",
    "    'Botswana': 'BW',\n",
    "    'Central African Republic': 'CF',\n",
    "    'Canada': 'CA',\n",
    "    'Switzerland': 'CH',\n",
    "    'Channel Islands': 'XK',\n",
    "    'Chile': 'CL',\n",
    "    'China': 'CN',\n",
    "    \"Cote d'Ivoire\": 'CI',\n",
    "    'Cameroon': 'CM',\n",
    "    'Congo, Dem. Rep.': 'CD',\n",
    "    'Congo, Rep.': 'CG',\n",
    "    'Colombia': 'CO',\n",
    "    'Comoros': 'KM',\n",
    "    'Cabo Verde': 'CV',\n",
    "    'Costa Rica': 'CR',\n",
    "    'Cuba': 'CU',\n",
    "    'Curacao': 'CW',\n",
    "    'Cayman Islands': 'KY',\n",
    "    'Cyprus': 'CY',\n",
    "    'Czechia': 'CZ',\n",
    "    'Germany': 'DE',\n",
    "    'Djibouti': 'DJ',\n",
    "    'Dominica': 'DM',\n",
    "    'Denmark': 'DK',\n",
    "    'Dominican Republic': 'DO',\n",
    "    'Algeria': 'DZ',\n",
    "    'Ecuador': 'EC',\n",
    "    'Egypt, Arab Rep.': 'EG',\n",
    "    'Eritrea': 'ER',\n",
    "    'Spain': 'ES',\n",
    "    'Estonia': 'EE',\n",
    "    'Ethiopia': 'ET',\n",
    "    'Finland': 'FI',\n",
    "    'Fiji': 'FJ',\n",
    "    'France': 'FR',\n",
    "    'Faroe Islands': 'FO',\n",
    "    'Micronesia, Fed. Sts.': 'FM',\n",
    "    'Gabon': 'GA',\n",
    "    'United Kingdom': 'UK',\n",
    "    'Georgia': 'GE',\n",
    "    'Ghana': 'GH',\n",
    "    'Gibraltar': 'GI',\n",
    "    'Guinea': 'GN',\n",
    "    'Gambia, The': 'GM',\n",
    "    'Guinea-Bissau': 'GW',\n",
    "    'Equatorial Guinea': 'GQ',\n",
    "    'Greece': 'GR',\n",
    "    'Grenada': 'GD',\n",
    "    'Greenland': 'GL',\n",
    "    'Guatemala': 'GT',\n",
    "    'Guam': 'GU',\n",
    "    'Guyana': 'GY',\n",
    "    'Hong Kong SAR, China': 'HK',\n",
    "    'Honduras': 'HN',\n",
    "    'Croatia': 'HR',\n",
    "    'Haiti': 'HT',\n",
    "    'Hungary': 'HU',\n",
    "    'Indonesia': 'ID',\n",
    "    'Isle of Man': 'IM',\n",
    "    'India': 'IN',\n",
    "    'Ireland': 'IE',\n",
    "    'Iran, Islamic Rep.': 'IR',\n",
    "    'Iraq': 'IQ',\n",
    "    'Iceland': 'IS',\n",
    "    'Israel': 'IL',\n",
    "    'Italy': 'IT',\n",
    "    'Jamaica': 'JM',\n",
    "    'Jordan': 'JO',\n",
    "    'Japan': 'JP',\n",
    "    'Kazakhstan': 'KZ',\n",
    "    'Kenya': 'KE',\n",
    "    'Kyrgyz Republic': 'KG',\n",
    "    'Cambodia': 'KH',\n",
    "    'Kiribati': 'KI',\n",
    "    'St. Kitts and Nevis': 'KN',\n",
    "    'Korea, Rep.': 'KR',\n",
    "    'Kuwait': 'KW',\n",
    "    'Lao PDR': 'LA',\n",
    "    'Lebanon': 'LB',\n",
    "    'Liberia': 'LR',\n",
    "    'Libya': 'LY',\n",
    "    'St. Lucia': 'LC',\n",
    "    'Liechtenstein': 'LI',\n",
    "    'Sri Lanka': 'LK',\n",
    "    'Lesotho': 'LS',\n",
    "    'Lithuania': 'LT',\n",
    "    'Luxembourg': 'LU',\n",
    "    'Latvia': 'LV',\n",
    "    'Macao SAR, China': 'MO',\n",
    "    'St. Martin (French part)': 'MF',\n",
    "    'Morocco': 'MA',\n",
    "    'Monaco': 'MC',\n",
    "    'Moldova': 'MD',\n",
    "    'Madagascar': 'MG',\n",
    "    'Maldives': 'MV',\n",
    "    'Mexico': 'MX',\n",
    "    'Marshall Islands': 'MH',\n",
    "    'North Macedonia': 'MK',\n",
    "    'Mali': 'ML',\n",
    "    'Malta': 'MT',\n",
    "    'Myanmar': 'MM',\n",
    "    'Montenegro': 'ME',\n",
    "    'Mongolia': 'MN',\n",
    "    'Northern Mariana Islands': 'MP',\n",
    "    'Mozambique': 'MZ',\n",
    "    'Mauritania': 'MR',\n",
    "    'Mauritius': 'MU',\n",
    "    'Malawi': 'MW',\n",
    "    'Malaysia': 'MY',\n",
    "    'Namibia': 'NA',\n",
    "    'New Caledonia': 'NC',\n",
    "    'Niger': 'NE',\n",
    "    'Nigeria': 'NG',\n",
    "    'Nicaragua': 'NI',\n",
    "    'Netherlands': 'NL',\n",
    "    'Norway': 'NO',\n",
    "    'Nepal': 'NP',\n",
    "    'Nauru': 'NR',\n",
    "    'New Zealand': 'NZ',\n",
    "    'Oman': 'OM',\n",
    "    'Pakistan': 'PK',\n",
    "    'Panama': 'PA',\n",
    "    'Peru': 'PE',\n",
    "    'Philippines': 'PH',\n",
    "    'Palau': 'PW',\n",
    "    'Papua New Guinea': 'PG',\n",
    "    'Poland': 'PL',\n",
    "    'Puerto Rico': 'PR',\n",
    "    \"Korea, Dem. People's Rep.\": 'KP',\n",
    "    'Portugal': 'PT',\n",
    "    'Paraguay': 'PY',\n",
    "    'West Bank and Gaza': 'PS',\n",
    "    'French Polynesia': 'PF',\n",
    "    'Qatar': 'QA',\n",
    "    'Romania': 'RO',\n",
    "    'Russian Federation': 'RU',\n",
    "    'Rwanda': 'RW',\n",
    "    'Saudi Arabia': 'SA',\n",
    "    'Sudan': 'SD',\n",
    "    'Senegal': 'SN',\n",
    "    'Singapore': 'SG',\n",
    "    'Solomon Islands': 'SB',\n",
    "    'Sierra Leone': 'SL',\n",
    "    'El Salvador': 'SV',\n",
    "    'San Marino': 'SM',\n",
    "    'Somalia': 'SO',\n",
    "    'Serbia': 'RS',\n",
    "    'South Sudan': 'SS',\n",
    "    'Sao Tome and Principe': 'ST',\n",
    "    'Suriname': 'SR',\n",
    "    'Slovak Republic': 'SK',\n",
    "    'Slovenia': 'SI',\n",
    "    'Sweden': 'SE',\n",
    "    'Eswatini': 'SZ',\n",
    "    'Sint Maarten (Dutch part)': 'SX',\n",
    "    'Seychelles': 'SC',\n",
    "    'Syrian Arab Republic': 'SY',\n",
    "    'Turks and Caicos Islands': 'TC',\n",
    "    'Chad': 'TD',\n",
    "    'Togo': 'TG',\n",
    "    'Thailand': 'TH',\n",
    "    'Tajikistan': 'TJ',\n",
    "    'Turkmenistan': 'TM',\n",
    "    'Timor-Leste': 'TL',\n",
    "    'Tonga': 'TO',\n",
    "    'Trinidad and Tobago': 'TT',\n",
    "    'Tunisia': 'TN',\n",
    "    'Turkiye': 'TR',\n",
    "    'Tuvalu': 'TV',\n",
    "    'Tanzania': 'TZ',\n",
    "    'Uganda': 'UG',\n",
    "    'Ukraine': 'UA',\n",
    "    'Uruguay': 'UY',\n",
    "    'United States': 'US',\n",
    "    'Uzbekistan': 'UZ',\n",
    "    'St. Vincent and the Grenadines': 'VC',\n",
    "    'Venezuela, RB': 'VE',\n",
    "    'British Virgin Islands': 'VG',\n",
    "    'Virgin Islands (U.S.)': 'VI',\n",
    "    'Vietnam': 'VN',\n",
    "    'Vanuatu': 'VU',\n",
    "    'Samoa': 'WS',\n",
    "    'Kosovo': 'XK',\n",
    "    'Yemen, Rep.': 'YE',\n",
    "    'South Africa': 'ZA',\n",
    "    'Zambia': 'ZM',\n",
    "    'Zimbabwe': 'ZW'\n",
    "}"
   ]
  },
  {
   "cell_type": "code",
   "execution_count": 72,
   "id": "619ecff0-4dc3-4fa8-9e01-46ba96be9029",
   "metadata": {
    "tags": []
   },
   "outputs": [],
   "source": [
    "def build_GDP_similarity_matrix():\n",
    "    file_path = \"../Data/GDP per capita (current US$).csv\"\n",
    "    data_GDP = pd.read_csv(file_path)\n",
    "    data_GDP = data_GDP.rename(columns={'GDP per capita (current US$)':'GDPpc'})\n",
    "    data_GDP = data_GDP.drop(columns={'Economy Code', 'Year'})\n",
    "    data_GDP = data_GDP.drop(data_GDP[data_GDP['Economy'].isin(['Eritrea', \"Korea, Dem. People's Rep.\"])].index)\n",
    "    data_GDP['Economy'] = data_GDP['Economy'].map(dict_mapping_name_abb)\n",
    "    \n",
    "    gdp_array = data_GDP['GDPpc'].values\n",
    "    num_pays = len(gdp_array)\n",
    "    similarity_matrix = np.zeros((num_pays, num_pays))\n",
    "\n",
    "    for i in range(num_pays):\n",
    "        for j in range(num_pays):\n",
    "            distance = (np.abs(gdp_array[i] - gdp_array[j])) / (gdp_array[i]+gdp_array[j])\n",
    "            similarity_matrix[i][j] = 1/(1+distance)\n",
    "\n",
    "    similarity_matrix = pd.DataFrame(similarity_matrix, index=data_GDP['Economy'], columns=data_GDP['Economy'])\n",
    "\n",
    "    return similarity_matrix\n",
    "\n",
    "GDP_similarity_matrix = build_GDP_similarity_matrix()"
   ]
  },
  {
   "cell_type": "markdown",
   "id": "d962f483-a59e-41c0-89ec-cc7b4255619e",
   "metadata": {
    "tags": []
   },
   "source": [
    "# liste de keywords"
   ]
  },
  {
   "cell_type": "markdown",
   "id": "9a429a7e-0944-44bf-a27e-d3d5b5feea10",
   "metadata": {},
   "source": [
    "- problème du stemming : on propose des stemming ou des tokens entiers ?"
   ]
  },
  {
   "cell_type": "code",
   "execution_count": 90,
   "id": "btoa-p-yUGk4",
   "metadata": {
    "colab": {
     "background_save": true
    },
    "id": "btoa-p-yUGk4",
    "tags": []
   },
   "outputs": [],
   "source": [
    "all_tokens = df_full['description'].explode().tolist() # Concaténation des listes de tokens\n",
    "unique_tokens = set(all_tokens) # Création du pool de tokens uniques\n",
    "token_counts = pd.Series(all_tokens).value_counts() # Calcul du dénombrement de chaque token"
   ]
  },
  {
   "cell_type": "code",
   "execution_count": 157,
   "id": "1530c807-d551-4ac0-a681-f1efd15822df",
   "metadata": {
    "tags": []
   },
   "outputs": [
    {
     "data": {
      "text/plain": [
       "85.56162316607275"
      ]
     },
     "execution_count": 157,
     "metadata": {},
     "output_type": "execute_result"
    }
   ],
   "source": [
    "len(all_tokens)/df_full.shape[0]  # il y a ne moyenne 85 mots par description"
   ]
  },
  {
   "cell_type": "code",
   "execution_count": 213,
   "id": "854d3df2-d6a2-40b8-bdc6-876553dd5a37",
   "metadata": {
    "tags": []
   },
   "outputs": [
    {
     "data": {
      "text/plain": [
       "56.4085190535757"
      ]
     },
     "execution_count": 213,
     "metadata": {},
     "output_type": "execute_result"
    }
   ],
   "source": [
    "token_counts.quantile(0.9999)/df_full.shape[0]*100 # on ne prend que les mots qui apparaissent en moyenne moins de 56% du temps"
   ]
  },
  {
   "cell_type": "code",
   "execution_count": 210,
   "id": "31a85f37-e6f3-4481-9b84-c7bc08e91655",
   "metadata": {
    "tags": []
   },
   "outputs": [
    {
     "data": {
      "text/plain": [
       "0.006420751870043982"
      ]
     },
     "execution_count": 210,
     "metadata": {},
     "output_type": "execute_result"
    }
   ],
   "source": [
    "token_counts.quantile(0.7)/df_full.shape[0]*100 # on ne prend que les mots qui apparaissent en moyenne plus de 0.08% du temps"
   ]
  },
  {
   "cell_type": "code",
   "execution_count": 214,
   "id": "510babe3-9d79-4d17-b70f-30f4ed19819a",
   "metadata": {
    "tags": []
   },
   "outputs": [],
   "source": [
    "list_keywords = list(token_counts[(token_counts.quantile(0.7)<=token_counts)&(token_counts<=token_counts.quantile(0.9999))].index)"
   ]
  },
  {
   "cell_type": "markdown",
   "id": "xswyAzgOTjUZ",
   "metadata": {
    "id": "xswyAzgOTjUZ",
    "tags": []
   },
   "source": [
    "# filtrage par secteur et keywords"
   ]
  },
  {
   "cell_type": "markdown",
   "id": "062a2ece-5d9a-47f2-a31d-86152d717293",
   "metadata": {},
   "source": [
    "- Comment appliquer un stemming sur les keywords tout en proposant les mots en entier ?\n",
    "- problème de filtrage : diagram de Venn ET/OU ??\n",
    "- faire une liste de keyword en triant les tokens de descirption par fréquence d'apparition\n",
    "- une fois qu'on a fait la liste des keywords possibles à partir du dataframe, demander à chatgpt si les keywors peuvent aussi correspondre à d'autres entreprises (dans le cas ou une description est trop pauvre en mots)"
   ]
  },
  {
   "cell_type": "code",
   "execution_count": 255,
   "id": "d3b73a0b-2412-4c4a-94a0-a6a87ab0f0cb",
   "metadata": {
    "tags": []
   },
   "outputs": [],
   "source": [
    "THRESHOLD_SIZE_FINAL_GROUP=1000  # taille du groupe que l'on veut avoir pour commencer l'analyse avec les données financières"
   ]
  },
  {
   "cell_type": "code",
   "execution_count": 178,
   "id": "c4eed158-c55d-45d0-a73b-aec87ecae2f4",
   "metadata": {
    "tags": []
   },
   "outputs": [],
   "source": [
    "data = load_preprocess_data_tokenized()\n",
    "data = build_tfidf(data)\n",
    "df=data.copy()[:100]"
   ]
  },
  {
   "cell_type": "code",
   "execution_count": 179,
   "id": "5a8d2129-1f94-44a1-9e70-eeb1f0012a4f",
   "metadata": {
    "tags": []
   },
   "outputs": [],
   "source": [
    "df_full = data.copy()"
   ]
  },
  {
   "cell_type": "markdown",
   "id": "8cb5609e-4298-4ef7-b826-535f7930202b",
   "metadata": {},
   "source": [
    "## Filtrage secteur"
   ]
  },
  {
   "cell_type": "code",
   "execution_count": 180,
   "id": "dba01a61-f40f-42a4-99af-298fe570c314",
   "metadata": {
    "tags": []
   },
   "outputs": [
    {
     "data": {
      "text/html": [
       "<div>\n",
       "<style scoped>\n",
       "    .dataframe tbody tr th:only-of-type {\n",
       "        vertical-align: middle;\n",
       "    }\n",
       "\n",
       "    .dataframe tbody tr th {\n",
       "        vertical-align: top;\n",
       "    }\n",
       "\n",
       "    .dataframe thead th {\n",
       "        text-align: right;\n",
       "    }\n",
       "</style>\n",
       "<table border=\"1\" class=\"dataframe\">\n",
       "  <thead>\n",
       "    <tr style=\"text-align: right;\">\n",
       "      <th></th>\n",
       "      <th>companyName</th>\n",
       "      <th>industry</th>\n",
       "      <th>description</th>\n",
       "      <th>sector</th>\n",
       "      <th>country</th>\n",
       "      <th>vec_tfidf</th>\n",
       "    </tr>\n",
       "  </thead>\n",
       "  <tbody>\n",
       "    <tr>\n",
       "      <th>0</th>\n",
       "      <td>Visa Inc.</td>\n",
       "      <td>Credit Services</td>\n",
       "      <td>[visa, inc., oper, payment, technolog, compani...</td>\n",
       "      <td>Financial Services</td>\n",
       "      <td>US</td>\n",
       "      <td>(0, 69507)\\t0.04329421873343035\\n  (0, 28536...</td>\n",
       "    </tr>\n",
       "    <tr>\n",
       "      <th>1</th>\n",
       "      <td>Texas Roadhouse, Inc.</td>\n",
       "      <td>Restaurants</td>\n",
       "      <td>[texa, roadhous, inc., togeth, subsidiari, ope...</td>\n",
       "      <td>Consumer Cyclical</td>\n",
       "      <td>US</td>\n",
       "      <td>(0, 20183)\\t0.06172506483002616\\n  (0, 18440...</td>\n",
       "    </tr>\n",
       "    <tr>\n",
       "      <th>2</th>\n",
       "      <td>Lamb Weston Holdings, Inc.</td>\n",
       "      <td>Packaged Foods</td>\n",
       "      <td>[lamb, weston, hold, inc., produc, distribut, ...</td>\n",
       "      <td>Consumer Defensive</td>\n",
       "      <td>US</td>\n",
       "      <td>(0, 21254)\\t0.06293066474975732\\n  (0, 24134...</td>\n",
       "    </tr>\n",
       "    <tr>\n",
       "      <th>3</th>\n",
       "      <td>Intact Financial Corporation</td>\n",
       "      <td>Insurance—Property &amp; Casualty</td>\n",
       "      <td>[intact, financi, corpor, subsidiari, provid, ...</td>\n",
       "      <td>Financial Services</td>\n",
       "      <td>CA</td>\n",
       "      <td>(0, 13404)\\t0.03851612061606596\\n  (0, 78417...</td>\n",
       "    </tr>\n",
       "    <tr>\n",
       "      <th>4</th>\n",
       "      <td>OPKO Health, Inc.</td>\n",
       "      <td>Diagnostics &amp; Research</td>\n",
       "      <td>[opko, health, inc., healthcar, compani, engag...</td>\n",
       "      <td>Healthcare</td>\n",
       "      <td>US</td>\n",
       "      <td>(0, 34610)\\t0.03688475698854317\\n  (0, 29088...</td>\n",
       "    </tr>\n",
       "    <tr>\n",
       "      <th>...</th>\n",
       "      <td>...</td>\n",
       "      <td>...</td>\n",
       "      <td>...</td>\n",
       "      <td>...</td>\n",
       "      <td>...</td>\n",
       "      <td>...</td>\n",
       "    </tr>\n",
       "    <tr>\n",
       "      <th>37577</th>\n",
       "      <td>Global Brokerage, Inc.</td>\n",
       "      <td>Financial Data &amp; Stock Exchanges</td>\n",
       "      <td>[global, brokerag, inc., subsidiari, provid, o...</td>\n",
       "      <td>Financial Services</td>\n",
       "      <td>US</td>\n",
       "      <td>(0, 30460)\\t0.1793094610567329\\n  (0, 22281)...</td>\n",
       "    </tr>\n",
       "    <tr>\n",
       "      <th>37580</th>\n",
       "      <td>Prima Industrie SpA</td>\n",
       "      <td>Specialty Industrial Machinery</td>\n",
       "      <td>[prima, industri, spa, develop, manufactur, ma...</td>\n",
       "      <td>Industrials</td>\n",
       "      <td>IT</td>\n",
       "      <td>(0, 17803)\\t0.10854261371782986\\n  (0, 62937...</td>\n",
       "    </tr>\n",
       "    <tr>\n",
       "      <th>37581</th>\n",
       "      <td>PT Putra Rajawali Kencana Tbk</td>\n",
       "      <td>Trucking</td>\n",
       "      <td>[pt, putra, rajawali, kencana, tbk, engag, tra...</td>\n",
       "      <td>Industrials</td>\n",
       "      <td>ID</td>\n",
       "      <td>(0, 64075)\\t0.18442821739381648\\n  (0, 42205...</td>\n",
       "    </tr>\n",
       "    <tr>\n",
       "      <th>37582</th>\n",
       "      <td>Agritek Holdings, Inc.</td>\n",
       "      <td>Real Estate Services</td>\n",
       "      <td>[agritek, hold, inc., distribut, hemp, cannabi...</td>\n",
       "      <td>Real Estate</td>\n",
       "      <td>US</td>\n",
       "      <td>(0, 49001)\\t0.1490741453938388\\n  (0, 34947)...</td>\n",
       "    </tr>\n",
       "    <tr>\n",
       "      <th>37583</th>\n",
       "      <td>Viewtran Group, Inc.</td>\n",
       "      <td>Credit Services</td>\n",
       "      <td>[viewtran, group, inc., provid, suppli, chain,...</td>\n",
       "      <td>Financial Services</td>\n",
       "      <td>CN</td>\n",
       "      <td>(0, 17685)\\t0.24973667360982638\\n  (0, 82298...</td>\n",
       "    </tr>\n",
       "  </tbody>\n",
       "</table>\n",
       "<p>31149 rows × 6 columns</p>\n",
       "</div>"
      ],
      "text/plain": [
       "                         companyName                          industry  \\\n",
       "0                          Visa Inc.                   Credit Services   \n",
       "1              Texas Roadhouse, Inc.                       Restaurants   \n",
       "2         Lamb Weston Holdings, Inc.                    Packaged Foods   \n",
       "3       Intact Financial Corporation     Insurance—Property & Casualty   \n",
       "4                  OPKO Health, Inc.            Diagnostics & Research   \n",
       "...                              ...                               ...   \n",
       "37577         Global Brokerage, Inc.  Financial Data & Stock Exchanges   \n",
       "37580            Prima Industrie SpA    Specialty Industrial Machinery   \n",
       "37581  PT Putra Rajawali Kencana Tbk                          Trucking   \n",
       "37582         Agritek Holdings, Inc.              Real Estate Services   \n",
       "37583           Viewtran Group, Inc.                   Credit Services   \n",
       "\n",
       "                                             description              sector  \\\n",
       "0      [visa, inc., oper, payment, technolog, compani...  Financial Services   \n",
       "1      [texa, roadhous, inc., togeth, subsidiari, ope...   Consumer Cyclical   \n",
       "2      [lamb, weston, hold, inc., produc, distribut, ...  Consumer Defensive   \n",
       "3      [intact, financi, corpor, subsidiari, provid, ...  Financial Services   \n",
       "4      [opko, health, inc., healthcar, compani, engag...          Healthcare   \n",
       "...                                                  ...                 ...   \n",
       "37577  [global, brokerag, inc., subsidiari, provid, o...  Financial Services   \n",
       "37580  [prima, industri, spa, develop, manufactur, ma...         Industrials   \n",
       "37581  [pt, putra, rajawali, kencana, tbk, engag, tra...         Industrials   \n",
       "37582  [agritek, hold, inc., distribut, hemp, cannabi...         Real Estate   \n",
       "37583  [viewtran, group, inc., provid, suppli, chain,...  Financial Services   \n",
       "\n",
       "      country                                          vec_tfidf  \n",
       "0          US    (0, 69507)\\t0.04329421873343035\\n  (0, 28536...  \n",
       "1          US    (0, 20183)\\t0.06172506483002616\\n  (0, 18440...  \n",
       "2          US    (0, 21254)\\t0.06293066474975732\\n  (0, 24134...  \n",
       "3          CA    (0, 13404)\\t0.03851612061606596\\n  (0, 78417...  \n",
       "4          US    (0, 34610)\\t0.03688475698854317\\n  (0, 29088...  \n",
       "...       ...                                                ...  \n",
       "37577      US    (0, 30460)\\t0.1793094610567329\\n  (0, 22281)...  \n",
       "37580      IT    (0, 17803)\\t0.10854261371782986\\n  (0, 62937...  \n",
       "37581      ID    (0, 64075)\\t0.18442821739381648\\n  (0, 42205...  \n",
       "37582      US    (0, 49001)\\t0.1490741453938388\\n  (0, 34947)...  \n",
       "37583      CN    (0, 17685)\\t0.24973667360982638\\n  (0, 82298...  \n",
       "\n",
       "[31149 rows x 6 columns]"
      ]
     },
     "execution_count": 180,
     "metadata": {},
     "output_type": "execute_result"
    }
   ],
   "source": [
    "df_full"
   ]
  },
  {
   "cell_type": "code",
   "execution_count": 239,
   "id": "900a86d6-1fc1-4cd7-bbe7-834651f26b4f",
   "metadata": {
    "tags": []
   },
   "outputs": [],
   "source": [
    "def reduce_df_size(df, sector, list_keywords): \n",
    "    \"\"\"\n",
    "    retourne df filtré qui contient 2 partie : \n",
    "        - les entreprises du même secteur\n",
    "        - les entreprises des autres secteurs qui contiennent tous les keywords (condition 'AND')\n",
    "        \n",
    "    il est important que les keywords dans la liste soient du plus important au moins important\n",
    "    \"\"\"\n",
    "    \n",
    "    df = df.copy()\n",
    "    list_keywords = list_keywords.copy()\n",
    "    filtered_df = df[df.sector==sector] # on ajoute directement les entrerises du même secteur\n",
    "\n",
    "\n",
    "    # on ajoute les entreprises qui vérifient tous les keywords et qui font partie des autres secteurs\n",
    "    df_other_sectors = df.loc[df['sector'] != sector].copy()\n",
    "    \n",
    "    print('1', filtered_df.shape)\n",
    "\n",
    "    # cmt=0\n",
    "    for keyword in list_keywords:\n",
    "        # cmt+=1\n",
    "        # print(cmt)\n",
    "        \n",
    "        \"on ajoute les entreprises des autres secteurs qui vérifient tous les keywords : ON AUGMENTE LA ZONE DE RECHERCHE\"\n",
    "        filtered_df = pd.concat([filtered_df, filter_on_keyword(df_other_sectors, keyword)])\n",
    "\n",
    "    print('2', filtered_df.shape)\n",
    "    \n",
    "    while filtered_df.shape[0]>THRESHOLD_SIZE_FINAL_GROUP:\n",
    "        \"ON DIMINUE LA ZONE DE RECHERCHE : si le df est trop grand, on réduit la taille avec un filtrage conjonctif 'condition 'AND'\"\n",
    "        if len(list_keywords)==0:\n",
    "            new_keyword = input(\"Il n'y a pas assez de keyword pour réduire la zone de recherche (TAILLE ZONE = {}/TAILLE MAX = {}), veuillez en ajouter un : \".format(filtered_df.shape[0], THRESHOLD_SIZE_FINAL_GROUP))\n",
    "            list_keywords.append(new_keyword)\n",
    "        keyword = list_keywords.pop(0)\n",
    "        filtered_df = filter_on_keyword(filtered_df, keyword)\n",
    "        \n",
    "    print('3', filtered_df.shape)\n",
    "\n",
    "    return filtered_df\n",
    "\n",
    "\n",
    "\n",
    "def filter_on_keyword(df, keyword):\n",
    "    resultat = df[df['description'].apply(lambda x: keyword in x)]\n",
    "    return resultat"
   ]
  },
  {
   "cell_type": "code",
   "execution_count": 243,
   "id": "02c479ad-6c27-42b7-bf26-d1ef5d60125d",
   "metadata": {
    "tags": []
   },
   "outputs": [
    {
     "data": {
      "text/plain": [
       "array(['Financial Services', 'Consumer Cyclical', 'Consumer Defensive',\n",
       "       'Healthcare', 'Basic Materials', 'Technology', 'Energy',\n",
       "       'Utilities', 'Industrials', 'Communication Services',\n",
       "       'Real Estate', nan], dtype=object)"
      ]
     },
     "execution_count": 243,
     "metadata": {},
     "output_type": "execute_result"
    }
   ],
   "source": [
    "df_full.sector.unique()"
   ]
  },
  {
   "cell_type": "code",
   "execution_count": 257,
   "id": "ca748212-856e-4fff-b44c-5f60376cb6cb",
   "metadata": {
    "tags": []
   },
   "outputs": [
    {
     "name": "stdout",
     "output_type": "stream",
     "text": [
      "1 (5293, 6)\n",
      "2 (7356, 6)\n",
      "3 (640, 6)\n"
     ]
    },
    {
     "data": {
      "text/html": [
       "<div>\n",
       "<style scoped>\n",
       "    .dataframe tbody tr th:only-of-type {\n",
       "        vertical-align: middle;\n",
       "    }\n",
       "\n",
       "    .dataframe tbody tr th {\n",
       "        vertical-align: top;\n",
       "    }\n",
       "\n",
       "    .dataframe thead th {\n",
       "        text-align: right;\n",
       "    }\n",
       "</style>\n",
       "<table border=\"1\" class=\"dataframe\">\n",
       "  <thead>\n",
       "    <tr style=\"text-align: right;\">\n",
       "      <th></th>\n",
       "      <th>companyName</th>\n",
       "      <th>industry</th>\n",
       "      <th>description</th>\n",
       "      <th>sector</th>\n",
       "      <th>country</th>\n",
       "      <th>vec_tfidf</th>\n",
       "    </tr>\n",
       "  </thead>\n",
       "  <tbody>\n",
       "    <tr>\n",
       "      <th>18</th>\n",
       "      <td>Xcel Energy Inc.</td>\n",
       "      <td>Utilities—Regulated Electric</td>\n",
       "      <td>[xcel, energi, inc., subsidiari, generat, purc...</td>\n",
       "      <td>Utilities</td>\n",
       "      <td>US</td>\n",
       "      <td>(0, 81195)\\t0.0761761948764454\\n  (0, 50486)...</td>\n",
       "    </tr>\n",
       "    <tr>\n",
       "      <th>45</th>\n",
       "      <td>PG&amp;E Corporation</td>\n",
       "      <td>Utilities—Regulated Electric</td>\n",
       "      <td>[pg, e, corpor, subsidiari, pacif, gas, electr...</td>\n",
       "      <td>Utilities</td>\n",
       "      <td>US</td>\n",
       "      <td>(0, 702)\\t0.11030611729742826\\n  (0, 3964)\\t...</td>\n",
       "    </tr>\n",
       "    <tr>\n",
       "      <th>59</th>\n",
       "      <td>American Electric Power Company, Inc.</td>\n",
       "      <td>Utilities—Regulated Electric</td>\n",
       "      <td>[american, electr, power, compani, inc., elect...</td>\n",
       "      <td>Utilities</td>\n",
       "      <td>US</td>\n",
       "      <td>(0, 17895)\\t0.14865691524689953\\n  (0, 703)\\...</td>\n",
       "    </tr>\n",
       "    <tr>\n",
       "      <th>61</th>\n",
       "      <td>Emera Incorporated</td>\n",
       "      <td>Utilities—Regulated Electric</td>\n",
       "      <td>[emera, incorpor, energi, servic, compani, sub...</td>\n",
       "      <td>Utilities</td>\n",
       "      <td>CA</td>\n",
       "      <td>(0, 33858)\\t0.1011243161084195\\n  (0, 3755)\\...</td>\n",
       "    </tr>\n",
       "    <tr>\n",
       "      <th>67</th>\n",
       "      <td>Brookfield Renewable Corporation</td>\n",
       "      <td>Utilities—Renewable</td>\n",
       "      <td>[brookfield, renew, corpor, own, oper, portfol...</td>\n",
       "      <td>Utilities</td>\n",
       "      <td>US</td>\n",
       "      <td>(0, 2093)\\t0.3154653083496897\\n  (0, 17836)\\...</td>\n",
       "    </tr>\n",
       "    <tr>\n",
       "      <th>...</th>\n",
       "      <td>...</td>\n",
       "      <td>...</td>\n",
       "      <td>...</td>\n",
       "      <td>...</td>\n",
       "      <td>...</td>\n",
       "      <td>...</td>\n",
       "    </tr>\n",
       "    <tr>\n",
       "      <th>37347</th>\n",
       "      <td>PETRONAS Gas Berhad</td>\n",
       "      <td>Utilities—Regulated Gas</td>\n",
       "      <td>[petrona, gas, berhad, oper, gas, infrastructu...</td>\n",
       "      <td>Utilities</td>\n",
       "      <td>MY</td>\n",
       "      <td>(0, 59472)\\t0.097547969435249\\n  (0, 31143)\\...</td>\n",
       "    </tr>\n",
       "    <tr>\n",
       "      <th>37423</th>\n",
       "      <td>New Energy Solar Limited</td>\n",
       "      <td>Utilities—Renewable</td>\n",
       "      <td>[new, energi, solar, limit, acquir, own, manag...</td>\n",
       "      <td>Utilities</td>\n",
       "      <td>AU</td>\n",
       "      <td>(0, 7711)\\t0.10777822145067113\\n  (0, 68269)...</td>\n",
       "    </tr>\n",
       "    <tr>\n",
       "      <th>37448</th>\n",
       "      <td>PT. Terregra Asia Energy Tbk</td>\n",
       "      <td>Utilities—Renewable</td>\n",
       "      <td>[pt, terregra, asia, energi, tbk, focus, devel...</td>\n",
       "      <td>Utilities</td>\n",
       "      <td>ID</td>\n",
       "      <td>(0, 49119)\\t0.1975860383144303\\n  (0, 76794)...</td>\n",
       "    </tr>\n",
       "    <tr>\n",
       "      <th>37501</th>\n",
       "      <td>Volt Power Group Limited</td>\n",
       "      <td>Utilities—Renewable</td>\n",
       "      <td>[volt, power, group, limit, togeth, subsidiari...</td>\n",
       "      <td>Utilities</td>\n",
       "      <td>AU</td>\n",
       "      <td>(0, 42374)\\t0.18883685613398693\\n  (0, 25786...</td>\n",
       "    </tr>\n",
       "    <tr>\n",
       "      <th>37561</th>\n",
       "      <td>U.S. Wind Farming, Inc.</td>\n",
       "      <td>Utilities—Regulated Electric</td>\n",
       "      <td>[u.s., wind, farm, inc., oper, renew, energi, ...</td>\n",
       "      <td>Utilities</td>\n",
       "      <td>US</td>\n",
       "      <td>(0, 27777)\\t0.32810024727521553\\n  (0, 27761...</td>\n",
       "    </tr>\n",
       "  </tbody>\n",
       "</table>\n",
       "<p>640 rows × 6 columns</p>\n",
       "</div>"
      ],
      "text/plain": [
       "                                 companyName                      industry  \\\n",
       "18                          Xcel Energy Inc.  Utilities—Regulated Electric   \n",
       "45                          PG&E Corporation  Utilities—Regulated Electric   \n",
       "59     American Electric Power Company, Inc.  Utilities—Regulated Electric   \n",
       "61                        Emera Incorporated  Utilities—Regulated Electric   \n",
       "67          Brookfield Renewable Corporation           Utilities—Renewable   \n",
       "...                                      ...                           ...   \n",
       "37347                    PETRONAS Gas Berhad       Utilities—Regulated Gas   \n",
       "37423               New Energy Solar Limited           Utilities—Renewable   \n",
       "37448           PT. Terregra Asia Energy Tbk           Utilities—Renewable   \n",
       "37501               Volt Power Group Limited           Utilities—Renewable   \n",
       "37561                U.S. Wind Farming, Inc.  Utilities—Regulated Electric   \n",
       "\n",
       "                                             description     sector country  \\\n",
       "18     [xcel, energi, inc., subsidiari, generat, purc...  Utilities      US   \n",
       "45     [pg, e, corpor, subsidiari, pacif, gas, electr...  Utilities      US   \n",
       "59     [american, electr, power, compani, inc., elect...  Utilities      US   \n",
       "61     [emera, incorpor, energi, servic, compani, sub...  Utilities      CA   \n",
       "67     [brookfield, renew, corpor, own, oper, portfol...  Utilities      US   \n",
       "...                                                  ...        ...     ...   \n",
       "37347  [petrona, gas, berhad, oper, gas, infrastructu...  Utilities      MY   \n",
       "37423  [new, energi, solar, limit, acquir, own, manag...  Utilities      AU   \n",
       "37448  [pt, terregra, asia, energi, tbk, focus, devel...  Utilities      ID   \n",
       "37501  [volt, power, group, limit, togeth, subsidiari...  Utilities      AU   \n",
       "37561  [u.s., wind, farm, inc., oper, renew, energi, ...  Utilities      US   \n",
       "\n",
       "                                               vec_tfidf  \n",
       "18       (0, 81195)\\t0.0761761948764454\\n  (0, 50486)...  \n",
       "45       (0, 702)\\t0.11030611729742826\\n  (0, 3964)\\t...  \n",
       "59       (0, 17895)\\t0.14865691524689953\\n  (0, 703)\\...  \n",
       "61       (0, 33858)\\t0.1011243161084195\\n  (0, 3755)\\...  \n",
       "67       (0, 2093)\\t0.3154653083496897\\n  (0, 17836)\\...  \n",
       "...                                                  ...  \n",
       "37347    (0, 59472)\\t0.097547969435249\\n  (0, 31143)\\...  \n",
       "37423    (0, 7711)\\t0.10777822145067113\\n  (0, 68269)...  \n",
       "37448    (0, 49119)\\t0.1975860383144303\\n  (0, 76794)...  \n",
       "37501    (0, 42374)\\t0.18883685613398693\\n  (0, 25786...  \n",
       "37561    (0, 27777)\\t0.32810024727521553\\n  (0, 27761...  \n",
       "\n",
       "[640 rows x 6 columns]"
      ]
     },
     "execution_count": 257,
     "metadata": {},
     "output_type": "execute_result"
    }
   ],
   "source": [
    "import random\n",
    "\n",
    "# test_list_keyword = random.sample(list_keywords, 15)\n",
    "# test_list_keyword = [\n",
    "#     # 'company', \n",
    "#                    # 'inc.', 'product',\n",
    "#                     'produces', \n",
    "#                    'healthcare'\n",
    "#                   ]\n",
    "\n",
    "test_list_keyword = ['Utilities', 'Communication Services']\n",
    "\n",
    "\n",
    "\n",
    "\n",
    "\n",
    "\n",
    "test_sector = 'Industrials'\n",
    "\n",
    "filtered_df = reduce_df_size(df_full, sector=test_sector, list_keywords=test_list_keyword)\n",
    "filtered_df"
   ]
  },
  {
   "cell_type": "markdown",
   "id": "-6olhrGlCfcK",
   "metadata": {
    "id": "-6olhrGlCfcK",
    "tags": []
   },
   "source": [
    "# Join description and GDP similarities"
   ]
  },
  {
   "cell_type": "code",
   "execution_count": 14,
   "id": "QfuzVvQPCk5D",
   "metadata": {
    "colab": {
     "base_uri": "https://localhost:8080/",
     "height": 512
    },
    "executionInfo": {
     "elapsed": 323,
     "status": "error",
     "timestamp": 1699466369813,
     "user": {
      "displayName": "Romain MARLET",
      "userId": "18112648248908016912"
     },
     "user_tz": -60
    },
    "id": "QfuzVvQPCk5D",
    "outputId": "1b5f7896-c372-4dee-f830-ab554b4c4c84",
    "tags": []
   },
   "outputs": [],
   "source": [
    "data = load_preprocess_data_tokenized()\n",
    "data = build_tfidf(data)\n",
    "df=data.copy()[:100]"
   ]
  },
  {
   "cell_type": "code",
   "execution_count": 57,
   "id": "f1c3a2cb-c931-4713-8bd3-346fb1f5918e",
   "metadata": {
    "tags": []
   },
   "outputs": [],
   "source": [
    "# df"
   ]
  },
  {
   "cell_type": "code",
   "execution_count": 73,
   "id": "844e6f6b-f8dc-404b-b815-28ae96f56e13",
   "metadata": {
    "tags": []
   },
   "outputs": [],
   "source": [
    "def find_similar_companies(target_company, df, vector_column='vec_tfidf', n=5, similarity='cosine'):\n",
    "    df=df.copy()\n",
    "    df[vector_column] = df[vector_column].apply(lambda x: x.toarray()[0])\n",
    "    target_vector = df.loc[df['companyName'] == target_company][vector_column]\n",
    "\n",
    "    if target_vector.shape[0]>0:\n",
    "        target_vector = target_vector.iloc[0]\n",
    "    else:\n",
    "        print(\"Vérifier le nom de l'entreprise.\")\n",
    "        return -1\n",
    "\n",
    "    if similarity == 'cosine':\n",
    "        similarities = cosine_similarity([target_vector], list(df[vector_column]))\n",
    "\n",
    "        similar_companies = pd.DataFrame({'companyName': df['companyName'], 'Similarity': similarities[0], 'country': df['country']})\n",
    "        similar_companies = similar_companies.sort_values(by='Similarity', ascending=False)\n",
    "\n",
    "    return similar_companies\n",
    "\n",
    "# find_similar_companies(target_company = 'Visa Inc.', df=df)"
   ]
  },
  {
   "cell_type": "code",
   "execution_count": 75,
   "id": "J6PnykKJG1yA",
   "metadata": {
    "colab": {
     "background_save": true
    },
    "id": "J6PnykKJG1yA",
    "tags": []
   },
   "outputs": [],
   "source": [
    "# ranking_similarity = find_similar_companies('Visa Inc.', df)\n",
    "# display(ranking_similarity)\n",
    "\n",
    "def build_similarity_GDP_column(ranking_similarity_description):\n",
    "    \n",
    "    ranking_similarity = ranking_similarity_description.copy()\n",
    "                    \n",
    "    GDP_similarity_matrix = build_GDP_similarity_matrix()\n",
    "    dict_similarity_GDP = {}\n",
    "\n",
    "    for index, row in ranking_similarity.iterrows():\n",
    "        entreprise_similaire = row['companyName']\n",
    "        pays_entreprise_similaire = row['country']\n",
    "        distance_GDP = GDP_similarity_matrix.loc[ranking_similarity.iloc[0]['country'], pays_entreprise_similaire]  # le pays cible est : ranking_similarity.iloc[0]['country']\n",
    "        dict_similarity_GDP[entreprise_similaire] = distance_GDP\n",
    "\n",
    "    ranking_similarity['similarity_GDP'] = [dict_similarity_GDP[entreprise] for entreprise in ranking_similarity['companyName']]\n",
    "    ranking_similarity.drop(columns=['country'], inplace=True)\n",
    "\n",
    "    return ranking_similarity"
   ]
  },
  {
   "cell_type": "code",
   "execution_count": 17,
   "id": "4yOrpYGBOArm",
   "metadata": {
    "colab": {
     "background_save": true
    },
    "id": "4yOrpYGBOArm",
    "tags": []
   },
   "outputs": [],
   "source": [
    "def combine_similarities(ranking_similarity, beta=0.5):\n",
    "    df=ranking_similarity.copy()\n",
    "    df['Similarity'] = (1/(1+beta))*(df['Similarity']+beta*df['similarity_GDP'])\n",
    "    df = df.drop(columns={'similarity_GDP'})\n",
    "    return df"
   ]
  },
  {
   "cell_type": "code",
   "execution_count": 264,
   "id": "04f555a7-0c15-493b-a1d9-a462501b6825",
   "metadata": {
    "tags": []
   },
   "outputs": [],
   "source": [
    "def compute_similarity(df, target_name='Visa Inc.'):\n",
    "    df = df.copy()\n",
    "    ranking_similarity_description = find_similar_companies(target_name, df)\n",
    "    ranking_similarity_description_and_GDP = build_similarity_GDP_column(ranking_similarity_description)\n",
    "    return combine_similarities(ranking_similarity_description_and_GDP, beta=0.5)"
   ]
  },
  {
   "cell_type": "code",
   "execution_count": 265,
   "id": "823a543f-4bea-40ef-9253-6c297cf3d031",
   "metadata": {
    "tags": []
   },
   "outputs": [
    {
     "data": {
      "text/plain": [
       "'Xcel Energy Inc.'"
      ]
     },
     "execution_count": 265,
     "metadata": {},
     "output_type": "execute_result"
    }
   ],
   "source": [
    "filtered_df.iloc[0].companyName"
   ]
  },
  {
   "cell_type": "code",
   "execution_count": 266,
   "id": "76dc7b83-24ce-465b-a51a-eaa7e561a61a",
   "metadata": {
    "tags": []
   },
   "outputs": [
    {
     "data": {
      "text/html": [
       "<div>\n",
       "<style scoped>\n",
       "    .dataframe tbody tr th:only-of-type {\n",
       "        vertical-align: middle;\n",
       "    }\n",
       "\n",
       "    .dataframe tbody tr th {\n",
       "        vertical-align: top;\n",
       "    }\n",
       "\n",
       "    .dataframe thead th {\n",
       "        text-align: right;\n",
       "    }\n",
       "</style>\n",
       "<table border=\"1\" class=\"dataframe\">\n",
       "  <thead>\n",
       "    <tr style=\"text-align: right;\">\n",
       "      <th></th>\n",
       "      <th>companyName</th>\n",
       "      <th>Similarity</th>\n",
       "    </tr>\n",
       "  </thead>\n",
       "  <tbody>\n",
       "    <tr>\n",
       "      <th>18</th>\n",
       "      <td>Xcel Energy Inc.</td>\n",
       "      <td>1.000000</td>\n",
       "    </tr>\n",
       "    <tr>\n",
       "      <th>1211</th>\n",
       "      <td>Black Hills Corporation</td>\n",
       "      <td>0.679636</td>\n",
       "    </tr>\n",
       "    <tr>\n",
       "      <th>2407</th>\n",
       "      <td>CenterPoint Energy, Inc.</td>\n",
       "      <td>0.663868</td>\n",
       "    </tr>\n",
       "    <tr>\n",
       "      <th>746</th>\n",
       "      <td>Duke Energy Corporation</td>\n",
       "      <td>0.662362</td>\n",
       "    </tr>\n",
       "    <tr>\n",
       "      <th>960</th>\n",
       "      <td>Exelon Corporation</td>\n",
       "      <td>0.661961</td>\n",
       "    </tr>\n",
       "    <tr>\n",
       "      <th>...</th>\n",
       "      <td>...</td>\n",
       "      <td>...</td>\n",
       "    </tr>\n",
       "    <tr>\n",
       "      <th>14433</th>\n",
       "      <td>Agripower France SA</td>\n",
       "      <td>0.266533</td>\n",
       "    </tr>\n",
       "    <tr>\n",
       "      <th>17290</th>\n",
       "      <td>Dlaboratory Sweden AB (publ)</td>\n",
       "      <td>0.299005</td>\n",
       "    </tr>\n",
       "    <tr>\n",
       "      <th>10717</th>\n",
       "      <td>Ekopak NV</td>\n",
       "      <td>0.284765</td>\n",
       "    </tr>\n",
       "    <tr>\n",
       "      <th>5006</th>\n",
       "      <td>Companhia de Saneamento de Minas Gerais</td>\n",
       "      <td>0.193931</td>\n",
       "    </tr>\n",
       "    <tr>\n",
       "      <th>26170</th>\n",
       "      <td>Jiangxi Hongcheng Environment Co.,Ltd.</td>\n",
       "      <td>0.200198</td>\n",
       "    </tr>\n",
       "  </tbody>\n",
       "</table>\n",
       "<p>640 rows × 2 columns</p>\n",
       "</div>"
      ],
      "text/plain": [
       "                                   companyName  Similarity\n",
       "18                            Xcel Energy Inc.    1.000000\n",
       "1211                   Black Hills Corporation    0.679636\n",
       "2407                  CenterPoint Energy, Inc.    0.663868\n",
       "746                    Duke Energy Corporation    0.662362\n",
       "960                         Exelon Corporation    0.661961\n",
       "...                                        ...         ...\n",
       "14433                      Agripower France SA    0.266533\n",
       "17290             Dlaboratory Sweden AB (publ)    0.299005\n",
       "10717                                Ekopak NV    0.284765\n",
       "5006   Companhia de Saneamento de Minas Gerais    0.193931\n",
       "26170   Jiangxi Hongcheng Environment Co.,Ltd.    0.200198\n",
       "\n",
       "[640 rows x 2 columns]"
      ]
     },
     "execution_count": 266,
     "metadata": {},
     "output_type": "execute_result"
    }
   ],
   "source": [
    "compute_similarity(filtered_df, target_name='Xcel Energy Inc.')"
   ]
  }
 ],
 "metadata": {
  "colab": {
   "collapsed_sections": [
    "325ada93",
    "f7645b8e"
   ],
   "provenance": []
  },
  "kernelspec": {
   "display_name": "Python 3 (ipykernel)",
   "language": "python",
   "name": "python3"
  },
  "language_info": {
   "codemirror_mode": {
    "name": "ipython",
    "version": 3
   },
   "file_extension": ".py",
   "mimetype": "text/x-python",
   "name": "python",
   "nbconvert_exporter": "python",
   "pygments_lexer": "ipython3",
   "version": "3.11.5"
  }
 },
 "nbformat": 4,
 "nbformat_minor": 5
}
